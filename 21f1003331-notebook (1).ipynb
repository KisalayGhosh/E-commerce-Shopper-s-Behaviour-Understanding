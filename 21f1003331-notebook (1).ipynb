{
 "cells": [
  {
   "cell_type": "code",
   "execution_count": 1,
   "id": "330d61fb",
   "metadata": {
    "_cell_guid": "b1076dfc-b9ad-4769-8c92-a6c4dae69d19",
    "_uuid": "8f2839f25d086af736a60e9eeb907d3b93b6e0e5",
    "execution": {
     "iopub.execute_input": "2023-03-28T20:30:47.206990Z",
     "iopub.status.busy": "2023-03-28T20:30:47.206447Z",
     "iopub.status.idle": "2023-03-28T20:30:47.221071Z",
     "shell.execute_reply": "2023-03-28T20:30:47.219895Z"
    },
    "papermill": {
     "duration": 0.04914,
     "end_time": "2023-03-28T20:30:47.224016",
     "exception": false,
     "start_time": "2023-03-28T20:30:47.174876",
     "status": "completed"
    },
    "tags": []
   },
   "outputs": [
    {
     "name": "stdout",
     "output_type": "stream",
     "text": [
      "/kaggle/input/e-commerce-shoppers-behaviour-understanding/test_data_v2.csv\n",
      "/kaggle/input/e-commerce-shoppers-behaviour-understanding/train_data_v2.csv\n",
      "/kaggle/input/e-commerce-shoppers-behaviour-understanding/sample.csv\n"
     ]
    }
   ],
   "source": [
    "# This Python 3 environment comes with many helpful analytics libraries installed\n",
    "# It is defined by the kaggle/python Docker image: https://github.com/kaggle/docker-python\n",
    "# For example, here's several helpful packages to load\n",
    "\n",
    "import numpy as np # linear algebra\n",
    "import pandas as pd # data processing, CSV file I/O (e.g. pd.read_csv)\n",
    "\n",
    "# Input data files are available in the read-only \"../input/\" directory\n",
    "# For example, running this (by clicking run or pressing Shift+Enter) will list all files under the input directory\n",
    "\n",
    "import os\n",
    "for dirname, _, filenames in os.walk('/kaggle/input'):\n",
    "    for filename in filenames:\n",
    "        print(os.path.join(dirname, filename))\n",
    "\n",
    "# You can write up to 20GB to the current directory (/kaggle/working/) that gets preserved as output when you create a version using \"Save & Run All\" \n",
    "# You can also write temporary files to /kaggle/temp/, but they won't be saved outside of the current session"
   ]
  },
  {
   "cell_type": "code",
   "execution_count": 2,
   "id": "cd374002",
   "metadata": {
    "execution": {
     "iopub.execute_input": "2023-03-28T20:30:47.280549Z",
     "iopub.status.busy": "2023-03-28T20:30:47.280130Z",
     "iopub.status.idle": "2023-03-28T20:30:48.589278Z",
     "shell.execute_reply": "2023-03-28T20:30:48.588194Z"
    },
    "papermill": {
     "duration": 1.340749,
     "end_time": "2023-03-28T20:30:48.592064",
     "exception": false,
     "start_time": "2023-03-28T20:30:47.251315",
     "status": "completed"
    },
    "tags": []
   },
   "outputs": [],
   "source": [
    "test_data = pd.read_csv(\"/kaggle/input/e-commerce-shoppers-behaviour-understanding/test_data_v2.csv\")\n",
    "train_data = pd.read_csv(\"/kaggle/input/e-commerce-shoppers-behaviour-understanding/train_data_v2.csv\")\n",
    "sample_data = pd.read_csv(\"/kaggle/input/e-commerce-shoppers-behaviour-understanding/sample.csv\")\n",
    "\n",
    "from sklearn.dummy import DummyClassifier\n",
    "X = train_data[\"ProductDescriptionPage_Duration\"]\n",
    "y = train_data[\"Made_Purchase\"]\n",
    "dummy_clf = DummyClassifier(strategy=\"most_frequent\")\n",
    "dummy_clf.fit(X, y)\n",
    "DummyClassifier(strategy='most_frequent')\n",
    "dummy_clf.predict(X)\n",
    "\n",
    "sub = pd.DataFrame(dummy_clf.predict(test_data[\"ProductDescriptionPage_Duration\"]), columns=['Made_Purchase'])\n",
    "sub.index.name = 'id'\n",
    "sub.to_csv(\"submission.csv\", encoding='utf-8')\n",
    "\n",
    "output = pd.read_csv(\"submission.csv\")"
   ]
  },
  {
   "cell_type": "code",
   "execution_count": 3,
   "id": "23985438",
   "metadata": {
    "execution": {
     "iopub.execute_input": "2023-03-28T20:30:48.650104Z",
     "iopub.status.busy": "2023-03-28T20:30:48.649428Z",
     "iopub.status.idle": "2023-03-28T20:30:48.677007Z",
     "shell.execute_reply": "2023-03-28T20:30:48.675781Z"
    },
    "papermill": {
     "duration": 0.059044,
     "end_time": "2023-03-28T20:30:48.679690",
     "exception": false,
     "start_time": "2023-03-28T20:30:48.620646",
     "status": "completed"
    },
    "tags": []
   },
   "outputs": [],
   "source": [
    "import numpy as np\n",
    "import pandas as pd\n",
    "import matplotlib.pyplot as plt\n",
    "from sklearn.preprocessing import OrdinalEncoder\n"
   ]
  },
  {
   "cell_type": "code",
   "execution_count": 4,
   "id": "3d9f7adf",
   "metadata": {
    "execution": {
     "iopub.execute_input": "2023-03-28T20:30:48.736618Z",
     "iopub.status.busy": "2023-03-28T20:30:48.735985Z",
     "iopub.status.idle": "2023-03-28T20:30:48.795214Z",
     "shell.execute_reply": "2023-03-28T20:30:48.794241Z"
    },
    "papermill": {
     "duration": 0.090442,
     "end_time": "2023-03-28T20:30:48.798011",
     "exception": false,
     "start_time": "2023-03-28T20:30:48.707569",
     "status": "completed"
    },
    "tags": []
   },
   "outputs": [],
   "source": [
    "df=pd.read_csv(\"/kaggle/input/e-commerce-shoppers-behaviour-understanding/train_data_v2.csv\")"
   ]
  },
  {
   "cell_type": "code",
   "execution_count": 5,
   "id": "18af5dfb",
   "metadata": {
    "execution": {
     "iopub.execute_input": "2023-03-28T20:30:48.856364Z",
     "iopub.status.busy": "2023-03-28T20:30:48.855676Z",
     "iopub.status.idle": "2023-03-28T20:30:48.911319Z",
     "shell.execute_reply": "2023-03-28T20:30:48.910137Z"
    },
    "jupyter": {
     "source_hidden": true
    },
    "papermill": {
     "duration": 0.088301,
     "end_time": "2023-03-28T20:30:48.914378",
     "exception": false,
     "start_time": "2023-03-28T20:30:48.826077",
     "status": "completed"
    },
    "tags": []
   },
   "outputs": [
    {
     "data": {
      "text/html": [
       "<div>\n",
       "<style scoped>\n",
       "    .dataframe tbody tr th:only-of-type {\n",
       "        vertical-align: middle;\n",
       "    }\n",
       "\n",
       "    .dataframe tbody tr th {\n",
       "        vertical-align: top;\n",
       "    }\n",
       "\n",
       "    .dataframe thead th {\n",
       "        text-align: right;\n",
       "    }\n",
       "</style>\n",
       "<table border=\"1\" class=\"dataframe\">\n",
       "  <thead>\n",
       "    <tr style=\"text-align: right;\">\n",
       "      <th></th>\n",
       "      <th>HomePage</th>\n",
       "      <th>HomePage_Duration</th>\n",
       "      <th>LandingPage</th>\n",
       "      <th>LandingPage_Duration</th>\n",
       "      <th>ProductDescriptionPage</th>\n",
       "      <th>ProductDescriptionPage_Duration</th>\n",
       "      <th>GoogleMetric:Bounce Rates</th>\n",
       "      <th>GoogleMetric:Exit Rates</th>\n",
       "      <th>GoogleMetric:Page Values</th>\n",
       "      <th>SeasonalPurchase</th>\n",
       "      <th>...</th>\n",
       "      <th>SearchEngine</th>\n",
       "      <th>Zone</th>\n",
       "      <th>Type of Traffic</th>\n",
       "      <th>CustomerType</th>\n",
       "      <th>Gender</th>\n",
       "      <th>Cookies Setting</th>\n",
       "      <th>Education</th>\n",
       "      <th>Marital Status</th>\n",
       "      <th>WeekendPurchase</th>\n",
       "      <th>Made_Purchase</th>\n",
       "    </tr>\n",
       "  </thead>\n",
       "  <tbody>\n",
       "    <tr>\n",
       "      <th>0</th>\n",
       "      <td>0.0</td>\n",
       "      <td>0.000000</td>\n",
       "      <td>0.0</td>\n",
       "      <td>0.0</td>\n",
       "      <td>1.0</td>\n",
       "      <td>0.000000</td>\n",
       "      <td>0.200000</td>\n",
       "      <td>0.200000</td>\n",
       "      <td>0.0</td>\n",
       "      <td>0.0</td>\n",
       "      <td>...</td>\n",
       "      <td>1.0</td>\n",
       "      <td>9.0</td>\n",
       "      <td>3.0</td>\n",
       "      <td>Returning_Visitor</td>\n",
       "      <td>Not Specified</td>\n",
       "      <td>Deny</td>\n",
       "      <td>Not Specified</td>\n",
       "      <td>Other</td>\n",
       "      <td>0.0</td>\n",
       "      <td>False</td>\n",
       "    </tr>\n",
       "    <tr>\n",
       "      <th>1</th>\n",
       "      <td>0.0</td>\n",
       "      <td>0.000000</td>\n",
       "      <td>0.0</td>\n",
       "      <td>0.0</td>\n",
       "      <td>2.0</td>\n",
       "      <td>2.666667</td>\n",
       "      <td>0.050000</td>\n",
       "      <td>0.140000</td>\n",
       "      <td>0.0</td>\n",
       "      <td>0.0</td>\n",
       "      <td>...</td>\n",
       "      <td>2.0</td>\n",
       "      <td>2.0</td>\n",
       "      <td>4.0</td>\n",
       "      <td>Returning_Visitor</td>\n",
       "      <td>Female</td>\n",
       "      <td>Deny</td>\n",
       "      <td>Others</td>\n",
       "      <td>Married</td>\n",
       "      <td>0.0</td>\n",
       "      <td>False</td>\n",
       "    </tr>\n",
       "    <tr>\n",
       "      <th>2</th>\n",
       "      <td>0.0</td>\n",
       "      <td>0.000000</td>\n",
       "      <td>0.0</td>\n",
       "      <td>0.0</td>\n",
       "      <td>10.0</td>\n",
       "      <td>627.500000</td>\n",
       "      <td>0.020000</td>\n",
       "      <td>0.050000</td>\n",
       "      <td>0.0</td>\n",
       "      <td>0.0</td>\n",
       "      <td>...</td>\n",
       "      <td>3.0</td>\n",
       "      <td>1.0</td>\n",
       "      <td>4.0</td>\n",
       "      <td>Returning_Visitor</td>\n",
       "      <td>Female</td>\n",
       "      <td>ALL</td>\n",
       "      <td>Others</td>\n",
       "      <td>Married</td>\n",
       "      <td>1.0</td>\n",
       "      <td>False</td>\n",
       "    </tr>\n",
       "    <tr>\n",
       "      <th>3</th>\n",
       "      <td>0.0</td>\n",
       "      <td>0.000000</td>\n",
       "      <td>0.0</td>\n",
       "      <td>0.0</td>\n",
       "      <td>1.0</td>\n",
       "      <td>0.000000</td>\n",
       "      <td>0.200000</td>\n",
       "      <td>0.200000</td>\n",
       "      <td>0.0</td>\n",
       "      <td>0.4</td>\n",
       "      <td>...</td>\n",
       "      <td>4.0</td>\n",
       "      <td>3.0</td>\n",
       "      <td>3.0</td>\n",
       "      <td>Returning_Visitor</td>\n",
       "      <td>Male</td>\n",
       "      <td>ALL</td>\n",
       "      <td>Diploma</td>\n",
       "      <td>Single</td>\n",
       "      <td>0.0</td>\n",
       "      <td>False</td>\n",
       "    </tr>\n",
       "    <tr>\n",
       "      <th>4</th>\n",
       "      <td>1.0</td>\n",
       "      <td>0.000000</td>\n",
       "      <td>0.0</td>\n",
       "      <td>0.0</td>\n",
       "      <td>0.0</td>\n",
       "      <td>0.000000</td>\n",
       "      <td>0.200000</td>\n",
       "      <td>0.200000</td>\n",
       "      <td>0.0</td>\n",
       "      <td>0.0</td>\n",
       "      <td>...</td>\n",
       "      <td>2.0</td>\n",
       "      <td>1.0</td>\n",
       "      <td>5.0</td>\n",
       "      <td>Returning_Visitor</td>\n",
       "      <td>Male</td>\n",
       "      <td>Deny</td>\n",
       "      <td>Diploma</td>\n",
       "      <td>Other</td>\n",
       "      <td>1.0</td>\n",
       "      <td>False</td>\n",
       "    </tr>\n",
       "    <tr>\n",
       "      <th>...</th>\n",
       "      <td>...</td>\n",
       "      <td>...</td>\n",
       "      <td>...</td>\n",
       "      <td>...</td>\n",
       "      <td>...</td>\n",
       "      <td>...</td>\n",
       "      <td>...</td>\n",
       "      <td>...</td>\n",
       "      <td>...</td>\n",
       "      <td>...</td>\n",
       "      <td>...</td>\n",
       "      <td>...</td>\n",
       "      <td>...</td>\n",
       "      <td>...</td>\n",
       "      <td>...</td>\n",
       "      <td>...</td>\n",
       "      <td>...</td>\n",
       "      <td>...</td>\n",
       "      <td>...</td>\n",
       "      <td>...</td>\n",
       "      <td>...</td>\n",
       "    </tr>\n",
       "    <tr>\n",
       "      <th>14726</th>\n",
       "      <td>1.0</td>\n",
       "      <td>4.000000</td>\n",
       "      <td>0.0</td>\n",
       "      <td>0.0</td>\n",
       "      <td>39.0</td>\n",
       "      <td>983.138889</td>\n",
       "      <td>0.015385</td>\n",
       "      <td>0.017599</td>\n",
       "      <td>0.0</td>\n",
       "      <td>0.0</td>\n",
       "      <td>...</td>\n",
       "      <td>2.0</td>\n",
       "      <td>6.0</td>\n",
       "      <td>3.0</td>\n",
       "      <td>Returning_Visitor</td>\n",
       "      <td>Female</td>\n",
       "      <td>Deny</td>\n",
       "      <td>NaN</td>\n",
       "      <td>Married</td>\n",
       "      <td>0.0</td>\n",
       "      <td>True</td>\n",
       "    </tr>\n",
       "    <tr>\n",
       "      <th>14727</th>\n",
       "      <td>8.0</td>\n",
       "      <td>117.023809</td>\n",
       "      <td>2.0</td>\n",
       "      <td>57.0</td>\n",
       "      <td>11.0</td>\n",
       "      <td>252.892857</td>\n",
       "      <td>0.000000</td>\n",
       "      <td>0.011078</td>\n",
       "      <td>0.0</td>\n",
       "      <td>0.0</td>\n",
       "      <td>...</td>\n",
       "      <td>2.0</td>\n",
       "      <td>2.0</td>\n",
       "      <td>4.0</td>\n",
       "      <td>Returning_Visitor</td>\n",
       "      <td>Not Specified</td>\n",
       "      <td>ALL</td>\n",
       "      <td>Diploma</td>\n",
       "      <td>Married</td>\n",
       "      <td>0.0</td>\n",
       "      <td>True</td>\n",
       "    </tr>\n",
       "    <tr>\n",
       "      <th>14728</th>\n",
       "      <td>2.0</td>\n",
       "      <td>75.600000</td>\n",
       "      <td>2.0</td>\n",
       "      <td>652.8</td>\n",
       "      <td>10.0</td>\n",
       "      <td>1143.666667</td>\n",
       "      <td>0.000000</td>\n",
       "      <td>0.023333</td>\n",
       "      <td>0.0</td>\n",
       "      <td>0.0</td>\n",
       "      <td>...</td>\n",
       "      <td>2.0</td>\n",
       "      <td>4.0</td>\n",
       "      <td>2.0</td>\n",
       "      <td>Returning_Visitor</td>\n",
       "      <td>Not Specified</td>\n",
       "      <td>Required</td>\n",
       "      <td>Others</td>\n",
       "      <td>Single</td>\n",
       "      <td>0.0</td>\n",
       "      <td>True</td>\n",
       "    </tr>\n",
       "    <tr>\n",
       "      <th>14729</th>\n",
       "      <td>0.0</td>\n",
       "      <td>0.000000</td>\n",
       "      <td>0.0</td>\n",
       "      <td>0.0</td>\n",
       "      <td>6.0</td>\n",
       "      <td>1057.000000</td>\n",
       "      <td>0.000000</td>\n",
       "      <td>0.033333</td>\n",
       "      <td>0.0</td>\n",
       "      <td>0.0</td>\n",
       "      <td>...</td>\n",
       "      <td>4.0</td>\n",
       "      <td>4.0</td>\n",
       "      <td>1.0</td>\n",
       "      <td>Returning_Visitor</td>\n",
       "      <td>Not Specified</td>\n",
       "      <td>Required</td>\n",
       "      <td>Not Specified</td>\n",
       "      <td>Married</td>\n",
       "      <td>0.0</td>\n",
       "      <td>True</td>\n",
       "    </tr>\n",
       "    <tr>\n",
       "      <th>14730</th>\n",
       "      <td>0.0</td>\n",
       "      <td>0.000000</td>\n",
       "      <td>0.0</td>\n",
       "      <td>0.0</td>\n",
       "      <td>21.0</td>\n",
       "      <td>1372.700000</td>\n",
       "      <td>0.019048</td>\n",
       "      <td>0.035714</td>\n",
       "      <td>0.0</td>\n",
       "      <td>0.0</td>\n",
       "      <td>...</td>\n",
       "      <td>1.0</td>\n",
       "      <td>3.0</td>\n",
       "      <td>1.0</td>\n",
       "      <td>Returning_Visitor</td>\n",
       "      <td>Female</td>\n",
       "      <td>ALL</td>\n",
       "      <td>Diploma</td>\n",
       "      <td>Other</td>\n",
       "      <td>0.0</td>\n",
       "      <td>True</td>\n",
       "    </tr>\n",
       "  </tbody>\n",
       "</table>\n",
       "<p>14731 rows × 22 columns</p>\n",
       "</div>"
      ],
      "text/plain": [
       "       HomePage  HomePage_Duration  LandingPage  LandingPage_Duration  \\\n",
       "0           0.0           0.000000          0.0                   0.0   \n",
       "1           0.0           0.000000          0.0                   0.0   \n",
       "2           0.0           0.000000          0.0                   0.0   \n",
       "3           0.0           0.000000          0.0                   0.0   \n",
       "4           1.0           0.000000          0.0                   0.0   \n",
       "...         ...                ...          ...                   ...   \n",
       "14726       1.0           4.000000          0.0                   0.0   \n",
       "14727       8.0         117.023809          2.0                  57.0   \n",
       "14728       2.0          75.600000          2.0                 652.8   \n",
       "14729       0.0           0.000000          0.0                   0.0   \n",
       "14730       0.0           0.000000          0.0                   0.0   \n",
       "\n",
       "       ProductDescriptionPage  ProductDescriptionPage_Duration  \\\n",
       "0                         1.0                         0.000000   \n",
       "1                         2.0                         2.666667   \n",
       "2                        10.0                       627.500000   \n",
       "3                         1.0                         0.000000   \n",
       "4                         0.0                         0.000000   \n",
       "...                       ...                              ...   \n",
       "14726                    39.0                       983.138889   \n",
       "14727                    11.0                       252.892857   \n",
       "14728                    10.0                      1143.666667   \n",
       "14729                     6.0                      1057.000000   \n",
       "14730                    21.0                      1372.700000   \n",
       "\n",
       "       GoogleMetric:Bounce Rates  GoogleMetric:Exit Rates  \\\n",
       "0                       0.200000                 0.200000   \n",
       "1                       0.050000                 0.140000   \n",
       "2                       0.020000                 0.050000   \n",
       "3                       0.200000                 0.200000   \n",
       "4                       0.200000                 0.200000   \n",
       "...                          ...                      ...   \n",
       "14726                   0.015385                 0.017599   \n",
       "14727                   0.000000                 0.011078   \n",
       "14728                   0.000000                 0.023333   \n",
       "14729                   0.000000                 0.033333   \n",
       "14730                   0.019048                 0.035714   \n",
       "\n",
       "       GoogleMetric:Page Values  SeasonalPurchase  ... SearchEngine  Zone  \\\n",
       "0                           0.0               0.0  ...          1.0   9.0   \n",
       "1                           0.0               0.0  ...          2.0   2.0   \n",
       "2                           0.0               0.0  ...          3.0   1.0   \n",
       "3                           0.0               0.4  ...          4.0   3.0   \n",
       "4                           0.0               0.0  ...          2.0   1.0   \n",
       "...                         ...               ...  ...          ...   ...   \n",
       "14726                       0.0               0.0  ...          2.0   6.0   \n",
       "14727                       0.0               0.0  ...          2.0   2.0   \n",
       "14728                       0.0               0.0  ...          2.0   4.0   \n",
       "14729                       0.0               0.0  ...          4.0   4.0   \n",
       "14730                       0.0               0.0  ...          1.0   3.0   \n",
       "\n",
       "       Type of Traffic       CustomerType         Gender Cookies Setting  \\\n",
       "0                  3.0  Returning_Visitor  Not Specified            Deny   \n",
       "1                  4.0  Returning_Visitor         Female            Deny   \n",
       "2                  4.0  Returning_Visitor         Female             ALL   \n",
       "3                  3.0  Returning_Visitor           Male             ALL   \n",
       "4                  5.0  Returning_Visitor           Male            Deny   \n",
       "...                ...                ...            ...             ...   \n",
       "14726              3.0  Returning_Visitor         Female            Deny   \n",
       "14727              4.0  Returning_Visitor  Not Specified             ALL   \n",
       "14728              2.0  Returning_Visitor  Not Specified        Required   \n",
       "14729              1.0  Returning_Visitor  Not Specified        Required   \n",
       "14730              1.0  Returning_Visitor         Female             ALL   \n",
       "\n",
       "           Education Marital Status WeekendPurchase Made_Purchase  \n",
       "0      Not Specified          Other             0.0         False  \n",
       "1             Others        Married             0.0         False  \n",
       "2             Others        Married             1.0         False  \n",
       "3            Diploma         Single             0.0         False  \n",
       "4            Diploma          Other             1.0         False  \n",
       "...              ...            ...             ...           ...  \n",
       "14726            NaN        Married             0.0          True  \n",
       "14727        Diploma        Married             0.0          True  \n",
       "14728         Others         Single             0.0          True  \n",
       "14729  Not Specified        Married             0.0          True  \n",
       "14730        Diploma          Other             0.0          True  \n",
       "\n",
       "[14731 rows x 22 columns]"
      ]
     },
     "execution_count": 5,
     "metadata": {},
     "output_type": "execute_result"
    }
   ],
   "source": [
    "df"
   ]
  },
  {
   "cell_type": "code",
   "execution_count": 6,
   "id": "45babe8e",
   "metadata": {
    "execution": {
     "iopub.execute_input": "2023-03-28T20:30:48.972907Z",
     "iopub.status.busy": "2023-03-28T20:30:48.972187Z",
     "iopub.status.idle": "2023-03-28T20:30:48.986242Z",
     "shell.execute_reply": "2023-03-28T20:30:48.985143Z"
    },
    "papermill": {
     "duration": 0.046199,
     "end_time": "2023-03-28T20:30:48.988471",
     "exception": false,
     "start_time": "2023-03-28T20:30:48.942272",
     "status": "completed"
    },
    "tags": []
   },
   "outputs": [
    {
     "data": {
      "text/plain": [
       "HomePage                           153\n",
       "HomePage_Duration                  150\n",
       "LandingPage                        153\n",
       "LandingPage_Duration               135\n",
       "ProductDescriptionPage             123\n",
       "ProductDescriptionPage_Duration    167\n",
       "GoogleMetric:Bounce Rates          151\n",
       "GoogleMetric:Exit Rates            129\n",
       "GoogleMetric:Page Values           132\n",
       "SeasonalPurchase                   150\n",
       "Month_SeasonalPurchase             144\n",
       "OS                                 134\n",
       "SearchEngine                       122\n",
       "Zone                               117\n",
       "Type of Traffic                    143\n",
       "CustomerType                       144\n",
       "Gender                             145\n",
       "Cookies Setting                    144\n",
       "Education                          136\n",
       "Marital Status                     130\n",
       "WeekendPurchase                    121\n",
       "Made_Purchase                        0\n",
       "dtype: int64"
      ]
     },
     "execution_count": 6,
     "metadata": {},
     "output_type": "execute_result"
    }
   ],
   "source": [
    "df.isnull().sum()"
   ]
  },
  {
   "cell_type": "code",
   "execution_count": 7,
   "id": "9b91beb7",
   "metadata": {
    "execution": {
     "iopub.execute_input": "2023-03-28T20:30:49.046814Z",
     "iopub.status.busy": "2023-03-28T20:30:49.046353Z",
     "iopub.status.idle": "2023-03-28T20:30:49.060896Z",
     "shell.execute_reply": "2023-03-28T20:30:49.059739Z"
    },
    "papermill": {
     "duration": 0.047142,
     "end_time": "2023-03-28T20:30:49.063402",
     "exception": false,
     "start_time": "2023-03-28T20:30:49.016260",
     "status": "completed"
    },
    "tags": []
   },
   "outputs": [
    {
     "data": {
      "text/plain": [
       "0.0     6977\n",
       "1.0     1580\n",
       "2.0     1264\n",
       "3.0     1114\n",
       "4.0      882\n",
       "5.0      700\n",
       "6.0      485\n",
       "7.0      385\n",
       "8.0      303\n",
       "9.0      252\n",
       "10.0     180\n",
       "11.0     111\n",
       "12.0     101\n",
       "13.0      60\n",
       "14.0      56\n",
       "15.0      41\n",
       "16.0      22\n",
       "17.0      20\n",
       "18.0      14\n",
       "19.0       7\n",
       "22.0       7\n",
       "23.0       6\n",
       "24.0       3\n",
       "21.0       3\n",
       "20.0       3\n",
       "27.0       1\n",
       "26.0       1\n",
       "Name: HomePage, dtype: int64"
      ]
     },
     "execution_count": 7,
     "metadata": {},
     "output_type": "execute_result"
    }
   ],
   "source": [
    "df['HomePage'].value_counts()"
   ]
  },
  {
   "cell_type": "code",
   "execution_count": 8,
   "id": "cfd95ef3",
   "metadata": {
    "execution": {
     "iopub.execute_input": "2023-03-28T20:30:49.122571Z",
     "iopub.status.busy": "2023-03-28T20:30:49.121445Z",
     "iopub.status.idle": "2023-03-28T20:30:49.127698Z",
     "shell.execute_reply": "2023-03-28T20:30:49.126671Z"
    },
    "papermill": {
     "duration": 0.038104,
     "end_time": "2023-03-28T20:30:49.130149",
     "exception": false,
     "start_time": "2023-03-28T20:30:49.092045",
     "status": "completed"
    },
    "tags": []
   },
   "outputs": [],
   "source": [
    "df['HomePage'].fillna(0, inplace=True)"
   ]
  },
  {
   "cell_type": "code",
   "execution_count": 9,
   "id": "e41a9c6f",
   "metadata": {
    "execution": {
     "iopub.execute_input": "2023-03-28T20:30:49.188540Z",
     "iopub.status.busy": "2023-03-28T20:30:49.188082Z",
     "iopub.status.idle": "2023-03-28T20:30:49.198324Z",
     "shell.execute_reply": "2023-03-28T20:30:49.197066Z"
    },
    "papermill": {
     "duration": 0.042803,
     "end_time": "2023-03-28T20:30:49.200966",
     "exception": false,
     "start_time": "2023-03-28T20:30:49.158163",
     "status": "completed"
    },
    "tags": []
   },
   "outputs": [
    {
     "data": {
      "text/plain": [
       "0.000000      7130\n",
       "4.000000        76\n",
       "5.000000        62\n",
       "11.000000       55\n",
       "6.000000        49\n",
       "              ... \n",
       "405.550000       1\n",
       "101.851111       1\n",
       "218.966667       1\n",
       "291.235714       1\n",
       "168.700000       1\n",
       "Name: HomePage_Duration, Length: 2844, dtype: int64"
      ]
     },
     "execution_count": 9,
     "metadata": {},
     "output_type": "execute_result"
    }
   ],
   "source": [
    "df['HomePage_Duration'].value_counts()"
   ]
  },
  {
   "cell_type": "code",
   "execution_count": 10,
   "id": "0847ce70",
   "metadata": {
    "execution": {
     "iopub.execute_input": "2023-03-28T20:30:49.259418Z",
     "iopub.status.busy": "2023-03-28T20:30:49.259010Z",
     "iopub.status.idle": "2023-03-28T20:30:49.268457Z",
     "shell.execute_reply": "2023-03-28T20:30:49.267539Z"
    },
    "papermill": {
     "duration": 0.041182,
     "end_time": "2023-03-28T20:30:49.270710",
     "exception": false,
     "start_time": "2023-03-28T20:30:49.229528",
     "status": "completed"
    },
    "tags": []
   },
   "outputs": [
    {
     "data": {
      "text/plain": [
       "5.0"
      ]
     },
     "execution_count": 10,
     "metadata": {},
     "output_type": "execute_result"
    }
   ],
   "source": [
    "df['HomePage_Duration'].median()"
   ]
  },
  {
   "cell_type": "code",
   "execution_count": 11,
   "id": "24d212b4",
   "metadata": {
    "execution": {
     "iopub.execute_input": "2023-03-28T20:30:49.330296Z",
     "iopub.status.busy": "2023-03-28T20:30:49.329309Z",
     "iopub.status.idle": "2023-03-28T20:30:49.335533Z",
     "shell.execute_reply": "2023-03-28T20:30:49.334602Z"
    },
    "papermill": {
     "duration": 0.039416,
     "end_time": "2023-03-28T20:30:49.338198",
     "exception": false,
     "start_time": "2023-03-28T20:30:49.298782",
     "status": "completed"
    },
    "tags": []
   },
   "outputs": [],
   "source": [
    "df['HomePage_Duration'].fillna(0, inplace=True)"
   ]
  },
  {
   "cell_type": "code",
   "execution_count": 12,
   "id": "ae569e35",
   "metadata": {
    "execution": {
     "iopub.execute_input": "2023-03-28T20:30:49.395820Z",
     "iopub.status.busy": "2023-03-28T20:30:49.395417Z",
     "iopub.status.idle": "2023-03-28T20:30:49.405476Z",
     "shell.execute_reply": "2023-03-28T20:30:49.404131Z"
    },
    "papermill": {
     "duration": 0.041886,
     "end_time": "2023-03-28T20:30:49.407934",
     "exception": false,
     "start_time": "2023-03-28T20:30:49.366048",
     "status": "completed"
    },
    "tags": []
   },
   "outputs": [
    {
     "data": {
      "text/plain": [
       "0.0     11525\n",
       "1.0      1206\n",
       "2.0       859\n",
       "3.0       452\n",
       "4.0       239\n",
       "5.0       119\n",
       "6.0        89\n",
       "7.0        40\n",
       "8.0        13\n",
       "9.0        12\n",
       "10.0        9\n",
       "12.0        5\n",
       "13.0        4\n",
       "14.0        2\n",
       "16.0        2\n",
       "11.0        1\n",
       "24.0        1\n",
       "Name: LandingPage, dtype: int64"
      ]
     },
     "execution_count": 12,
     "metadata": {},
     "output_type": "execute_result"
    }
   ],
   "source": [
    "df['LandingPage'].value_counts()"
   ]
  },
  {
   "cell_type": "code",
   "execution_count": 13,
   "id": "42f664b0",
   "metadata": {
    "execution": {
     "iopub.execute_input": "2023-03-28T20:30:49.466223Z",
     "iopub.status.busy": "2023-03-28T20:30:49.465824Z",
     "iopub.status.idle": "2023-03-28T20:30:49.471752Z",
     "shell.execute_reply": "2023-03-28T20:30:49.470650Z"
    },
    "papermill": {
     "duration": 0.037834,
     "end_time": "2023-03-28T20:30:49.474122",
     "exception": false,
     "start_time": "2023-03-28T20:30:49.436288",
     "status": "completed"
    },
    "tags": []
   },
   "outputs": [],
   "source": [
    "df['LandingPage'].fillna(0, inplace=True)"
   ]
  },
  {
   "cell_type": "code",
   "execution_count": 14,
   "id": "e3c49a54",
   "metadata": {
    "execution": {
     "iopub.execute_input": "2023-03-28T20:30:49.532230Z",
     "iopub.status.busy": "2023-03-28T20:30:49.531810Z",
     "iopub.status.idle": "2023-03-28T20:30:49.542675Z",
     "shell.execute_reply": "2023-03-28T20:30:49.541560Z"
    },
    "papermill": {
     "duration": 0.043021,
     "end_time": "2023-03-28T20:30:49.545093",
     "exception": false,
     "start_time": "2023-03-28T20:30:49.502072",
     "status": "completed"
    },
    "tags": []
   },
   "outputs": [
    {
     "data": {
      "text/plain": [
       "0.000000      11804\n",
       "13.000000        35\n",
       "10.000000        34\n",
       "9.000000         33\n",
       "11.000000        30\n",
       "              ...  \n",
       "181.722222        1\n",
       "147.500000        1\n",
       "341.333333        1\n",
       "126.750000        1\n",
       "103.166667        1\n",
       "Name: LandingPage_Duration, Length: 1084, dtype: int64"
      ]
     },
     "execution_count": 14,
     "metadata": {},
     "output_type": "execute_result"
    }
   ],
   "source": [
    "df['LandingPage_Duration'].value_counts()"
   ]
  },
  {
   "cell_type": "code",
   "execution_count": 15,
   "id": "6bb6651e",
   "metadata": {
    "execution": {
     "iopub.execute_input": "2023-03-28T20:30:49.604790Z",
     "iopub.status.busy": "2023-03-28T20:30:49.603825Z",
     "iopub.status.idle": "2023-03-28T20:30:49.610347Z",
     "shell.execute_reply": "2023-03-28T20:30:49.609098Z"
    },
    "papermill": {
     "duration": 0.038725,
     "end_time": "2023-03-28T20:30:49.612665",
     "exception": false,
     "start_time": "2023-03-28T20:30:49.573940",
     "status": "completed"
    },
    "tags": []
   },
   "outputs": [],
   "source": [
    "df['LandingPage_Duration'].fillna(0, inplace=True)"
   ]
  },
  {
   "cell_type": "code",
   "execution_count": 16,
   "id": "be250709",
   "metadata": {
    "execution": {
     "iopub.execute_input": "2023-03-28T20:30:49.674539Z",
     "iopub.status.busy": "2023-03-28T20:30:49.674152Z",
     "iopub.status.idle": "2023-03-28T20:30:49.688349Z",
     "shell.execute_reply": "2023-03-28T20:30:49.687117Z"
    },
    "papermill": {
     "duration": 0.048253,
     "end_time": "2023-03-28T20:30:49.690910",
     "exception": false,
     "start_time": "2023-03-28T20:30:49.642657",
     "status": "completed"
    },
    "tags": []
   },
   "outputs": [
    {
     "data": {
      "text/plain": [
       "5.0     452\n",
       "8.0     416\n",
       "10.0    410\n",
       "9.0     372\n",
       "12.0    356\n",
       "13.0    344\n",
       "11.0    325\n",
       "16.0    308\n",
       "14.0    304\n",
       "15.0    300\n",
       "17.0    292\n",
       "19.0    270\n",
       "22.0    259\n",
       "20.0    257\n",
       "18.0    230\n",
       "24.0    229\n",
       "21.0    225\n",
       "27.0    213\n",
       "23.0    191\n",
       "25.0    186\n",
       "Name: ProductDescriptionPage, dtype: int64"
      ]
     },
     "execution_count": 16,
     "metadata": {},
     "output_type": "execute_result"
    }
   ],
   "source": [
    "df['ProductDescriptionPage'].value_counts()[5:25]"
   ]
  },
  {
   "cell_type": "code",
   "execution_count": 17,
   "id": "7cea9e09",
   "metadata": {
    "execution": {
     "iopub.execute_input": "2023-03-28T20:30:49.751347Z",
     "iopub.status.busy": "2023-03-28T20:30:49.750948Z",
     "iopub.status.idle": "2023-03-28T20:30:49.759242Z",
     "shell.execute_reply": "2023-03-28T20:30:49.757946Z"
    },
    "papermill": {
     "duration": 0.041604,
     "end_time": "2023-03-28T20:30:49.761619",
     "exception": false,
     "start_time": "2023-03-28T20:30:49.720015",
     "status": "completed"
    },
    "tags": []
   },
   "outputs": [
    {
     "data": {
      "text/plain": [
       "17.5"
      ]
     },
     "execution_count": 17,
     "metadata": {},
     "output_type": "execute_result"
    }
   ],
   "source": [
    "df['ProductDescriptionPage'].median()"
   ]
  },
  {
   "cell_type": "code",
   "execution_count": 18,
   "id": "b7ed9ff6",
   "metadata": {
    "execution": {
     "iopub.execute_input": "2023-03-28T20:30:49.823070Z",
     "iopub.status.busy": "2023-03-28T20:30:49.822623Z",
     "iopub.status.idle": "2023-03-28T20:30:49.829152Z",
     "shell.execute_reply": "2023-03-28T20:30:49.827525Z"
    },
    "papermill": {
     "duration": 0.040861,
     "end_time": "2023-03-28T20:30:49.832079",
     "exception": false,
     "start_time": "2023-03-28T20:30:49.791218",
     "status": "completed"
    },
    "tags": []
   },
   "outputs": [],
   "source": [
    "df['ProductDescriptionPage'].fillna(18, inplace=True)"
   ]
  },
  {
   "cell_type": "code",
   "execution_count": 19,
   "id": "a9c5a494",
   "metadata": {
    "execution": {
     "iopub.execute_input": "2023-03-28T20:30:49.892591Z",
     "iopub.status.busy": "2023-03-28T20:30:49.892182Z",
     "iopub.status.idle": "2023-03-28T20:30:49.903331Z",
     "shell.execute_reply": "2023-03-28T20:30:49.902148Z"
    },
    "papermill": {
     "duration": 0.044486,
     "end_time": "2023-03-28T20:30:49.905998",
     "exception": false,
     "start_time": "2023-03-28T20:30:49.861512",
     "status": "completed"
    },
    "tags": []
   },
   "outputs": [
    {
     "data": {
      "text/plain": [
       "0.000000       957\n",
       "17.000000       27\n",
       "8.000000        21\n",
       "11.000000       21\n",
       "7.000000        20\n",
       "              ... \n",
       "1510.383333      1\n",
       "1475.608427      1\n",
       "5046.056667      1\n",
       "269.960000       1\n",
       "271.716667       1\n",
       "Name: ProductDescriptionPage_Duration, Length: 7933, dtype: int64"
      ]
     },
     "execution_count": 19,
     "metadata": {},
     "output_type": "execute_result"
    }
   ],
   "source": [
    "df['ProductDescriptionPage_Duration'].value_counts()"
   ]
  },
  {
   "cell_type": "code",
   "execution_count": 20,
   "id": "c99ca25f",
   "metadata": {
    "execution": {
     "iopub.execute_input": "2023-03-28T20:30:49.967176Z",
     "iopub.status.busy": "2023-03-28T20:30:49.966747Z",
     "iopub.status.idle": "2023-03-28T20:30:49.973258Z",
     "shell.execute_reply": "2023-03-28T20:30:49.971625Z"
    },
    "papermill": {
     "duration": 0.040777,
     "end_time": "2023-03-28T20:30:49.976073",
     "exception": false,
     "start_time": "2023-03-28T20:30:49.935296",
     "status": "completed"
    },
    "tags": []
   },
   "outputs": [],
   "source": [
    "df['ProductDescriptionPage_Duration'].fillna(0, inplace=True)"
   ]
  },
  {
   "cell_type": "code",
   "execution_count": 21,
   "id": "54db9547",
   "metadata": {
    "execution": {
     "iopub.execute_input": "2023-03-28T20:30:50.036684Z",
     "iopub.status.busy": "2023-03-28T20:30:50.036293Z",
     "iopub.status.idle": "2023-03-28T20:30:50.047166Z",
     "shell.execute_reply": "2023-03-28T20:30:50.046166Z"
    },
    "papermill": {
     "duration": 0.044502,
     "end_time": "2023-03-28T20:30:50.049523",
     "exception": false,
     "start_time": "2023-03-28T20:30:50.005021",
     "status": "completed"
    },
    "tags": []
   },
   "outputs": [
    {
     "data": {
      "text/plain": [
       "0.000000    6409\n",
       "0.200000     895\n",
       "0.066667     160\n",
       "0.050000     135\n",
       "0.028571     132\n",
       "            ... \n",
       "0.040351       1\n",
       "0.080838       1\n",
       "0.023457       1\n",
       "0.107692       1\n",
       "0.068293       1\n",
       "Name: GoogleMetric:Bounce Rates, Length: 1628, dtype: int64"
      ]
     },
     "execution_count": 21,
     "metadata": {},
     "output_type": "execute_result"
    }
   ],
   "source": [
    "df['GoogleMetric:Bounce Rates'].value_counts()"
   ]
  },
  {
   "cell_type": "code",
   "execution_count": 22,
   "id": "17b5c661",
   "metadata": {
    "execution": {
     "iopub.execute_input": "2023-03-28T20:30:50.111156Z",
     "iopub.status.busy": "2023-03-28T20:30:50.110159Z",
     "iopub.status.idle": "2023-03-28T20:30:50.119961Z",
     "shell.execute_reply": "2023-03-28T20:30:50.118682Z"
    },
    "papermill": {
     "duration": 0.043308,
     "end_time": "2023-03-28T20:30:50.122610",
     "exception": false,
     "start_time": "2023-03-28T20:30:50.079302",
     "status": "completed"
    },
    "tags": []
   },
   "outputs": [
    {
     "data": {
      "text/plain": [
       "0    0.0\n",
       "dtype: float64"
      ]
     },
     "execution_count": 22,
     "metadata": {},
     "output_type": "execute_result"
    }
   ],
   "source": [
    "df['GoogleMetric:Bounce Rates'].mode()"
   ]
  },
  {
   "cell_type": "code",
   "execution_count": 23,
   "id": "ea1c0b1a",
   "metadata": {
    "execution": {
     "iopub.execute_input": "2023-03-28T20:30:50.183345Z",
     "iopub.status.busy": "2023-03-28T20:30:50.182914Z",
     "iopub.status.idle": "2023-03-28T20:30:50.188989Z",
     "shell.execute_reply": "2023-03-28T20:30:50.187744Z"
    },
    "papermill": {
     "duration": 0.039509,
     "end_time": "2023-03-28T20:30:50.191524",
     "exception": false,
     "start_time": "2023-03-28T20:30:50.152015",
     "status": "completed"
    },
    "tags": []
   },
   "outputs": [],
   "source": [
    "df['GoogleMetric:Bounce Rates'].fillna(0, inplace=True)"
   ]
  },
  {
   "cell_type": "code",
   "execution_count": 24,
   "id": "3851927a",
   "metadata": {
    "execution": {
     "iopub.execute_input": "2023-03-28T20:30:50.252077Z",
     "iopub.status.busy": "2023-03-28T20:30:50.251299Z",
     "iopub.status.idle": "2023-03-28T20:30:50.261232Z",
     "shell.execute_reply": "2023-03-28T20:30:50.260094Z"
    },
    "papermill": {
     "duration": 0.042989,
     "end_time": "2023-03-28T20:30:50.263663",
     "exception": false,
     "start_time": "2023-03-28T20:30:50.220674",
     "status": "completed"
    },
    "tags": []
   },
   "outputs": [
    {
     "data": {
      "text/plain": [
       "0.200000    913\n",
       "0.050000    410\n",
       "0.100000    404\n",
       "0.033333    339\n",
       "0.066667    313\n",
       "           ... \n",
       "0.027551      1\n",
       "0.071984      1\n",
       "0.047380      1\n",
       "0.007912      1\n",
       "0.070139      1\n",
       "Name: GoogleMetric:Exit Rates, Length: 4051, dtype: int64"
      ]
     },
     "execution_count": 24,
     "metadata": {},
     "output_type": "execute_result"
    }
   ],
   "source": [
    "df['GoogleMetric:Exit Rates'].value_counts()"
   ]
  },
  {
   "cell_type": "code",
   "execution_count": 25,
   "id": "38feb411",
   "metadata": {
    "execution": {
     "iopub.execute_input": "2023-03-28T20:30:50.323819Z",
     "iopub.status.busy": "2023-03-28T20:30:50.323121Z",
     "iopub.status.idle": "2023-03-28T20:30:50.331547Z",
     "shell.execute_reply": "2023-03-28T20:30:50.330277Z"
    },
    "papermill": {
     "duration": 0.041219,
     "end_time": "2023-03-28T20:30:50.333898",
     "exception": false,
     "start_time": "2023-03-28T20:30:50.292679",
     "status": "completed"
    },
    "tags": []
   },
   "outputs": [
    {
     "data": {
      "text/plain": [
       "0    0.2\n",
       "dtype: float64"
      ]
     },
     "execution_count": 25,
     "metadata": {},
     "output_type": "execute_result"
    }
   ],
   "source": [
    "df['GoogleMetric:Exit Rates'].mode()"
   ]
  },
  {
   "cell_type": "code",
   "execution_count": 26,
   "id": "615250b4",
   "metadata": {
    "execution": {
     "iopub.execute_input": "2023-03-28T20:30:50.396051Z",
     "iopub.status.busy": "2023-03-28T20:30:50.394860Z",
     "iopub.status.idle": "2023-03-28T20:30:50.401183Z",
     "shell.execute_reply": "2023-03-28T20:30:50.400215Z"
    },
    "papermill": {
     "duration": 0.040017,
     "end_time": "2023-03-28T20:30:50.403574",
     "exception": false,
     "start_time": "2023-03-28T20:30:50.363557",
     "status": "completed"
    },
    "tags": []
   },
   "outputs": [],
   "source": [
    "df['GoogleMetric:Exit Rates'].fillna(0.2, inplace=True)"
   ]
  },
  {
   "cell_type": "code",
   "execution_count": 27,
   "id": "8860cf42",
   "metadata": {
    "execution": {
     "iopub.execute_input": "2023-03-28T20:30:50.465640Z",
     "iopub.status.busy": "2023-03-28T20:30:50.464337Z",
     "iopub.status.idle": "2023-03-28T20:30:50.475325Z",
     "shell.execute_reply": "2023-03-28T20:30:50.474144Z"
    },
    "papermill": {
     "duration": 0.043769,
     "end_time": "2023-03-28T20:30:50.477667",
     "exception": false,
     "start_time": "2023-03-28T20:30:50.433898",
     "status": "completed"
    },
    "tags": []
   },
   "outputs": [
    {
     "data": {
      "text/plain": [
       "0.000000     11787\n",
       "42.293068        5\n",
       "53.988000        5\n",
       "14.759436        4\n",
       "10.485333        4\n",
       "             ...  \n",
       "83.101143        1\n",
       "87.306958        1\n",
       "2.395283         1\n",
       "71.488000        1\n",
       "82.432635        1\n",
       "Name: GoogleMetric:Page Values, Length: 2120, dtype: int64"
      ]
     },
     "execution_count": 27,
     "metadata": {},
     "output_type": "execute_result"
    }
   ],
   "source": [
    "df['GoogleMetric:Page Values'].value_counts()"
   ]
  },
  {
   "cell_type": "code",
   "execution_count": 28,
   "id": "150c9ab5",
   "metadata": {
    "execution": {
     "iopub.execute_input": "2023-03-28T20:30:50.540497Z",
     "iopub.status.busy": "2023-03-28T20:30:50.539224Z",
     "iopub.status.idle": "2023-03-28T20:30:50.545148Z",
     "shell.execute_reply": "2023-03-28T20:30:50.544166Z"
    },
    "papermill": {
     "duration": 0.04051,
     "end_time": "2023-03-28T20:30:50.547774",
     "exception": false,
     "start_time": "2023-03-28T20:30:50.507264",
     "status": "completed"
    },
    "tags": []
   },
   "outputs": [],
   "source": [
    "df['GoogleMetric:Page Values'].fillna(0.0, inplace=True)"
   ]
  },
  {
   "cell_type": "code",
   "execution_count": 29,
   "id": "b65c242d",
   "metadata": {
    "execution": {
     "iopub.execute_input": "2023-03-28T20:30:50.610402Z",
     "iopub.status.busy": "2023-03-28T20:30:50.609693Z",
     "iopub.status.idle": "2023-03-28T20:30:50.619964Z",
     "shell.execute_reply": "2023-03-28T20:30:50.618644Z"
    },
    "papermill": {
     "duration": 0.04423,
     "end_time": "2023-03-28T20:30:50.622534",
     "exception": false,
     "start_time": "2023-03-28T20:30:50.578304",
     "status": "completed"
    },
    "tags": []
   },
   "outputs": [
    {
     "data": {
      "text/plain": [
       "0.0    13034\n",
       "0.6      427\n",
       "0.8      398\n",
       "0.4      313\n",
       "0.2      218\n",
       "1.0      191\n",
       "Name: SeasonalPurchase, dtype: int64"
      ]
     },
     "execution_count": 29,
     "metadata": {},
     "output_type": "execute_result"
    }
   ],
   "source": [
    "df['SeasonalPurchase'].value_counts()"
   ]
  },
  {
   "cell_type": "code",
   "execution_count": 30,
   "id": "131cfbed",
   "metadata": {
    "execution": {
     "iopub.execute_input": "2023-03-28T20:30:50.684014Z",
     "iopub.status.busy": "2023-03-28T20:30:50.683587Z",
     "iopub.status.idle": "2023-03-28T20:30:50.690217Z",
     "shell.execute_reply": "2023-03-28T20:30:50.689014Z"
    },
    "papermill": {
     "duration": 0.040329,
     "end_time": "2023-03-28T20:30:50.692735",
     "exception": false,
     "start_time": "2023-03-28T20:30:50.652406",
     "status": "completed"
    },
    "tags": []
   },
   "outputs": [],
   "source": [
    "df['SeasonalPurchase'].fillna(0.0, inplace=True)"
   ]
  },
  {
   "cell_type": "code",
   "execution_count": 31,
   "id": "d336b3b3",
   "metadata": {
    "execution": {
     "iopub.execute_input": "2023-03-28T20:30:50.753937Z",
     "iopub.status.busy": "2023-03-28T20:30:50.753514Z",
     "iopub.status.idle": "2023-03-28T20:30:50.763527Z",
     "shell.execute_reply": "2023-03-28T20:30:50.762273Z"
    },
    "papermill": {
     "duration": 0.043947,
     "end_time": "2023-03-28T20:30:50.766100",
     "exception": false,
     "start_time": "2023-03-28T20:30:50.722153",
     "status": "completed"
    },
    "tags": []
   },
   "outputs": [
    {
     "data": {
      "text/plain": [
       "May     4121\n",
       "Nov     3439\n",
       "Mar     2300\n",
       "Dec     2013\n",
       "Oct      628\n",
       "Sep      519\n",
       "Aug      510\n",
       "Jul      487\n",
       "June     349\n",
       "Feb      221\n",
       "Name: Month_SeasonalPurchase, dtype: int64"
      ]
     },
     "execution_count": 31,
     "metadata": {},
     "output_type": "execute_result"
    }
   ],
   "source": [
    "df['Month_SeasonalPurchase'].value_counts()"
   ]
  },
  {
   "cell_type": "code",
   "execution_count": 32,
   "id": "75077ea2",
   "metadata": {
    "execution": {
     "iopub.execute_input": "2023-03-28T20:30:50.827749Z",
     "iopub.status.busy": "2023-03-28T20:30:50.827347Z",
     "iopub.status.idle": "2023-03-28T20:30:50.837074Z",
     "shell.execute_reply": "2023-03-28T20:30:50.835798Z"
    },
    "papermill": {
     "duration": 0.043447,
     "end_time": "2023-03-28T20:30:50.839418",
     "exception": false,
     "start_time": "2023-03-28T20:30:50.795971",
     "status": "completed"
    },
    "tags": []
   },
   "outputs": [
    {
     "data": {
      "text/plain": [
       "0    May\n",
       "dtype: object"
      ]
     },
     "execution_count": 32,
     "metadata": {},
     "output_type": "execute_result"
    }
   ],
   "source": [
    "df['Month_SeasonalPurchase'].mode()"
   ]
  },
  {
   "cell_type": "code",
   "execution_count": 33,
   "id": "618dc09f",
   "metadata": {
    "execution": {
     "iopub.execute_input": "2023-03-28T20:30:50.901402Z",
     "iopub.status.busy": "2023-03-28T20:30:50.901008Z",
     "iopub.status.idle": "2023-03-28T20:30:50.908195Z",
     "shell.execute_reply": "2023-03-28T20:30:50.906794Z"
    },
    "papermill": {
     "duration": 0.041036,
     "end_time": "2023-03-28T20:30:50.910827",
     "exception": false,
     "start_time": "2023-03-28T20:30:50.869791",
     "status": "completed"
    },
    "tags": []
   },
   "outputs": [],
   "source": [
    "df['Month_SeasonalPurchase'].fillna('May', inplace=True)"
   ]
  },
  {
   "cell_type": "code",
   "execution_count": 34,
   "id": "dc65370d",
   "metadata": {
    "execution": {
     "iopub.execute_input": "2023-03-28T20:30:50.973801Z",
     "iopub.status.busy": "2023-03-28T20:30:50.973370Z",
     "iopub.status.idle": "2023-03-28T20:30:50.983100Z",
     "shell.execute_reply": "2023-03-28T20:30:50.982162Z"
    },
    "papermill": {
     "duration": 0.043728,
     "end_time": "2023-03-28T20:30:50.985244",
     "exception": false,
     "start_time": "2023-03-28T20:30:50.941516",
     "status": "completed"
    },
    "tags": []
   },
   "outputs": [
    {
     "data": {
      "text/plain": [
       "2.0    7832\n",
       "1.0    3072\n",
       "3.0    2987\n",
       "4.0     572\n",
       "8.0      96\n",
       "6.0      26\n",
       "7.0       6\n",
       "5.0       6\n",
       "Name: OS, dtype: int64"
      ]
     },
     "execution_count": 34,
     "metadata": {},
     "output_type": "execute_result"
    }
   ],
   "source": [
    "df['OS'].value_counts()"
   ]
  },
  {
   "cell_type": "code",
   "execution_count": 35,
   "id": "f2c9cd4a",
   "metadata": {
    "execution": {
     "iopub.execute_input": "2023-03-28T20:30:51.047014Z",
     "iopub.status.busy": "2023-03-28T20:30:51.046608Z",
     "iopub.status.idle": "2023-03-28T20:30:51.052458Z",
     "shell.execute_reply": "2023-03-28T20:30:51.051210Z"
    },
    "papermill": {
     "duration": 0.039674,
     "end_time": "2023-03-28T20:30:51.054782",
     "exception": false,
     "start_time": "2023-03-28T20:30:51.015108",
     "status": "completed"
    },
    "tags": []
   },
   "outputs": [],
   "source": [
    "df['OS'].fillna(2.0, inplace=True)"
   ]
  },
  {
   "cell_type": "code",
   "execution_count": 36,
   "id": "d024bd68",
   "metadata": {
    "execution": {
     "iopub.execute_input": "2023-03-28T20:30:51.117673Z",
     "iopub.status.busy": "2023-03-28T20:30:51.117266Z",
     "iopub.status.idle": "2023-03-28T20:30:51.126881Z",
     "shell.execute_reply": "2023-03-28T20:30:51.125854Z"
    },
    "papermill": {
     "duration": 0.044533,
     "end_time": "2023-03-28T20:30:51.129807",
     "exception": false,
     "start_time": "2023-03-28T20:30:51.085274",
     "status": "completed"
    },
    "tags": []
   },
   "outputs": [
    {
     "data": {
      "text/plain": [
       "2.0     9382\n",
       "1.0     2959\n",
       "4.0      879\n",
       "5.0      539\n",
       "6.0      211\n",
       "10.0     200\n",
       "8.0      154\n",
       "3.0      127\n",
       "13.0      73\n",
       "7.0       69\n",
       "12.0       9\n",
       "11.0       6\n",
       "9.0        1\n",
       "Name: SearchEngine, dtype: int64"
      ]
     },
     "execution_count": 36,
     "metadata": {},
     "output_type": "execute_result"
    }
   ],
   "source": [
    "df['SearchEngine'].value_counts()"
   ]
  },
  {
   "cell_type": "code",
   "execution_count": 37,
   "id": "d54da1c5",
   "metadata": {
    "execution": {
     "iopub.execute_input": "2023-03-28T20:30:51.192223Z",
     "iopub.status.busy": "2023-03-28T20:30:51.191810Z",
     "iopub.status.idle": "2023-03-28T20:30:51.197587Z",
     "shell.execute_reply": "2023-03-28T20:30:51.196329Z"
    },
    "papermill": {
     "duration": 0.040044,
     "end_time": "2023-03-28T20:30:51.200016",
     "exception": false,
     "start_time": "2023-03-28T20:30:51.159972",
     "status": "completed"
    },
    "tags": []
   },
   "outputs": [],
   "source": [
    "df['SearchEngine'].fillna(2.0, inplace=True)"
   ]
  },
  {
   "cell_type": "code",
   "execution_count": 38,
   "id": "42760898",
   "metadata": {
    "execution": {
     "iopub.execute_input": "2023-03-28T20:30:51.261651Z",
     "iopub.status.busy": "2023-03-28T20:30:51.261259Z",
     "iopub.status.idle": "2023-03-28T20:30:51.269937Z",
     "shell.execute_reply": "2023-03-28T20:30:51.269038Z"
    },
    "papermill": {
     "duration": 0.042417,
     "end_time": "2023-03-28T20:30:51.272341",
     "exception": false,
     "start_time": "2023-03-28T20:30:51.229924",
     "status": "completed"
    },
    "tags": []
   },
   "outputs": [
    {
     "data": {
      "text/plain": [
       "1.0    5648\n",
       "3.0    2853\n",
       "4.0    1374\n",
       "2.0    1353\n",
       "6.0     970\n",
       "7.0     943\n",
       "9.0     601\n",
       "8.0     506\n",
       "5.0     366\n",
       "Name: Zone, dtype: int64"
      ]
     },
     "execution_count": 38,
     "metadata": {},
     "output_type": "execute_result"
    }
   ],
   "source": [
    "df['Zone'].value_counts()"
   ]
  },
  {
   "cell_type": "code",
   "execution_count": 39,
   "id": "2d47f1f2",
   "metadata": {
    "execution": {
     "iopub.execute_input": "2023-03-28T20:30:51.334487Z",
     "iopub.status.busy": "2023-03-28T20:30:51.334070Z",
     "iopub.status.idle": "2023-03-28T20:30:51.339987Z",
     "shell.execute_reply": "2023-03-28T20:30:51.338752Z"
    },
    "papermill": {
     "duration": 0.039924,
     "end_time": "2023-03-28T20:30:51.342516",
     "exception": false,
     "start_time": "2023-03-28T20:30:51.302592",
     "status": "completed"
    },
    "tags": []
   },
   "outputs": [],
   "source": [
    "df['Zone'].fillna(1.0, inplace=True)"
   ]
  },
  {
   "cell_type": "code",
   "execution_count": 40,
   "id": "c1b7b195",
   "metadata": {
    "execution": {
     "iopub.execute_input": "2023-03-28T20:30:51.404940Z",
     "iopub.status.busy": "2023-03-28T20:30:51.404477Z",
     "iopub.status.idle": "2023-03-28T20:30:51.415879Z",
     "shell.execute_reply": "2023-03-28T20:30:51.414179Z"
    },
    "papermill": {
     "duration": 0.045714,
     "end_time": "2023-03-28T20:30:51.418746",
     "exception": false,
     "start_time": "2023-03-28T20:30:51.373032",
     "status": "completed"
    },
    "tags": []
   },
   "outputs": [
    {
     "data": {
      "text/plain": [
       "2.0     4553\n",
       "1.0     2919\n",
       "3.0     2463\n",
       "4.0     1300\n",
       "13.0     930\n",
       "10.0     546\n",
       "6.0      505\n",
       "8.0      388\n",
       "11.0     284\n",
       "5.0      284\n",
       "20.0     225\n",
       "9.0       52\n",
       "15.0      44\n",
       "7.0       42\n",
       "19.0      20\n",
       "14.0      14\n",
       "18.0      13\n",
       "16.0       4\n",
       "12.0       1\n",
       "17.0       1\n",
       "Name: Type of Traffic, dtype: int64"
      ]
     },
     "execution_count": 40,
     "metadata": {},
     "output_type": "execute_result"
    }
   ],
   "source": [
    "df['Type of Traffic'].value_counts()"
   ]
  },
  {
   "cell_type": "code",
   "execution_count": 41,
   "id": "cb7d31ab",
   "metadata": {
    "execution": {
     "iopub.execute_input": "2023-03-28T20:30:51.482517Z",
     "iopub.status.busy": "2023-03-28T20:30:51.482102Z",
     "iopub.status.idle": "2023-03-28T20:30:51.488666Z",
     "shell.execute_reply": "2023-03-28T20:30:51.487256Z"
    },
    "papermill": {
     "duration": 0.041721,
     "end_time": "2023-03-28T20:30:51.491306",
     "exception": false,
     "start_time": "2023-03-28T20:30:51.449585",
     "status": "completed"
    },
    "tags": []
   },
   "outputs": [],
   "source": [
    "df['Type of Traffic'].fillna(2.0, inplace=True)"
   ]
  },
  {
   "cell_type": "code",
   "execution_count": 42,
   "id": "107a1f49",
   "metadata": {
    "execution": {
     "iopub.execute_input": "2023-03-28T20:30:51.554448Z",
     "iopub.status.busy": "2023-03-28T20:30:51.554055Z",
     "iopub.status.idle": "2023-03-28T20:30:51.564262Z",
     "shell.execute_reply": "2023-03-28T20:30:51.563088Z"
    },
    "papermill": {
     "duration": 0.04512,
     "end_time": "2023-03-28T20:30:51.566992",
     "exception": false,
     "start_time": "2023-03-28T20:30:51.521872",
     "status": "completed"
    },
    "tags": []
   },
   "outputs": [
    {
     "data": {
      "text/plain": [
       "Returning_Visitor    12550\n",
       "New_Visitor           1925\n",
       "Other                  112\n",
       "Name: CustomerType, dtype: int64"
      ]
     },
     "execution_count": 42,
     "metadata": {},
     "output_type": "execute_result"
    }
   ],
   "source": [
    "df['CustomerType'].value_counts()"
   ]
  },
  {
   "cell_type": "code",
   "execution_count": 43,
   "id": "8558d29b",
   "metadata": {
    "execution": {
     "iopub.execute_input": "2023-03-28T20:30:51.631427Z",
     "iopub.status.busy": "2023-03-28T20:30:51.631006Z",
     "iopub.status.idle": "2023-03-28T20:30:51.638463Z",
     "shell.execute_reply": "2023-03-28T20:30:51.637455Z"
    },
    "papermill": {
     "duration": 0.043533,
     "end_time": "2023-03-28T20:30:51.640931",
     "exception": false,
     "start_time": "2023-03-28T20:30:51.597398",
     "status": "completed"
    },
    "tags": []
   },
   "outputs": [],
   "source": [
    "df['CustomerType'].fillna('Returning_Visitor', inplace=True)"
   ]
  },
  {
   "cell_type": "code",
   "execution_count": 44,
   "id": "c9d5e42b",
   "metadata": {
    "execution": {
     "iopub.execute_input": "2023-03-28T20:30:51.704067Z",
     "iopub.status.busy": "2023-03-28T20:30:51.703642Z",
     "iopub.status.idle": "2023-03-28T20:30:51.713762Z",
     "shell.execute_reply": "2023-03-28T20:30:51.712571Z"
    },
    "papermill": {
     "duration": 0.044455,
     "end_time": "2023-03-28T20:30:51.716165",
     "exception": false,
     "start_time": "2023-03-28T20:30:51.671710",
     "status": "completed"
    },
    "tags": []
   },
   "outputs": [
    {
     "data": {
      "text/plain": [
       "Not Specified    4971\n",
       "Female           4829\n",
       "Male             4786\n",
       "Name: Gender, dtype: int64"
      ]
     },
     "execution_count": 44,
     "metadata": {},
     "output_type": "execute_result"
    }
   ],
   "source": [
    "df['Gender'].value_counts()"
   ]
  },
  {
   "cell_type": "code",
   "execution_count": 45,
   "id": "dc80bd19",
   "metadata": {
    "execution": {
     "iopub.execute_input": "2023-03-28T20:30:51.779700Z",
     "iopub.status.busy": "2023-03-28T20:30:51.779265Z",
     "iopub.status.idle": "2023-03-28T20:30:51.786114Z",
     "shell.execute_reply": "2023-03-28T20:30:51.785123Z"
    },
    "papermill": {
     "duration": 0.041501,
     "end_time": "2023-03-28T20:30:51.788401",
     "exception": false,
     "start_time": "2023-03-28T20:30:51.746900",
     "status": "completed"
    },
    "tags": []
   },
   "outputs": [],
   "source": [
    "df['Gender'].fillna('Not Specified', inplace=True)"
   ]
  },
  {
   "cell_type": "code",
   "execution_count": 46,
   "id": "82c2ebd5",
   "metadata": {
    "execution": {
     "iopub.execute_input": "2023-03-28T20:30:51.850663Z",
     "iopub.status.busy": "2023-03-28T20:30:51.850256Z",
     "iopub.status.idle": "2023-03-28T20:30:51.860186Z",
     "shell.execute_reply": "2023-03-28T20:30:51.859057Z"
    },
    "papermill": {
     "duration": 0.044076,
     "end_time": "2023-03-28T20:30:51.862691",
     "exception": false,
     "start_time": "2023-03-28T20:30:51.818615",
     "status": "completed"
    },
    "tags": []
   },
   "outputs": [
    {
     "data": {
      "text/plain": [
       "Deny        4964\n",
       "Required    4867\n",
       "ALL         4756\n",
       "Name: Cookies Setting, dtype: int64"
      ]
     },
     "execution_count": 46,
     "metadata": {},
     "output_type": "execute_result"
    }
   ],
   "source": [
    "df['Cookies Setting'].value_counts()"
   ]
  },
  {
   "cell_type": "code",
   "execution_count": 47,
   "id": "f7d766ed",
   "metadata": {
    "execution": {
     "iopub.execute_input": "2023-03-28T20:30:51.927047Z",
     "iopub.status.busy": "2023-03-28T20:30:51.926603Z",
     "iopub.status.idle": "2023-03-28T20:30:51.934091Z",
     "shell.execute_reply": "2023-03-28T20:30:51.932582Z"
    },
    "papermill": {
     "duration": 0.041972,
     "end_time": "2023-03-28T20:30:51.936718",
     "exception": false,
     "start_time": "2023-03-28T20:30:51.894746",
     "status": "completed"
    },
    "tags": []
   },
   "outputs": [],
   "source": [
    "df['Cookies Setting'].fillna('Deny', inplace=True)"
   ]
  },
  {
   "cell_type": "code",
   "execution_count": 48,
   "id": "8298feda",
   "metadata": {
    "execution": {
     "iopub.execute_input": "2023-03-28T20:30:52.000896Z",
     "iopub.status.busy": "2023-03-28T20:30:52.000468Z",
     "iopub.status.idle": "2023-03-28T20:30:52.009443Z",
     "shell.execute_reply": "2023-03-28T20:30:52.008557Z"
    },
    "papermill": {
     "duration": 0.043205,
     "end_time": "2023-03-28T20:30:52.011574",
     "exception": false,
     "start_time": "2023-03-28T20:30:51.968369",
     "status": "completed"
    },
    "tags": []
   },
   "outputs": [
    {
     "data": {
      "text/plain": [
       "Others           3726\n",
       "Graduate         3691\n",
       "Diploma          3653\n",
       "Not Specified    3525\n",
       "Name: Education, dtype: int64"
      ]
     },
     "execution_count": 48,
     "metadata": {},
     "output_type": "execute_result"
    }
   ],
   "source": [
    "df['Education'].value_counts()"
   ]
  },
  {
   "cell_type": "code",
   "execution_count": 49,
   "id": "6e074a6a",
   "metadata": {
    "execution": {
     "iopub.execute_input": "2023-03-28T20:30:52.076062Z",
     "iopub.status.busy": "2023-03-28T20:30:52.075568Z",
     "iopub.status.idle": "2023-03-28T20:30:52.082845Z",
     "shell.execute_reply": "2023-03-28T20:30:52.081550Z"
    },
    "papermill": {
     "duration": 0.042897,
     "end_time": "2023-03-28T20:30:52.085534",
     "exception": false,
     "start_time": "2023-03-28T20:30:52.042637",
     "status": "completed"
    },
    "tags": []
   },
   "outputs": [],
   "source": [
    "df['Education'].fillna('Others', inplace=True)"
   ]
  },
  {
   "cell_type": "code",
   "execution_count": 50,
   "id": "3e77aa4e",
   "metadata": {
    "execution": {
     "iopub.execute_input": "2023-03-28T20:30:52.150526Z",
     "iopub.status.busy": "2023-03-28T20:30:52.150105Z",
     "iopub.status.idle": "2023-03-28T20:30:52.160092Z",
     "shell.execute_reply": "2023-03-28T20:30:52.158813Z"
    },
    "papermill": {
     "duration": 0.045865,
     "end_time": "2023-03-28T20:30:52.162823",
     "exception": false,
     "start_time": "2023-03-28T20:30:52.116958",
     "status": "completed"
    },
    "tags": []
   },
   "outputs": [
    {
     "data": {
      "text/plain": [
       "Other      4952\n",
       "Single     4919\n",
       "Married    4730\n",
       "Name: Marital Status, dtype: int64"
      ]
     },
     "execution_count": 50,
     "metadata": {},
     "output_type": "execute_result"
    }
   ],
   "source": [
    "df['Marital Status'].value_counts()"
   ]
  },
  {
   "cell_type": "code",
   "execution_count": 51,
   "id": "114d226d",
   "metadata": {
    "execution": {
     "iopub.execute_input": "2023-03-28T20:30:52.228678Z",
     "iopub.status.busy": "2023-03-28T20:30:52.228261Z",
     "iopub.status.idle": "2023-03-28T20:30:52.235709Z",
     "shell.execute_reply": "2023-03-28T20:30:52.234815Z"
    },
    "papermill": {
     "duration": 0.042721,
     "end_time": "2023-03-28T20:30:52.237955",
     "exception": false,
     "start_time": "2023-03-28T20:30:52.195234",
     "status": "completed"
    },
    "tags": []
   },
   "outputs": [],
   "source": [
    "df['Marital Status'].fillna('Other', inplace=True)"
   ]
  },
  {
   "cell_type": "code",
   "execution_count": 52,
   "id": "f117da43",
   "metadata": {
    "execution": {
     "iopub.execute_input": "2023-03-28T20:30:52.301372Z",
     "iopub.status.busy": "2023-03-28T20:30:52.300948Z",
     "iopub.status.idle": "2023-03-28T20:30:52.310620Z",
     "shell.execute_reply": "2023-03-28T20:30:52.309644Z"
    },
    "papermill": {
     "duration": 0.044481,
     "end_time": "2023-03-28T20:30:52.313137",
     "exception": false,
     "start_time": "2023-03-28T20:30:52.268656",
     "status": "completed"
    },
    "tags": []
   },
   "outputs": [
    {
     "data": {
      "text/plain": [
       "0.0    11189\n",
       "1.0     3421\n",
       "Name: WeekendPurchase, dtype: int64"
      ]
     },
     "execution_count": 52,
     "metadata": {},
     "output_type": "execute_result"
    }
   ],
   "source": [
    "df['WeekendPurchase'].value_counts()"
   ]
  },
  {
   "cell_type": "code",
   "execution_count": 53,
   "id": "537d5328",
   "metadata": {
    "execution": {
     "iopub.execute_input": "2023-03-28T20:30:52.377096Z",
     "iopub.status.busy": "2023-03-28T20:30:52.376617Z",
     "iopub.status.idle": "2023-03-28T20:30:52.382621Z",
     "shell.execute_reply": "2023-03-28T20:30:52.381388Z"
    },
    "papermill": {
     "duration": 0.041328,
     "end_time": "2023-03-28T20:30:52.385237",
     "exception": false,
     "start_time": "2023-03-28T20:30:52.343909",
     "status": "completed"
    },
    "tags": []
   },
   "outputs": [],
   "source": [
    "df['WeekendPurchase'].fillna(0.0, inplace=True)"
   ]
  },
  {
   "cell_type": "code",
   "execution_count": 54,
   "id": "64f36584",
   "metadata": {
    "execution": {
     "iopub.execute_input": "2023-03-28T20:30:52.449589Z",
     "iopub.status.busy": "2023-03-28T20:30:52.449184Z",
     "iopub.status.idle": "2023-03-28T20:30:52.493235Z",
     "shell.execute_reply": "2023-03-28T20:30:52.492192Z"
    },
    "papermill": {
     "duration": 0.079169,
     "end_time": "2023-03-28T20:30:52.495702",
     "exception": false,
     "start_time": "2023-03-28T20:30:52.416533",
     "status": "completed"
    },
    "tags": []
   },
   "outputs": [
    {
     "data": {
      "text/html": [
       "<div>\n",
       "<style scoped>\n",
       "    .dataframe tbody tr th:only-of-type {\n",
       "        vertical-align: middle;\n",
       "    }\n",
       "\n",
       "    .dataframe tbody tr th {\n",
       "        vertical-align: top;\n",
       "    }\n",
       "\n",
       "    .dataframe thead th {\n",
       "        text-align: right;\n",
       "    }\n",
       "</style>\n",
       "<table border=\"1\" class=\"dataframe\">\n",
       "  <thead>\n",
       "    <tr style=\"text-align: right;\">\n",
       "      <th></th>\n",
       "      <th>HomePage</th>\n",
       "      <th>HomePage_Duration</th>\n",
       "      <th>LandingPage</th>\n",
       "      <th>LandingPage_Duration</th>\n",
       "      <th>ProductDescriptionPage</th>\n",
       "      <th>ProductDescriptionPage_Duration</th>\n",
       "      <th>GoogleMetric:Bounce Rates</th>\n",
       "      <th>GoogleMetric:Exit Rates</th>\n",
       "      <th>GoogleMetric:Page Values</th>\n",
       "      <th>SeasonalPurchase</th>\n",
       "      <th>...</th>\n",
       "      <th>SearchEngine</th>\n",
       "      <th>Zone</th>\n",
       "      <th>Type of Traffic</th>\n",
       "      <th>CustomerType</th>\n",
       "      <th>Gender</th>\n",
       "      <th>Cookies Setting</th>\n",
       "      <th>Education</th>\n",
       "      <th>Marital Status</th>\n",
       "      <th>WeekendPurchase</th>\n",
       "      <th>Made_Purchase</th>\n",
       "    </tr>\n",
       "  </thead>\n",
       "  <tbody>\n",
       "    <tr>\n",
       "      <th>0</th>\n",
       "      <td>0.0</td>\n",
       "      <td>0.000000</td>\n",
       "      <td>0.0</td>\n",
       "      <td>0.0</td>\n",
       "      <td>1.0</td>\n",
       "      <td>0.000000</td>\n",
       "      <td>0.200000</td>\n",
       "      <td>0.200000</td>\n",
       "      <td>0.0</td>\n",
       "      <td>0.0</td>\n",
       "      <td>...</td>\n",
       "      <td>1.0</td>\n",
       "      <td>9.0</td>\n",
       "      <td>3.0</td>\n",
       "      <td>Returning_Visitor</td>\n",
       "      <td>Not Specified</td>\n",
       "      <td>Deny</td>\n",
       "      <td>Not Specified</td>\n",
       "      <td>Other</td>\n",
       "      <td>0.0</td>\n",
       "      <td>False</td>\n",
       "    </tr>\n",
       "    <tr>\n",
       "      <th>1</th>\n",
       "      <td>0.0</td>\n",
       "      <td>0.000000</td>\n",
       "      <td>0.0</td>\n",
       "      <td>0.0</td>\n",
       "      <td>2.0</td>\n",
       "      <td>2.666667</td>\n",
       "      <td>0.050000</td>\n",
       "      <td>0.140000</td>\n",
       "      <td>0.0</td>\n",
       "      <td>0.0</td>\n",
       "      <td>...</td>\n",
       "      <td>2.0</td>\n",
       "      <td>2.0</td>\n",
       "      <td>4.0</td>\n",
       "      <td>Returning_Visitor</td>\n",
       "      <td>Female</td>\n",
       "      <td>Deny</td>\n",
       "      <td>Others</td>\n",
       "      <td>Married</td>\n",
       "      <td>0.0</td>\n",
       "      <td>False</td>\n",
       "    </tr>\n",
       "    <tr>\n",
       "      <th>2</th>\n",
       "      <td>0.0</td>\n",
       "      <td>0.000000</td>\n",
       "      <td>0.0</td>\n",
       "      <td>0.0</td>\n",
       "      <td>10.0</td>\n",
       "      <td>627.500000</td>\n",
       "      <td>0.020000</td>\n",
       "      <td>0.050000</td>\n",
       "      <td>0.0</td>\n",
       "      <td>0.0</td>\n",
       "      <td>...</td>\n",
       "      <td>3.0</td>\n",
       "      <td>1.0</td>\n",
       "      <td>4.0</td>\n",
       "      <td>Returning_Visitor</td>\n",
       "      <td>Female</td>\n",
       "      <td>ALL</td>\n",
       "      <td>Others</td>\n",
       "      <td>Married</td>\n",
       "      <td>1.0</td>\n",
       "      <td>False</td>\n",
       "    </tr>\n",
       "    <tr>\n",
       "      <th>3</th>\n",
       "      <td>0.0</td>\n",
       "      <td>0.000000</td>\n",
       "      <td>0.0</td>\n",
       "      <td>0.0</td>\n",
       "      <td>1.0</td>\n",
       "      <td>0.000000</td>\n",
       "      <td>0.200000</td>\n",
       "      <td>0.200000</td>\n",
       "      <td>0.0</td>\n",
       "      <td>0.4</td>\n",
       "      <td>...</td>\n",
       "      <td>4.0</td>\n",
       "      <td>3.0</td>\n",
       "      <td>3.0</td>\n",
       "      <td>Returning_Visitor</td>\n",
       "      <td>Male</td>\n",
       "      <td>ALL</td>\n",
       "      <td>Diploma</td>\n",
       "      <td>Single</td>\n",
       "      <td>0.0</td>\n",
       "      <td>False</td>\n",
       "    </tr>\n",
       "    <tr>\n",
       "      <th>4</th>\n",
       "      <td>1.0</td>\n",
       "      <td>0.000000</td>\n",
       "      <td>0.0</td>\n",
       "      <td>0.0</td>\n",
       "      <td>0.0</td>\n",
       "      <td>0.000000</td>\n",
       "      <td>0.200000</td>\n",
       "      <td>0.200000</td>\n",
       "      <td>0.0</td>\n",
       "      <td>0.0</td>\n",
       "      <td>...</td>\n",
       "      <td>2.0</td>\n",
       "      <td>1.0</td>\n",
       "      <td>5.0</td>\n",
       "      <td>Returning_Visitor</td>\n",
       "      <td>Male</td>\n",
       "      <td>Deny</td>\n",
       "      <td>Diploma</td>\n",
       "      <td>Other</td>\n",
       "      <td>1.0</td>\n",
       "      <td>False</td>\n",
       "    </tr>\n",
       "    <tr>\n",
       "      <th>...</th>\n",
       "      <td>...</td>\n",
       "      <td>...</td>\n",
       "      <td>...</td>\n",
       "      <td>...</td>\n",
       "      <td>...</td>\n",
       "      <td>...</td>\n",
       "      <td>...</td>\n",
       "      <td>...</td>\n",
       "      <td>...</td>\n",
       "      <td>...</td>\n",
       "      <td>...</td>\n",
       "      <td>...</td>\n",
       "      <td>...</td>\n",
       "      <td>...</td>\n",
       "      <td>...</td>\n",
       "      <td>...</td>\n",
       "      <td>...</td>\n",
       "      <td>...</td>\n",
       "      <td>...</td>\n",
       "      <td>...</td>\n",
       "      <td>...</td>\n",
       "    </tr>\n",
       "    <tr>\n",
       "      <th>14726</th>\n",
       "      <td>1.0</td>\n",
       "      <td>4.000000</td>\n",
       "      <td>0.0</td>\n",
       "      <td>0.0</td>\n",
       "      <td>39.0</td>\n",
       "      <td>983.138889</td>\n",
       "      <td>0.015385</td>\n",
       "      <td>0.017599</td>\n",
       "      <td>0.0</td>\n",
       "      <td>0.0</td>\n",
       "      <td>...</td>\n",
       "      <td>2.0</td>\n",
       "      <td>6.0</td>\n",
       "      <td>3.0</td>\n",
       "      <td>Returning_Visitor</td>\n",
       "      <td>Female</td>\n",
       "      <td>Deny</td>\n",
       "      <td>Others</td>\n",
       "      <td>Married</td>\n",
       "      <td>0.0</td>\n",
       "      <td>True</td>\n",
       "    </tr>\n",
       "    <tr>\n",
       "      <th>14727</th>\n",
       "      <td>8.0</td>\n",
       "      <td>117.023809</td>\n",
       "      <td>2.0</td>\n",
       "      <td>57.0</td>\n",
       "      <td>11.0</td>\n",
       "      <td>252.892857</td>\n",
       "      <td>0.000000</td>\n",
       "      <td>0.011078</td>\n",
       "      <td>0.0</td>\n",
       "      <td>0.0</td>\n",
       "      <td>...</td>\n",
       "      <td>2.0</td>\n",
       "      <td>2.0</td>\n",
       "      <td>4.0</td>\n",
       "      <td>Returning_Visitor</td>\n",
       "      <td>Not Specified</td>\n",
       "      <td>ALL</td>\n",
       "      <td>Diploma</td>\n",
       "      <td>Married</td>\n",
       "      <td>0.0</td>\n",
       "      <td>True</td>\n",
       "    </tr>\n",
       "    <tr>\n",
       "      <th>14728</th>\n",
       "      <td>2.0</td>\n",
       "      <td>75.600000</td>\n",
       "      <td>2.0</td>\n",
       "      <td>652.8</td>\n",
       "      <td>10.0</td>\n",
       "      <td>1143.666667</td>\n",
       "      <td>0.000000</td>\n",
       "      <td>0.023333</td>\n",
       "      <td>0.0</td>\n",
       "      <td>0.0</td>\n",
       "      <td>...</td>\n",
       "      <td>2.0</td>\n",
       "      <td>4.0</td>\n",
       "      <td>2.0</td>\n",
       "      <td>Returning_Visitor</td>\n",
       "      <td>Not Specified</td>\n",
       "      <td>Required</td>\n",
       "      <td>Others</td>\n",
       "      <td>Single</td>\n",
       "      <td>0.0</td>\n",
       "      <td>True</td>\n",
       "    </tr>\n",
       "    <tr>\n",
       "      <th>14729</th>\n",
       "      <td>0.0</td>\n",
       "      <td>0.000000</td>\n",
       "      <td>0.0</td>\n",
       "      <td>0.0</td>\n",
       "      <td>6.0</td>\n",
       "      <td>1057.000000</td>\n",
       "      <td>0.000000</td>\n",
       "      <td>0.033333</td>\n",
       "      <td>0.0</td>\n",
       "      <td>0.0</td>\n",
       "      <td>...</td>\n",
       "      <td>4.0</td>\n",
       "      <td>4.0</td>\n",
       "      <td>1.0</td>\n",
       "      <td>Returning_Visitor</td>\n",
       "      <td>Not Specified</td>\n",
       "      <td>Required</td>\n",
       "      <td>Not Specified</td>\n",
       "      <td>Married</td>\n",
       "      <td>0.0</td>\n",
       "      <td>True</td>\n",
       "    </tr>\n",
       "    <tr>\n",
       "      <th>14730</th>\n",
       "      <td>0.0</td>\n",
       "      <td>0.000000</td>\n",
       "      <td>0.0</td>\n",
       "      <td>0.0</td>\n",
       "      <td>21.0</td>\n",
       "      <td>1372.700000</td>\n",
       "      <td>0.019048</td>\n",
       "      <td>0.035714</td>\n",
       "      <td>0.0</td>\n",
       "      <td>0.0</td>\n",
       "      <td>...</td>\n",
       "      <td>1.0</td>\n",
       "      <td>3.0</td>\n",
       "      <td>1.0</td>\n",
       "      <td>Returning_Visitor</td>\n",
       "      <td>Female</td>\n",
       "      <td>ALL</td>\n",
       "      <td>Diploma</td>\n",
       "      <td>Other</td>\n",
       "      <td>0.0</td>\n",
       "      <td>True</td>\n",
       "    </tr>\n",
       "  </tbody>\n",
       "</table>\n",
       "<p>14731 rows × 22 columns</p>\n",
       "</div>"
      ],
      "text/plain": [
       "       HomePage  HomePage_Duration  LandingPage  LandingPage_Duration  \\\n",
       "0           0.0           0.000000          0.0                   0.0   \n",
       "1           0.0           0.000000          0.0                   0.0   \n",
       "2           0.0           0.000000          0.0                   0.0   \n",
       "3           0.0           0.000000          0.0                   0.0   \n",
       "4           1.0           0.000000          0.0                   0.0   \n",
       "...         ...                ...          ...                   ...   \n",
       "14726       1.0           4.000000          0.0                   0.0   \n",
       "14727       8.0         117.023809          2.0                  57.0   \n",
       "14728       2.0          75.600000          2.0                 652.8   \n",
       "14729       0.0           0.000000          0.0                   0.0   \n",
       "14730       0.0           0.000000          0.0                   0.0   \n",
       "\n",
       "       ProductDescriptionPage  ProductDescriptionPage_Duration  \\\n",
       "0                         1.0                         0.000000   \n",
       "1                         2.0                         2.666667   \n",
       "2                        10.0                       627.500000   \n",
       "3                         1.0                         0.000000   \n",
       "4                         0.0                         0.000000   \n",
       "...                       ...                              ...   \n",
       "14726                    39.0                       983.138889   \n",
       "14727                    11.0                       252.892857   \n",
       "14728                    10.0                      1143.666667   \n",
       "14729                     6.0                      1057.000000   \n",
       "14730                    21.0                      1372.700000   \n",
       "\n",
       "       GoogleMetric:Bounce Rates  GoogleMetric:Exit Rates  \\\n",
       "0                       0.200000                 0.200000   \n",
       "1                       0.050000                 0.140000   \n",
       "2                       0.020000                 0.050000   \n",
       "3                       0.200000                 0.200000   \n",
       "4                       0.200000                 0.200000   \n",
       "...                          ...                      ...   \n",
       "14726                   0.015385                 0.017599   \n",
       "14727                   0.000000                 0.011078   \n",
       "14728                   0.000000                 0.023333   \n",
       "14729                   0.000000                 0.033333   \n",
       "14730                   0.019048                 0.035714   \n",
       "\n",
       "       GoogleMetric:Page Values  SeasonalPurchase  ... SearchEngine  Zone  \\\n",
       "0                           0.0               0.0  ...          1.0   9.0   \n",
       "1                           0.0               0.0  ...          2.0   2.0   \n",
       "2                           0.0               0.0  ...          3.0   1.0   \n",
       "3                           0.0               0.4  ...          4.0   3.0   \n",
       "4                           0.0               0.0  ...          2.0   1.0   \n",
       "...                         ...               ...  ...          ...   ...   \n",
       "14726                       0.0               0.0  ...          2.0   6.0   \n",
       "14727                       0.0               0.0  ...          2.0   2.0   \n",
       "14728                       0.0               0.0  ...          2.0   4.0   \n",
       "14729                       0.0               0.0  ...          4.0   4.0   \n",
       "14730                       0.0               0.0  ...          1.0   3.0   \n",
       "\n",
       "       Type of Traffic       CustomerType         Gender Cookies Setting  \\\n",
       "0                  3.0  Returning_Visitor  Not Specified            Deny   \n",
       "1                  4.0  Returning_Visitor         Female            Deny   \n",
       "2                  4.0  Returning_Visitor         Female             ALL   \n",
       "3                  3.0  Returning_Visitor           Male             ALL   \n",
       "4                  5.0  Returning_Visitor           Male            Deny   \n",
       "...                ...                ...            ...             ...   \n",
       "14726              3.0  Returning_Visitor         Female            Deny   \n",
       "14727              4.0  Returning_Visitor  Not Specified             ALL   \n",
       "14728              2.0  Returning_Visitor  Not Specified        Required   \n",
       "14729              1.0  Returning_Visitor  Not Specified        Required   \n",
       "14730              1.0  Returning_Visitor         Female             ALL   \n",
       "\n",
       "           Education Marital Status WeekendPurchase Made_Purchase  \n",
       "0      Not Specified          Other             0.0         False  \n",
       "1             Others        Married             0.0         False  \n",
       "2             Others        Married             1.0         False  \n",
       "3            Diploma         Single             0.0         False  \n",
       "4            Diploma          Other             1.0         False  \n",
       "...              ...            ...             ...           ...  \n",
       "14726         Others        Married             0.0          True  \n",
       "14727        Diploma        Married             0.0          True  \n",
       "14728         Others         Single             0.0          True  \n",
       "14729  Not Specified        Married             0.0          True  \n",
       "14730        Diploma          Other             0.0          True  \n",
       "\n",
       "[14731 rows x 22 columns]"
      ]
     },
     "execution_count": 54,
     "metadata": {},
     "output_type": "execute_result"
    }
   ],
   "source": [
    "df"
   ]
  },
  {
   "cell_type": "code",
   "execution_count": 55,
   "id": "1cda76a3",
   "metadata": {
    "execution": {
     "iopub.execute_input": "2023-03-28T20:30:52.560993Z",
     "iopub.status.busy": "2023-03-28T20:30:52.560253Z",
     "iopub.status.idle": "2023-03-28T20:30:52.575301Z",
     "shell.execute_reply": "2023-03-28T20:30:52.574031Z"
    },
    "papermill": {
     "duration": 0.05048,
     "end_time": "2023-03-28T20:30:52.578106",
     "exception": false,
     "start_time": "2023-03-28T20:30:52.527626",
     "status": "completed"
    },
    "tags": []
   },
   "outputs": [
    {
     "data": {
      "text/plain": [
       "HomePage                           0\n",
       "HomePage_Duration                  0\n",
       "LandingPage                        0\n",
       "LandingPage_Duration               0\n",
       "ProductDescriptionPage             0\n",
       "ProductDescriptionPage_Duration    0\n",
       "GoogleMetric:Bounce Rates          0\n",
       "GoogleMetric:Exit Rates            0\n",
       "GoogleMetric:Page Values           0\n",
       "SeasonalPurchase                   0\n",
       "Month_SeasonalPurchase             0\n",
       "OS                                 0\n",
       "SearchEngine                       0\n",
       "Zone                               0\n",
       "Type of Traffic                    0\n",
       "CustomerType                       0\n",
       "Gender                             0\n",
       "Cookies Setting                    0\n",
       "Education                          0\n",
       "Marital Status                     0\n",
       "WeekendPurchase                    0\n",
       "Made_Purchase                      0\n",
       "dtype: int64"
      ]
     },
     "execution_count": 55,
     "metadata": {},
     "output_type": "execute_result"
    }
   ],
   "source": [
    "df.isnull().sum()"
   ]
  },
  {
   "cell_type": "markdown",
   "id": "9410d0fc",
   "metadata": {
    "papermill": {
     "duration": 0.031825,
     "end_time": "2023-03-28T20:30:52.641805",
     "exception": false,
     "start_time": "2023-03-28T20:30:52.609980",
     "status": "completed"
    },
    "tags": []
   },
   "source": [
    "**Encoding**"
   ]
  },
  {
   "cell_type": "code",
   "execution_count": 56,
   "id": "ff5cc21a",
   "metadata": {
    "execution": {
     "iopub.execute_input": "2023-03-28T20:30:52.707551Z",
     "iopub.status.busy": "2023-03-28T20:30:52.707107Z",
     "iopub.status.idle": "2023-03-28T20:30:52.720684Z",
     "shell.execute_reply": "2023-03-28T20:30:52.719707Z"
    },
    "papermill": {
     "duration": 0.050329,
     "end_time": "2023-03-28T20:30:52.723388",
     "exception": false,
     "start_time": "2023-03-28T20:30:52.673059",
     "status": "completed"
    },
    "tags": []
   },
   "outputs": [],
   "source": [
    "enc=OrdinalEncoder()\n",
    "df[[\"Month_SeasonalPurchase\"]]=enc.fit_transform(df[[\"Month_SeasonalPurchase\"]])"
   ]
  },
  {
   "cell_type": "code",
   "execution_count": 57,
   "id": "437720ab",
   "metadata": {
    "execution": {
     "iopub.execute_input": "2023-03-28T20:30:52.790365Z",
     "iopub.status.busy": "2023-03-28T20:30:52.789427Z",
     "iopub.status.idle": "2023-03-28T20:30:52.803952Z",
     "shell.execute_reply": "2023-03-28T20:30:52.802589Z"
    },
    "papermill": {
     "duration": 0.050969,
     "end_time": "2023-03-28T20:30:52.806944",
     "exception": false,
     "start_time": "2023-03-28T20:30:52.755975",
     "status": "completed"
    },
    "tags": []
   },
   "outputs": [],
   "source": [
    "enc=OrdinalEncoder()\n",
    "df[[\"CustomerType\"]]=enc.fit_transform(df[[\"CustomerType\"]])"
   ]
  },
  {
   "cell_type": "code",
   "execution_count": 58,
   "id": "1ce11952",
   "metadata": {
    "execution": {
     "iopub.execute_input": "2023-03-28T20:30:52.871157Z",
     "iopub.status.busy": "2023-03-28T20:30:52.870747Z",
     "iopub.status.idle": "2023-03-28T20:30:52.885180Z",
     "shell.execute_reply": "2023-03-28T20:30:52.884020Z"
    },
    "papermill": {
     "duration": 0.049791,
     "end_time": "2023-03-28T20:30:52.887996",
     "exception": false,
     "start_time": "2023-03-28T20:30:52.838205",
     "status": "completed"
    },
    "tags": []
   },
   "outputs": [],
   "source": [
    "enc=OrdinalEncoder()\n",
    "df[[\"Gender\"]]=enc.fit_transform(df[[\"Gender\"]])"
   ]
  },
  {
   "cell_type": "code",
   "execution_count": 59,
   "id": "9a029c82",
   "metadata": {
    "execution": {
     "iopub.execute_input": "2023-03-28T20:30:52.952969Z",
     "iopub.status.busy": "2023-03-28T20:30:52.952506Z",
     "iopub.status.idle": "2023-03-28T20:30:52.966271Z",
     "shell.execute_reply": "2023-03-28T20:30:52.964947Z"
    },
    "papermill": {
     "duration": 0.049809,
     "end_time": "2023-03-28T20:30:52.969175",
     "exception": false,
     "start_time": "2023-03-28T20:30:52.919366",
     "status": "completed"
    },
    "tags": []
   },
   "outputs": [],
   "source": [
    "enc=OrdinalEncoder()\n",
    "df[[\"Cookies Setting\"]]=enc.fit_transform(df[[\"Cookies Setting\"]])"
   ]
  },
  {
   "cell_type": "code",
   "execution_count": 60,
   "id": "0754fba2",
   "metadata": {
    "execution": {
     "iopub.execute_input": "2023-03-28T20:30:53.034901Z",
     "iopub.status.busy": "2023-03-28T20:30:53.034425Z",
     "iopub.status.idle": "2023-03-28T20:30:53.047987Z",
     "shell.execute_reply": "2023-03-28T20:30:53.046788Z"
    },
    "papermill": {
     "duration": 0.048988,
     "end_time": "2023-03-28T20:30:53.050755",
     "exception": false,
     "start_time": "2023-03-28T20:30:53.001767",
     "status": "completed"
    },
    "tags": []
   },
   "outputs": [],
   "source": [
    "enc=OrdinalEncoder()\n",
    "df[[\"Education\"]]=enc.fit_transform(df[[\"Education\"]])"
   ]
  },
  {
   "cell_type": "code",
   "execution_count": 61,
   "id": "2152cc96",
   "metadata": {
    "execution": {
     "iopub.execute_input": "2023-03-28T20:30:53.116948Z",
     "iopub.status.busy": "2023-03-28T20:30:53.116501Z",
     "iopub.status.idle": "2023-03-28T20:30:53.129874Z",
     "shell.execute_reply": "2023-03-28T20:30:53.128845Z"
    },
    "papermill": {
     "duration": 0.049496,
     "end_time": "2023-03-28T20:30:53.132548",
     "exception": false,
     "start_time": "2023-03-28T20:30:53.083052",
     "status": "completed"
    },
    "tags": []
   },
   "outputs": [],
   "source": [
    "enc=OrdinalEncoder()\n",
    "df[[\"Marital Status\"]]=enc.fit_transform(df[[\"Marital Status\"]])"
   ]
  },
  {
   "cell_type": "code",
   "execution_count": 62,
   "id": "bb63457b",
   "metadata": {
    "execution": {
     "iopub.execute_input": "2023-03-28T20:30:53.201000Z",
     "iopub.status.busy": "2023-03-28T20:30:53.200278Z",
     "iopub.status.idle": "2023-03-28T20:30:53.245832Z",
     "shell.execute_reply": "2023-03-28T20:30:53.244681Z"
    },
    "papermill": {
     "duration": 0.083921,
     "end_time": "2023-03-28T20:30:53.248458",
     "exception": false,
     "start_time": "2023-03-28T20:30:53.164537",
     "status": "completed"
    },
    "tags": []
   },
   "outputs": [
    {
     "data": {
      "text/html": [
       "<div>\n",
       "<style scoped>\n",
       "    .dataframe tbody tr th:only-of-type {\n",
       "        vertical-align: middle;\n",
       "    }\n",
       "\n",
       "    .dataframe tbody tr th {\n",
       "        vertical-align: top;\n",
       "    }\n",
       "\n",
       "    .dataframe thead th {\n",
       "        text-align: right;\n",
       "    }\n",
       "</style>\n",
       "<table border=\"1\" class=\"dataframe\">\n",
       "  <thead>\n",
       "    <tr style=\"text-align: right;\">\n",
       "      <th></th>\n",
       "      <th>HomePage</th>\n",
       "      <th>HomePage_Duration</th>\n",
       "      <th>LandingPage</th>\n",
       "      <th>LandingPage_Duration</th>\n",
       "      <th>ProductDescriptionPage</th>\n",
       "      <th>ProductDescriptionPage_Duration</th>\n",
       "      <th>GoogleMetric:Bounce Rates</th>\n",
       "      <th>GoogleMetric:Exit Rates</th>\n",
       "      <th>GoogleMetric:Page Values</th>\n",
       "      <th>SeasonalPurchase</th>\n",
       "      <th>...</th>\n",
       "      <th>SearchEngine</th>\n",
       "      <th>Zone</th>\n",
       "      <th>Type of Traffic</th>\n",
       "      <th>CustomerType</th>\n",
       "      <th>Gender</th>\n",
       "      <th>Cookies Setting</th>\n",
       "      <th>Education</th>\n",
       "      <th>Marital Status</th>\n",
       "      <th>WeekendPurchase</th>\n",
       "      <th>Made_Purchase</th>\n",
       "    </tr>\n",
       "  </thead>\n",
       "  <tbody>\n",
       "    <tr>\n",
       "      <th>0</th>\n",
       "      <td>0.0</td>\n",
       "      <td>0.000000</td>\n",
       "      <td>0.0</td>\n",
       "      <td>0.0</td>\n",
       "      <td>1.0</td>\n",
       "      <td>0.000000</td>\n",
       "      <td>0.200000</td>\n",
       "      <td>0.200000</td>\n",
       "      <td>0.0</td>\n",
       "      <td>0.0</td>\n",
       "      <td>...</td>\n",
       "      <td>1.0</td>\n",
       "      <td>9.0</td>\n",
       "      <td>3.0</td>\n",
       "      <td>2.0</td>\n",
       "      <td>2.0</td>\n",
       "      <td>1.0</td>\n",
       "      <td>2.0</td>\n",
       "      <td>1.0</td>\n",
       "      <td>0.0</td>\n",
       "      <td>False</td>\n",
       "    </tr>\n",
       "    <tr>\n",
       "      <th>1</th>\n",
       "      <td>0.0</td>\n",
       "      <td>0.000000</td>\n",
       "      <td>0.0</td>\n",
       "      <td>0.0</td>\n",
       "      <td>2.0</td>\n",
       "      <td>2.666667</td>\n",
       "      <td>0.050000</td>\n",
       "      <td>0.140000</td>\n",
       "      <td>0.0</td>\n",
       "      <td>0.0</td>\n",
       "      <td>...</td>\n",
       "      <td>2.0</td>\n",
       "      <td>2.0</td>\n",
       "      <td>4.0</td>\n",
       "      <td>2.0</td>\n",
       "      <td>0.0</td>\n",
       "      <td>1.0</td>\n",
       "      <td>3.0</td>\n",
       "      <td>0.0</td>\n",
       "      <td>0.0</td>\n",
       "      <td>False</td>\n",
       "    </tr>\n",
       "    <tr>\n",
       "      <th>2</th>\n",
       "      <td>0.0</td>\n",
       "      <td>0.000000</td>\n",
       "      <td>0.0</td>\n",
       "      <td>0.0</td>\n",
       "      <td>10.0</td>\n",
       "      <td>627.500000</td>\n",
       "      <td>0.020000</td>\n",
       "      <td>0.050000</td>\n",
       "      <td>0.0</td>\n",
       "      <td>0.0</td>\n",
       "      <td>...</td>\n",
       "      <td>3.0</td>\n",
       "      <td>1.0</td>\n",
       "      <td>4.0</td>\n",
       "      <td>2.0</td>\n",
       "      <td>0.0</td>\n",
       "      <td>0.0</td>\n",
       "      <td>3.0</td>\n",
       "      <td>0.0</td>\n",
       "      <td>1.0</td>\n",
       "      <td>False</td>\n",
       "    </tr>\n",
       "    <tr>\n",
       "      <th>3</th>\n",
       "      <td>0.0</td>\n",
       "      <td>0.000000</td>\n",
       "      <td>0.0</td>\n",
       "      <td>0.0</td>\n",
       "      <td>1.0</td>\n",
       "      <td>0.000000</td>\n",
       "      <td>0.200000</td>\n",
       "      <td>0.200000</td>\n",
       "      <td>0.0</td>\n",
       "      <td>0.4</td>\n",
       "      <td>...</td>\n",
       "      <td>4.0</td>\n",
       "      <td>3.0</td>\n",
       "      <td>3.0</td>\n",
       "      <td>2.0</td>\n",
       "      <td>1.0</td>\n",
       "      <td>0.0</td>\n",
       "      <td>0.0</td>\n",
       "      <td>2.0</td>\n",
       "      <td>0.0</td>\n",
       "      <td>False</td>\n",
       "    </tr>\n",
       "    <tr>\n",
       "      <th>4</th>\n",
       "      <td>1.0</td>\n",
       "      <td>0.000000</td>\n",
       "      <td>0.0</td>\n",
       "      <td>0.0</td>\n",
       "      <td>0.0</td>\n",
       "      <td>0.000000</td>\n",
       "      <td>0.200000</td>\n",
       "      <td>0.200000</td>\n",
       "      <td>0.0</td>\n",
       "      <td>0.0</td>\n",
       "      <td>...</td>\n",
       "      <td>2.0</td>\n",
       "      <td>1.0</td>\n",
       "      <td>5.0</td>\n",
       "      <td>2.0</td>\n",
       "      <td>1.0</td>\n",
       "      <td>1.0</td>\n",
       "      <td>0.0</td>\n",
       "      <td>1.0</td>\n",
       "      <td>1.0</td>\n",
       "      <td>False</td>\n",
       "    </tr>\n",
       "    <tr>\n",
       "      <th>...</th>\n",
       "      <td>...</td>\n",
       "      <td>...</td>\n",
       "      <td>...</td>\n",
       "      <td>...</td>\n",
       "      <td>...</td>\n",
       "      <td>...</td>\n",
       "      <td>...</td>\n",
       "      <td>...</td>\n",
       "      <td>...</td>\n",
       "      <td>...</td>\n",
       "      <td>...</td>\n",
       "      <td>...</td>\n",
       "      <td>...</td>\n",
       "      <td>...</td>\n",
       "      <td>...</td>\n",
       "      <td>...</td>\n",
       "      <td>...</td>\n",
       "      <td>...</td>\n",
       "      <td>...</td>\n",
       "      <td>...</td>\n",
       "      <td>...</td>\n",
       "    </tr>\n",
       "    <tr>\n",
       "      <th>14726</th>\n",
       "      <td>1.0</td>\n",
       "      <td>4.000000</td>\n",
       "      <td>0.0</td>\n",
       "      <td>0.0</td>\n",
       "      <td>39.0</td>\n",
       "      <td>983.138889</td>\n",
       "      <td>0.015385</td>\n",
       "      <td>0.017599</td>\n",
       "      <td>0.0</td>\n",
       "      <td>0.0</td>\n",
       "      <td>...</td>\n",
       "      <td>2.0</td>\n",
       "      <td>6.0</td>\n",
       "      <td>3.0</td>\n",
       "      <td>2.0</td>\n",
       "      <td>0.0</td>\n",
       "      <td>1.0</td>\n",
       "      <td>3.0</td>\n",
       "      <td>0.0</td>\n",
       "      <td>0.0</td>\n",
       "      <td>True</td>\n",
       "    </tr>\n",
       "    <tr>\n",
       "      <th>14727</th>\n",
       "      <td>8.0</td>\n",
       "      <td>117.023809</td>\n",
       "      <td>2.0</td>\n",
       "      <td>57.0</td>\n",
       "      <td>11.0</td>\n",
       "      <td>252.892857</td>\n",
       "      <td>0.000000</td>\n",
       "      <td>0.011078</td>\n",
       "      <td>0.0</td>\n",
       "      <td>0.0</td>\n",
       "      <td>...</td>\n",
       "      <td>2.0</td>\n",
       "      <td>2.0</td>\n",
       "      <td>4.0</td>\n",
       "      <td>2.0</td>\n",
       "      <td>2.0</td>\n",
       "      <td>0.0</td>\n",
       "      <td>0.0</td>\n",
       "      <td>0.0</td>\n",
       "      <td>0.0</td>\n",
       "      <td>True</td>\n",
       "    </tr>\n",
       "    <tr>\n",
       "      <th>14728</th>\n",
       "      <td>2.0</td>\n",
       "      <td>75.600000</td>\n",
       "      <td>2.0</td>\n",
       "      <td>652.8</td>\n",
       "      <td>10.0</td>\n",
       "      <td>1143.666667</td>\n",
       "      <td>0.000000</td>\n",
       "      <td>0.023333</td>\n",
       "      <td>0.0</td>\n",
       "      <td>0.0</td>\n",
       "      <td>...</td>\n",
       "      <td>2.0</td>\n",
       "      <td>4.0</td>\n",
       "      <td>2.0</td>\n",
       "      <td>2.0</td>\n",
       "      <td>2.0</td>\n",
       "      <td>2.0</td>\n",
       "      <td>3.0</td>\n",
       "      <td>2.0</td>\n",
       "      <td>0.0</td>\n",
       "      <td>True</td>\n",
       "    </tr>\n",
       "    <tr>\n",
       "      <th>14729</th>\n",
       "      <td>0.0</td>\n",
       "      <td>0.000000</td>\n",
       "      <td>0.0</td>\n",
       "      <td>0.0</td>\n",
       "      <td>6.0</td>\n",
       "      <td>1057.000000</td>\n",
       "      <td>0.000000</td>\n",
       "      <td>0.033333</td>\n",
       "      <td>0.0</td>\n",
       "      <td>0.0</td>\n",
       "      <td>...</td>\n",
       "      <td>4.0</td>\n",
       "      <td>4.0</td>\n",
       "      <td>1.0</td>\n",
       "      <td>2.0</td>\n",
       "      <td>2.0</td>\n",
       "      <td>2.0</td>\n",
       "      <td>2.0</td>\n",
       "      <td>0.0</td>\n",
       "      <td>0.0</td>\n",
       "      <td>True</td>\n",
       "    </tr>\n",
       "    <tr>\n",
       "      <th>14730</th>\n",
       "      <td>0.0</td>\n",
       "      <td>0.000000</td>\n",
       "      <td>0.0</td>\n",
       "      <td>0.0</td>\n",
       "      <td>21.0</td>\n",
       "      <td>1372.700000</td>\n",
       "      <td>0.019048</td>\n",
       "      <td>0.035714</td>\n",
       "      <td>0.0</td>\n",
       "      <td>0.0</td>\n",
       "      <td>...</td>\n",
       "      <td>1.0</td>\n",
       "      <td>3.0</td>\n",
       "      <td>1.0</td>\n",
       "      <td>2.0</td>\n",
       "      <td>0.0</td>\n",
       "      <td>0.0</td>\n",
       "      <td>0.0</td>\n",
       "      <td>1.0</td>\n",
       "      <td>0.0</td>\n",
       "      <td>True</td>\n",
       "    </tr>\n",
       "  </tbody>\n",
       "</table>\n",
       "<p>14731 rows × 22 columns</p>\n",
       "</div>"
      ],
      "text/plain": [
       "       HomePage  HomePage_Duration  LandingPage  LandingPage_Duration  \\\n",
       "0           0.0           0.000000          0.0                   0.0   \n",
       "1           0.0           0.000000          0.0                   0.0   \n",
       "2           0.0           0.000000          0.0                   0.0   \n",
       "3           0.0           0.000000          0.0                   0.0   \n",
       "4           1.0           0.000000          0.0                   0.0   \n",
       "...         ...                ...          ...                   ...   \n",
       "14726       1.0           4.000000          0.0                   0.0   \n",
       "14727       8.0         117.023809          2.0                  57.0   \n",
       "14728       2.0          75.600000          2.0                 652.8   \n",
       "14729       0.0           0.000000          0.0                   0.0   \n",
       "14730       0.0           0.000000          0.0                   0.0   \n",
       "\n",
       "       ProductDescriptionPage  ProductDescriptionPage_Duration  \\\n",
       "0                         1.0                         0.000000   \n",
       "1                         2.0                         2.666667   \n",
       "2                        10.0                       627.500000   \n",
       "3                         1.0                         0.000000   \n",
       "4                         0.0                         0.000000   \n",
       "...                       ...                              ...   \n",
       "14726                    39.0                       983.138889   \n",
       "14727                    11.0                       252.892857   \n",
       "14728                    10.0                      1143.666667   \n",
       "14729                     6.0                      1057.000000   \n",
       "14730                    21.0                      1372.700000   \n",
       "\n",
       "       GoogleMetric:Bounce Rates  GoogleMetric:Exit Rates  \\\n",
       "0                       0.200000                 0.200000   \n",
       "1                       0.050000                 0.140000   \n",
       "2                       0.020000                 0.050000   \n",
       "3                       0.200000                 0.200000   \n",
       "4                       0.200000                 0.200000   \n",
       "...                          ...                      ...   \n",
       "14726                   0.015385                 0.017599   \n",
       "14727                   0.000000                 0.011078   \n",
       "14728                   0.000000                 0.023333   \n",
       "14729                   0.000000                 0.033333   \n",
       "14730                   0.019048                 0.035714   \n",
       "\n",
       "       GoogleMetric:Page Values  SeasonalPurchase  ...  SearchEngine  Zone  \\\n",
       "0                           0.0               0.0  ...           1.0   9.0   \n",
       "1                           0.0               0.0  ...           2.0   2.0   \n",
       "2                           0.0               0.0  ...           3.0   1.0   \n",
       "3                           0.0               0.4  ...           4.0   3.0   \n",
       "4                           0.0               0.0  ...           2.0   1.0   \n",
       "...                         ...               ...  ...           ...   ...   \n",
       "14726                       0.0               0.0  ...           2.0   6.0   \n",
       "14727                       0.0               0.0  ...           2.0   2.0   \n",
       "14728                       0.0               0.0  ...           2.0   4.0   \n",
       "14729                       0.0               0.0  ...           4.0   4.0   \n",
       "14730                       0.0               0.0  ...           1.0   3.0   \n",
       "\n",
       "       Type of Traffic  CustomerType  Gender  Cookies Setting  Education  \\\n",
       "0                  3.0           2.0     2.0              1.0        2.0   \n",
       "1                  4.0           2.0     0.0              1.0        3.0   \n",
       "2                  4.0           2.0     0.0              0.0        3.0   \n",
       "3                  3.0           2.0     1.0              0.0        0.0   \n",
       "4                  5.0           2.0     1.0              1.0        0.0   \n",
       "...                ...           ...     ...              ...        ...   \n",
       "14726              3.0           2.0     0.0              1.0        3.0   \n",
       "14727              4.0           2.0     2.0              0.0        0.0   \n",
       "14728              2.0           2.0     2.0              2.0        3.0   \n",
       "14729              1.0           2.0     2.0              2.0        2.0   \n",
       "14730              1.0           2.0     0.0              0.0        0.0   \n",
       "\n",
       "       Marital Status  WeekendPurchase  Made_Purchase  \n",
       "0                 1.0              0.0          False  \n",
       "1                 0.0              0.0          False  \n",
       "2                 0.0              1.0          False  \n",
       "3                 2.0              0.0          False  \n",
       "4                 1.0              1.0          False  \n",
       "...               ...              ...            ...  \n",
       "14726             0.0              0.0           True  \n",
       "14727             0.0              0.0           True  \n",
       "14728             2.0              0.0           True  \n",
       "14729             0.0              0.0           True  \n",
       "14730             1.0              0.0           True  \n",
       "\n",
       "[14731 rows x 22 columns]"
      ]
     },
     "execution_count": 62,
     "metadata": {},
     "output_type": "execute_result"
    }
   ],
   "source": [
    "df"
   ]
  },
  {
   "cell_type": "code",
   "execution_count": 63,
   "id": "6438f17a",
   "metadata": {
    "execution": {
     "iopub.execute_input": "2023-03-28T20:30:53.317234Z",
     "iopub.status.busy": "2023-03-28T20:30:53.316792Z",
     "iopub.status.idle": "2023-03-28T20:30:53.325537Z",
     "shell.execute_reply": "2023-03-28T20:30:53.324279Z"
    },
    "papermill": {
     "duration": 0.046457,
     "end_time": "2023-03-28T20:30:53.328352",
     "exception": false,
     "start_time": "2023-03-28T20:30:53.281895",
     "status": "completed"
    },
    "tags": []
   },
   "outputs": [],
   "source": [
    "x=df.drop(\"Made_Purchase\", axis=1)"
   ]
  },
  {
   "cell_type": "code",
   "execution_count": 64,
   "id": "392737ea",
   "metadata": {
    "execution": {
     "iopub.execute_input": "2023-03-28T20:30:53.395945Z",
     "iopub.status.busy": "2023-03-28T20:30:53.395182Z",
     "iopub.status.idle": "2023-03-28T20:30:53.400113Z",
     "shell.execute_reply": "2023-03-28T20:30:53.399083Z"
    },
    "papermill": {
     "duration": 0.041947,
     "end_time": "2023-03-28T20:30:53.403167",
     "exception": false,
     "start_time": "2023-03-28T20:30:53.361220",
     "status": "completed"
    },
    "tags": []
   },
   "outputs": [],
   "source": [
    "y=df[\"Made_Purchase\"]"
   ]
  },
  {
   "cell_type": "code",
   "execution_count": 65,
   "id": "c8a68f1a",
   "metadata": {
    "execution": {
     "iopub.execute_input": "2023-03-28T20:30:53.469810Z",
     "iopub.status.busy": "2023-03-28T20:30:53.469227Z",
     "iopub.status.idle": "2023-03-28T20:30:53.871030Z",
     "shell.execute_reply": "2023-03-28T20:30:53.869658Z"
    },
    "papermill": {
     "duration": 0.438719,
     "end_time": "2023-03-28T20:30:53.874469",
     "exception": false,
     "start_time": "2023-03-28T20:30:53.435750",
     "status": "completed"
    },
    "tags": []
   },
   "outputs": [
    {
     "name": "stderr",
     "output_type": "stream",
     "text": [
      "/opt/conda/lib/python3.7/site-packages/sklearn/linear_model/_logistic.py:818: ConvergenceWarning: lbfgs failed to converge (status=1):\n",
      "STOP: TOTAL NO. of ITERATIONS REACHED LIMIT.\n",
      "\n",
      "Increase the number of iterations (max_iter) or scale the data as shown in:\n",
      "    https://scikit-learn.org/stable/modules/preprocessing.html\n",
      "Please also refer to the documentation for alternative solver options:\n",
      "    https://scikit-learn.org/stable/modules/linear_model.html#logistic-regression\n",
      "  extra_warning_msg=_LOGISTIC_SOLVER_CONVERGENCE_MSG,\n"
     ]
    },
    {
     "data": {
      "text/plain": [
       "LogisticRegression()"
      ]
     },
     "execution_count": 65,
     "metadata": {},
     "output_type": "execute_result"
    }
   ],
   "source": [
    "from sklearn.linear_model import LogisticRegression\n",
    "model=LogisticRegression()\n",
    "model.fit(x,y)\n"
   ]
  },
  {
   "cell_type": "code",
   "execution_count": null,
   "id": "f420b709",
   "metadata": {
    "execution": {
     "iopub.execute_input": "2023-03-28T19:55:12.838040Z",
     "iopub.status.busy": "2023-03-28T19:55:12.837538Z",
     "iopub.status.idle": "2023-03-28T19:55:12.940269Z",
     "shell.execute_reply": "2023-03-28T19:55:12.937898Z",
     "shell.execute_reply.started": "2023-03-28T19:55:12.838004Z"
    },
    "papermill": {
     "duration": 0.032544,
     "end_time": "2023-03-28T20:30:54.013476",
     "exception": false,
     "start_time": "2023-03-28T20:30:53.980932",
     "status": "completed"
    },
    "tags": []
   },
   "outputs": [],
   "source": []
  },
  {
   "cell_type": "code",
   "execution_count": 66,
   "id": "1d20b160",
   "metadata": {
    "execution": {
     "iopub.execute_input": "2023-03-28T20:30:54.085680Z",
     "iopub.status.busy": "2023-03-28T20:30:54.084388Z",
     "iopub.status.idle": "2023-03-28T20:30:54.124184Z",
     "shell.execute_reply": "2023-03-28T20:30:54.122960Z"
    },
    "papermill": {
     "duration": 0.080428,
     "end_time": "2023-03-28T20:30:54.127111",
     "exception": false,
     "start_time": "2023-03-28T20:30:54.046683",
     "status": "completed"
    },
    "tags": []
   },
   "outputs": [],
   "source": [
    "df=pd.read_csv(\"/kaggle/input/e-commerce-shoppers-behaviour-understanding/test_data_v2.csv\")"
   ]
  },
  {
   "cell_type": "code",
   "execution_count": 67,
   "id": "afaa98a8",
   "metadata": {
    "execution": {
     "iopub.execute_input": "2023-03-28T20:30:54.203582Z",
     "iopub.status.busy": "2023-03-28T20:30:54.202262Z",
     "iopub.status.idle": "2023-03-28T20:30:54.215400Z",
     "shell.execute_reply": "2023-03-28T20:30:54.214242Z"
    },
    "papermill": {
     "duration": 0.057471,
     "end_time": "2023-03-28T20:30:54.217901",
     "exception": false,
     "start_time": "2023-03-28T20:30:54.160430",
     "status": "completed"
    },
    "tags": []
   },
   "outputs": [
    {
     "data": {
      "text/plain": [
       "HomePage                           51\n",
       "HomePage_Duration                  55\n",
       "LandingPage                        56\n",
       "LandingPage_Duration               75\n",
       "ProductDescriptionPage             58\n",
       "ProductDescriptionPage_Duration    63\n",
       "GoogleMetric:Bounce Rates          66\n",
       "GoogleMetric:Exit Rates            51\n",
       "GoogleMetric:Page Values           45\n",
       "SeasonalPurchase                   45\n",
       "Month_SeasonalPurchase             58\n",
       "OS                                 62\n",
       "SearchEngine                       58\n",
       "Zone                               47\n",
       "Type of Traffic                    68\n",
       "CustomerType                       88\n",
       "Gender                             64\n",
       "Cookies Setting                    62\n",
       "Education                          69\n",
       "Marital Status                     47\n",
       "WeekendPurchase                    58\n",
       "dtype: int64"
      ]
     },
     "execution_count": 67,
     "metadata": {},
     "output_type": "execute_result"
    }
   ],
   "source": [
    "df.isnull().sum()"
   ]
  },
  {
   "cell_type": "code",
   "execution_count": 68,
   "id": "669a1e5f",
   "metadata": {
    "execution": {
     "iopub.execute_input": "2023-03-28T20:30:54.286523Z",
     "iopub.status.busy": "2023-03-28T20:30:54.285622Z",
     "iopub.status.idle": "2023-03-28T20:30:54.297194Z",
     "shell.execute_reply": "2023-03-28T20:30:54.296137Z"
    },
    "papermill": {
     "duration": 0.047718,
     "end_time": "2023-03-28T20:30:54.299671",
     "exception": false,
     "start_time": "2023-03-28T20:30:54.251953",
     "status": "completed"
    },
    "tags": []
   },
   "outputs": [
    {
     "data": {
      "text/plain": [
       "0.0     3152\n",
       "1.0      675\n",
       "2.0      601\n",
       "3.0      476\n",
       "4.0      373\n",
       "5.0      282\n",
       "6.0      216\n",
       "7.0      200\n",
       "8.0      166\n",
       "9.0      131\n",
       "10.0      71\n",
       "11.0      57\n",
       "12.0      34\n",
       "13.0      29\n",
       "15.0      22\n",
       "14.0      18\n",
       "16.0      15\n",
       "18.0       9\n",
       "17.0       6\n",
       "24.0       4\n",
       "23.0       3\n",
       "20.0       2\n",
       "19.0       2\n",
       "21.0       2\n",
       "22.0       1\n",
       "26.0       1\n",
       "Name: HomePage, dtype: int64"
      ]
     },
     "execution_count": 68,
     "metadata": {},
     "output_type": "execute_result"
    }
   ],
   "source": [
    "df['HomePage'].value_counts()"
   ]
  },
  {
   "cell_type": "code",
   "execution_count": 69,
   "id": "3aac81b1",
   "metadata": {
    "execution": {
     "iopub.execute_input": "2023-03-28T20:30:54.372813Z",
     "iopub.status.busy": "2023-03-28T20:30:54.371915Z",
     "iopub.status.idle": "2023-03-28T20:30:54.377966Z",
     "shell.execute_reply": "2023-03-28T20:30:54.376980Z"
    },
    "papermill": {
     "duration": 0.046066,
     "end_time": "2023-03-28T20:30:54.380456",
     "exception": false,
     "start_time": "2023-03-28T20:30:54.334390",
     "status": "completed"
    },
    "tags": []
   },
   "outputs": [],
   "source": [
    "df['HomePage'].fillna(0, inplace=True)"
   ]
  },
  {
   "cell_type": "code",
   "execution_count": 70,
   "id": "97a94cfe",
   "metadata": {
    "execution": {
     "iopub.execute_input": "2023-03-28T20:30:54.447761Z",
     "iopub.status.busy": "2023-03-28T20:30:54.446948Z",
     "iopub.status.idle": "2023-03-28T20:30:54.456931Z",
     "shell.execute_reply": "2023-03-28T20:30:54.455885Z"
    },
    "papermill": {
     "duration": 0.046232,
     "end_time": "2023-03-28T20:30:54.459317",
     "exception": false,
     "start_time": "2023-03-28T20:30:54.413085",
     "status": "completed"
    },
    "tags": []
   },
   "outputs": [
    {
     "data": {
      "text/plain": [
       "0.000000      3222\n",
       "5.000000        36\n",
       "4.000000        28\n",
       "6.000000        26\n",
       "7.000000        25\n",
       "              ... \n",
       "145.980000       1\n",
       "14.200000        1\n",
       "36.050000        1\n",
       "294.200000       1\n",
       "99.166667        1\n",
       "Name: HomePage_Duration, Length: 1745, dtype: int64"
      ]
     },
     "execution_count": 70,
     "metadata": {},
     "output_type": "execute_result"
    }
   ],
   "source": [
    "df['HomePage_Duration'].value_counts()"
   ]
  },
  {
   "cell_type": "code",
   "execution_count": 71,
   "id": "7c291974",
   "metadata": {
    "execution": {
     "iopub.execute_input": "2023-03-28T20:30:54.527349Z",
     "iopub.status.busy": "2023-03-28T20:30:54.526336Z",
     "iopub.status.idle": "2023-03-28T20:30:54.535598Z",
     "shell.execute_reply": "2023-03-28T20:30:54.534326Z"
    },
    "papermill": {
     "duration": 0.045563,
     "end_time": "2023-03-28T20:30:54.537838",
     "exception": false,
     "start_time": "2023-03-28T20:30:54.492275",
     "status": "completed"
    },
    "tags": []
   },
   "outputs": [
    {
     "data": {
      "text/plain": [
       "4.875"
      ]
     },
     "execution_count": 71,
     "metadata": {},
     "output_type": "execute_result"
    }
   ],
   "source": [
    "df['HomePage_Duration'].median()"
   ]
  },
  {
   "cell_type": "code",
   "execution_count": 72,
   "id": "1e503254",
   "metadata": {
    "execution": {
     "iopub.execute_input": "2023-03-28T20:30:54.605771Z",
     "iopub.status.busy": "2023-03-28T20:30:54.604864Z",
     "iopub.status.idle": "2023-03-28T20:30:54.612633Z",
     "shell.execute_reply": "2023-03-28T20:30:54.610792Z"
    },
    "papermill": {
     "duration": 0.045884,
     "end_time": "2023-03-28T20:30:54.616213",
     "exception": false,
     "start_time": "2023-03-28T20:30:54.570329",
     "status": "completed"
    },
    "tags": []
   },
   "outputs": [],
   "source": [
    "df['HomePage_Duration'].fillna(0, inplace=True)"
   ]
  },
  {
   "cell_type": "code",
   "execution_count": 73,
   "id": "bd9e1d82",
   "metadata": {
    "execution": {
     "iopub.execute_input": "2023-03-28T20:30:54.711932Z",
     "iopub.status.busy": "2023-03-28T20:30:54.710917Z",
     "iopub.status.idle": "2023-03-28T20:30:54.722784Z",
     "shell.execute_reply": "2023-03-28T20:30:54.721617Z"
    },
    "papermill": {
     "duration": 0.064026,
     "end_time": "2023-03-28T20:30:54.726072",
     "exception": false,
     "start_time": "2023-03-28T20:30:54.662046",
     "status": "completed"
    },
    "tags": []
   },
   "outputs": [
    {
     "data": {
      "text/plain": [
       "0.0     5166\n",
       "1.0      539\n",
       "2.0      408\n",
       "3.0      186\n",
       "4.0      112\n",
       "5.0       47\n",
       "6.0       38\n",
       "7.0       19\n",
       "9.0       10\n",
       "8.0        8\n",
       "10.0       4\n",
       "11.0       2\n",
       "12.0       2\n",
       "16.0       1\n",
       "24.0       1\n",
       "Name: LandingPage, dtype: int64"
      ]
     },
     "execution_count": 73,
     "metadata": {},
     "output_type": "execute_result"
    }
   ],
   "source": [
    "df['LandingPage'].value_counts()"
   ]
  },
  {
   "cell_type": "code",
   "execution_count": 74,
   "id": "df381729",
   "metadata": {
    "execution": {
     "iopub.execute_input": "2023-03-28T20:30:54.801827Z",
     "iopub.status.busy": "2023-03-28T20:30:54.800339Z",
     "iopub.status.idle": "2023-03-28T20:30:54.807256Z",
     "shell.execute_reply": "2023-03-28T20:30:54.806153Z"
    },
    "papermill": {
     "duration": 0.04489,
     "end_time": "2023-03-28T20:30:54.809829",
     "exception": false,
     "start_time": "2023-03-28T20:30:54.764939",
     "status": "completed"
    },
    "tags": []
   },
   "outputs": [],
   "source": [
    "df['LandingPage'].fillna(0, inplace=True)"
   ]
  },
  {
   "cell_type": "code",
   "execution_count": 75,
   "id": "8e160b60",
   "metadata": {
    "execution": {
     "iopub.execute_input": "2023-03-28T20:30:54.880224Z",
     "iopub.status.busy": "2023-03-28T20:30:54.878527Z",
     "iopub.status.idle": "2023-03-28T20:30:54.891092Z",
     "shell.execute_reply": "2023-03-28T20:30:54.889811Z"
    },
    "papermill": {
     "duration": 0.050163,
     "end_time": "2023-03-28T20:30:54.893686",
     "exception": false,
     "start_time": "2023-03-28T20:30:54.843523",
     "status": "completed"
    },
    "tags": []
   },
   "outputs": [
    {
     "data": {
      "text/plain": [
       "0.000000       5271\n",
       "9.000000         19\n",
       "7.000000         16\n",
       "10.000000        16\n",
       "6.000000         15\n",
       "               ... \n",
       "1360.000000       1\n",
       "763.000000        1\n",
       "104.500000        1\n",
       "97.666667         1\n",
       "17.900000         1\n",
       "Name: LandingPage_Duration, Length: 667, dtype: int64"
      ]
     },
     "execution_count": 75,
     "metadata": {},
     "output_type": "execute_result"
    }
   ],
   "source": [
    "df['LandingPage_Duration'].value_counts()"
   ]
  },
  {
   "cell_type": "code",
   "execution_count": 76,
   "id": "52af48c4",
   "metadata": {
    "execution": {
     "iopub.execute_input": "2023-03-28T20:30:54.967318Z",
     "iopub.status.busy": "2023-03-28T20:30:54.966420Z",
     "iopub.status.idle": "2023-03-28T20:30:54.972818Z",
     "shell.execute_reply": "2023-03-28T20:30:54.971673Z"
    },
    "papermill": {
     "duration": 0.045194,
     "end_time": "2023-03-28T20:30:54.975270",
     "exception": false,
     "start_time": "2023-03-28T20:30:54.930076",
     "status": "completed"
    },
    "tags": []
   },
   "outputs": [],
   "source": [
    "df['LandingPage_Duration'].fillna(0, inplace=True)"
   ]
  },
  {
   "cell_type": "code",
   "execution_count": 77,
   "id": "a917130f",
   "metadata": {
    "execution": {
     "iopub.execute_input": "2023-03-28T20:30:55.044791Z",
     "iopub.status.busy": "2023-03-28T20:30:55.043942Z",
     "iopub.status.idle": "2023-03-28T20:30:55.054358Z",
     "shell.execute_reply": "2023-03-28T20:30:55.053156Z"
    },
    "papermill": {
     "duration": 0.047248,
     "end_time": "2023-03-28T20:30:55.056611",
     "exception": false,
     "start_time": "2023-03-28T20:30:55.009363",
     "status": "completed"
    },
    "tags": []
   },
   "outputs": [
    {
     "data": {
      "text/plain": [
       "5.0     247\n",
       "3.0     239\n",
       "7.0     217\n",
       "4.0     210\n",
       "8.0     194\n",
       "6.0     189\n",
       "11.0    175\n",
       "10.0    175\n",
       "9.0     168\n",
       "12.0    162\n",
       "13.0    151\n",
       "15.0    147\n",
       "16.0    145\n",
       "14.0    134\n",
       "22.0    122\n",
       "20.0    119\n",
       "19.0    114\n",
       "23.0    111\n",
       "17.0    111\n",
       "18.0    109\n",
       "21.0    109\n",
       "24.0    101\n",
       "25.0     88\n",
       "Name: ProductDescriptionPage, dtype: int64"
      ]
     },
     "execution_count": 77,
     "metadata": {},
     "output_type": "execute_result"
    }
   ],
   "source": [
    "df['ProductDescriptionPage'].value_counts()[5:25]"
   ]
  },
  {
   "cell_type": "code",
   "execution_count": 78,
   "id": "07f60cbc",
   "metadata": {
    "execution": {
     "iopub.execute_input": "2023-03-28T20:30:55.126426Z",
     "iopub.status.busy": "2023-03-28T20:30:55.125324Z",
     "iopub.status.idle": "2023-03-28T20:30:55.132792Z",
     "shell.execute_reply": "2023-03-28T20:30:55.131814Z"
    },
    "papermill": {
     "duration": 0.04512,
     "end_time": "2023-03-28T20:30:55.135056",
     "exception": false,
     "start_time": "2023-03-28T20:30:55.089936",
     "status": "completed"
    },
    "tags": []
   },
   "outputs": [
    {
     "data": {
      "text/plain": [
       "17.0"
      ]
     },
     "execution_count": 78,
     "metadata": {},
     "output_type": "execute_result"
    }
   ],
   "source": [
    "df['ProductDescriptionPage'].median()"
   ]
  },
  {
   "cell_type": "code",
   "execution_count": 79,
   "id": "1ca42932",
   "metadata": {
    "execution": {
     "iopub.execute_input": "2023-03-28T20:30:55.205216Z",
     "iopub.status.busy": "2023-03-28T20:30:55.204471Z",
     "iopub.status.idle": "2023-03-28T20:30:55.210284Z",
     "shell.execute_reply": "2023-03-28T20:30:55.209027Z"
    },
    "papermill": {
     "duration": 0.045091,
     "end_time": "2023-03-28T20:30:55.213313",
     "exception": false,
     "start_time": "2023-03-28T20:30:55.168222",
     "status": "completed"
    },
    "tags": []
   },
   "outputs": [],
   "source": [
    "df['ProductDescriptionPage'].fillna(18, inplace=True)"
   ]
  },
  {
   "cell_type": "code",
   "execution_count": 80,
   "id": "7ea29f16",
   "metadata": {
    "execution": {
     "iopub.execute_input": "2023-03-28T20:30:55.349940Z",
     "iopub.status.busy": "2023-03-28T20:30:55.349490Z",
     "iopub.status.idle": "2023-03-28T20:30:55.361851Z",
     "shell.execute_reply": "2023-03-28T20:30:55.360583Z"
    },
    "papermill": {
     "duration": 0.116547,
     "end_time": "2023-03-28T20:30:55.364363",
     "exception": false,
     "start_time": "2023-03-28T20:30:55.247816",
     "status": "completed"
    },
    "tags": []
   },
   "outputs": [
    {
     "data": {
      "text/plain": [
       "0.000000       398\n",
       "12.000000       14\n",
       "108.000000      13\n",
       "22.000000       12\n",
       "5.000000        11\n",
       "              ... \n",
       "529.800000       1\n",
       "41.700000        1\n",
       "118.300000       1\n",
       "166.706271       1\n",
       "1039.766667      1\n",
       "Name: ProductDescriptionPage_Duration, Length: 4536, dtype: int64"
      ]
     },
     "execution_count": 80,
     "metadata": {},
     "output_type": "execute_result"
    }
   ],
   "source": [
    "df['ProductDescriptionPage_Duration'].value_counts()"
   ]
  },
  {
   "cell_type": "code",
   "execution_count": 81,
   "id": "6c045381",
   "metadata": {
    "execution": {
     "iopub.execute_input": "2023-03-28T20:30:55.435406Z",
     "iopub.status.busy": "2023-03-28T20:30:55.434671Z",
     "iopub.status.idle": "2023-03-28T20:30:55.439929Z",
     "shell.execute_reply": "2023-03-28T20:30:55.438953Z"
    },
    "papermill": {
     "duration": 0.043727,
     "end_time": "2023-03-28T20:30:55.442418",
     "exception": false,
     "start_time": "2023-03-28T20:30:55.398691",
     "status": "completed"
    },
    "tags": []
   },
   "outputs": [],
   "source": [
    "df['ProductDescriptionPage_Duration'].fillna(0, inplace=True)"
   ]
  },
  {
   "cell_type": "code",
   "execution_count": 82,
   "id": "e57523a4",
   "metadata": {
    "execution": {
     "iopub.execute_input": "2023-03-28T20:30:55.512537Z",
     "iopub.status.busy": "2023-03-28T20:30:55.511828Z",
     "iopub.status.idle": "2023-03-28T20:30:55.521186Z",
     "shell.execute_reply": "2023-03-28T20:30:55.520188Z"
    },
    "papermill": {
     "duration": 0.046891,
     "end_time": "2023-03-28T20:30:55.523486",
     "exception": false,
     "start_time": "2023-03-28T20:30:55.476595",
     "status": "completed"
    },
    "tags": []
   },
   "outputs": [
    {
     "data": {
      "text/plain": [
       "0.000000    2920\n",
       "0.200000     369\n",
       "0.028571      75\n",
       "0.066667      73\n",
       "0.050000      64\n",
       "            ... \n",
       "0.029032       1\n",
       "0.002454       1\n",
       "0.016945       1\n",
       "0.002838       1\n",
       "0.005767       1\n",
       "Name: GoogleMetric:Bounce Rates, Length: 1056, dtype: int64"
      ]
     },
     "execution_count": 82,
     "metadata": {},
     "output_type": "execute_result"
    }
   ],
   "source": [
    "df['GoogleMetric:Bounce Rates'].value_counts()"
   ]
  },
  {
   "cell_type": "code",
   "execution_count": 83,
   "id": "9d64a596",
   "metadata": {
    "execution": {
     "iopub.execute_input": "2023-03-28T20:30:55.594318Z",
     "iopub.status.busy": "2023-03-28T20:30:55.593612Z",
     "iopub.status.idle": "2023-03-28T20:30:55.602262Z",
     "shell.execute_reply": "2023-03-28T20:30:55.601028Z"
    },
    "papermill": {
     "duration": 0.047467,
     "end_time": "2023-03-28T20:30:55.605024",
     "exception": false,
     "start_time": "2023-03-28T20:30:55.557557",
     "status": "completed"
    },
    "tags": []
   },
   "outputs": [
    {
     "data": {
      "text/plain": [
       "0    0.0\n",
       "dtype: float64"
      ]
     },
     "execution_count": 83,
     "metadata": {},
     "output_type": "execute_result"
    }
   ],
   "source": [
    "df['GoogleMetric:Bounce Rates'].mode()"
   ]
  },
  {
   "cell_type": "code",
   "execution_count": 84,
   "id": "eca30d0a",
   "metadata": {
    "execution": {
     "iopub.execute_input": "2023-03-28T20:30:55.676211Z",
     "iopub.status.busy": "2023-03-28T20:30:55.675775Z",
     "iopub.status.idle": "2023-03-28T20:30:55.681958Z",
     "shell.execute_reply": "2023-03-28T20:30:55.680804Z"
    },
    "papermill": {
     "duration": 0.044333,
     "end_time": "2023-03-28T20:30:55.684346",
     "exception": false,
     "start_time": "2023-03-28T20:30:55.640013",
     "status": "completed"
    },
    "tags": []
   },
   "outputs": [],
   "source": [
    "df['GoogleMetric:Bounce Rates'].fillna(0, inplace=True)"
   ]
  },
  {
   "cell_type": "code",
   "execution_count": 85,
   "id": "31581c19",
   "metadata": {
    "execution": {
     "iopub.execute_input": "2023-03-28T20:30:55.754845Z",
     "iopub.status.busy": "2023-03-28T20:30:55.753900Z",
     "iopub.status.idle": "2023-03-28T20:30:55.764497Z",
     "shell.execute_reply": "2023-03-28T20:30:55.763248Z"
    },
    "papermill": {
     "duration": 0.048929,
     "end_time": "2023-03-28T20:30:55.767288",
     "exception": false,
     "start_time": "2023-03-28T20:30:55.718359",
     "status": "completed"
    },
    "tags": []
   },
   "outputs": [
    {
     "data": {
      "text/plain": [
       "0.200000    372\n",
       "0.100000    204\n",
       "0.050000    182\n",
       "0.033333    158\n",
       "0.066667    148\n",
       "           ... \n",
       "0.032955      1\n",
       "0.004845      1\n",
       "0.004062      1\n",
       "0.011961      1\n",
       "0.009127      1\n",
       "Name: GoogleMetric:Exit Rates, Length: 2390, dtype: int64"
      ]
     },
     "execution_count": 85,
     "metadata": {},
     "output_type": "execute_result"
    }
   ],
   "source": [
    "#GoogleMetric:Exit Rates\n",
    "df['GoogleMetric:Exit Rates'].value_counts()"
   ]
  },
  {
   "cell_type": "code",
   "execution_count": 86,
   "id": "1d3f77f2",
   "metadata": {
    "execution": {
     "iopub.execute_input": "2023-03-28T20:30:55.838377Z",
     "iopub.status.busy": "2023-03-28T20:30:55.837981Z",
     "iopub.status.idle": "2023-03-28T20:30:55.847592Z",
     "shell.execute_reply": "2023-03-28T20:30:55.846217Z"
    },
    "papermill": {
     "duration": 0.047554,
     "end_time": "2023-03-28T20:30:55.850105",
     "exception": false,
     "start_time": "2023-03-28T20:30:55.802551",
     "status": "completed"
    },
    "tags": []
   },
   "outputs": [
    {
     "data": {
      "text/plain": [
       "0    0.2\n",
       "dtype: float64"
      ]
     },
     "execution_count": 86,
     "metadata": {},
     "output_type": "execute_result"
    }
   ],
   "source": [
    "df['GoogleMetric:Exit Rates'].mode()\n"
   ]
  },
  {
   "cell_type": "code",
   "execution_count": 87,
   "id": "149cf878",
   "metadata": {
    "execution": {
     "iopub.execute_input": "2023-03-28T20:30:55.920375Z",
     "iopub.status.busy": "2023-03-28T20:30:55.919983Z",
     "iopub.status.idle": "2023-03-28T20:30:55.925801Z",
     "shell.execute_reply": "2023-03-28T20:30:55.924677Z"
    },
    "papermill": {
     "duration": 0.044039,
     "end_time": "2023-03-28T20:30:55.928313",
     "exception": false,
     "start_time": "2023-03-28T20:30:55.884274",
     "status": "completed"
    },
    "tags": []
   },
   "outputs": [],
   "source": [
    "df['GoogleMetric:Exit Rates'].fillna(0.2, inplace=True)"
   ]
  },
  {
   "cell_type": "code",
   "execution_count": 88,
   "id": "92be8313",
   "metadata": {
    "execution": {
     "iopub.execute_input": "2023-03-28T20:30:55.998735Z",
     "iopub.status.busy": "2023-03-28T20:30:55.998337Z",
     "iopub.status.idle": "2023-03-28T20:30:56.008168Z",
     "shell.execute_reply": "2023-03-28T20:30:56.006945Z"
    },
    "papermill": {
     "duration": 0.048036,
     "end_time": "2023-03-28T20:30:56.010672",
     "exception": false,
     "start_time": "2023-03-28T20:30:55.962636",
     "status": "completed"
    },
    "tags": []
   },
   "outputs": [
    {
     "data": {
      "text/plain": [
       "0.000000     5319\n",
       "6.402613        3\n",
       "10.413581       3\n",
       "64.416161       3\n",
       "3.170426        3\n",
       "             ... \n",
       "40.278152       1\n",
       "26.410220       1\n",
       "1.891943        1\n",
       "14.927841       1\n",
       "3.663778        1\n",
       "Name: GoogleMetric:Page Values, Length: 1098, dtype: int64"
      ]
     },
     "execution_count": 88,
     "metadata": {},
     "output_type": "execute_result"
    }
   ],
   "source": [
    "#GoogleMetric:Page Values\n",
    "df['GoogleMetric:Page Values'].value_counts()"
   ]
  },
  {
   "cell_type": "code",
   "execution_count": 89,
   "id": "4b73c902",
   "metadata": {
    "execution": {
     "iopub.execute_input": "2023-03-28T20:30:56.082947Z",
     "iopub.status.busy": "2023-03-28T20:30:56.082507Z",
     "iopub.status.idle": "2023-03-28T20:30:56.090351Z",
     "shell.execute_reply": "2023-03-28T20:30:56.089380Z"
    },
    "papermill": {
     "duration": 0.046961,
     "end_time": "2023-03-28T20:30:56.092905",
     "exception": false,
     "start_time": "2023-03-28T20:30:56.045944",
     "status": "completed"
    },
    "tags": []
   },
   "outputs": [],
   "source": [
    "df['GoogleMetric:Page Values'].fillna(0.0, inplace=True)"
   ]
  },
  {
   "cell_type": "code",
   "execution_count": 90,
   "id": "286616a0",
   "metadata": {
    "execution": {
     "iopub.execute_input": "2023-03-28T20:30:56.162243Z",
     "iopub.status.busy": "2023-03-28T20:30:56.161800Z",
     "iopub.status.idle": "2023-03-28T20:30:56.171456Z",
     "shell.execute_reply": "2023-03-28T20:30:56.170326Z"
    },
    "papermill": {
     "duration": 0.047003,
     "end_time": "2023-03-28T20:30:56.173905",
     "exception": false,
     "start_time": "2023-03-28T20:30:56.126902",
     "status": "completed"
    },
    "tags": []
   },
   "outputs": [
    {
     "data": {
      "text/plain": [
       "0.0    5858\n",
       "0.6     204\n",
       "0.8     187\n",
       "0.4     126\n",
       "0.2     100\n",
       "1.0      79\n",
       "Name: SeasonalPurchase, dtype: int64"
      ]
     },
     "execution_count": 90,
     "metadata": {},
     "output_type": "execute_result"
    }
   ],
   "source": [
    "#SeasonalPurchase\n",
    "df['SeasonalPurchase'].value_counts()\n"
   ]
  },
  {
   "cell_type": "code",
   "execution_count": 91,
   "id": "b6ef0810",
   "metadata": {
    "execution": {
     "iopub.execute_input": "2023-03-28T20:30:56.244796Z",
     "iopub.status.busy": "2023-03-28T20:30:56.244335Z",
     "iopub.status.idle": "2023-03-28T20:30:56.250316Z",
     "shell.execute_reply": "2023-03-28T20:30:56.249091Z"
    },
    "papermill": {
     "duration": 0.044237,
     "end_time": "2023-03-28T20:30:56.253132",
     "exception": false,
     "start_time": "2023-03-28T20:30:56.208895",
     "status": "completed"
    },
    "tags": []
   },
   "outputs": [],
   "source": [
    "df['SeasonalPurchase'].fillna(0.0, inplace=True)"
   ]
  },
  {
   "cell_type": "code",
   "execution_count": 92,
   "id": "0f446551",
   "metadata": {
    "execution": {
     "iopub.execute_input": "2023-03-28T20:30:56.323176Z",
     "iopub.status.busy": "2023-03-28T20:30:56.322774Z",
     "iopub.status.idle": "2023-03-28T20:30:56.332057Z",
     "shell.execute_reply": "2023-03-28T20:30:56.331037Z"
    },
    "papermill": {
     "duration": 0.046915,
     "end_time": "2023-03-28T20:30:56.334429",
     "exception": false,
     "start_time": "2023-03-28T20:30:56.287514",
     "status": "completed"
    },
    "tags": []
   },
   "outputs": [
    {
     "data": {
      "text/plain": [
       "May     1788\n",
       "Nov     1574\n",
       "Mar     1009\n",
       "Dec      956\n",
       "Oct      284\n",
       "Jul      239\n",
       "Sep      220\n",
       "Aug      206\n",
       "June     148\n",
       "Feb      117\n",
       "Name: Month_SeasonalPurchase, dtype: int64"
      ]
     },
     "execution_count": 92,
     "metadata": {},
     "output_type": "execute_result"
    }
   ],
   "source": [
    "#Month_SeasonalPurchase\n",
    "df['Month_SeasonalPurchase'].value_counts()"
   ]
  },
  {
   "cell_type": "code",
   "execution_count": 93,
   "id": "fe69d9de",
   "metadata": {
    "execution": {
     "iopub.execute_input": "2023-03-28T20:30:56.405386Z",
     "iopub.status.busy": "2023-03-28T20:30:56.404887Z",
     "iopub.status.idle": "2023-03-28T20:30:56.413933Z",
     "shell.execute_reply": "2023-03-28T20:30:56.412659Z"
    },
    "papermill": {
     "duration": 0.047016,
     "end_time": "2023-03-28T20:30:56.416140",
     "exception": false,
     "start_time": "2023-03-28T20:30:56.369124",
     "status": "completed"
    },
    "tags": []
   },
   "outputs": [
    {
     "data": {
      "text/plain": [
       "0    May\n",
       "dtype: object"
      ]
     },
     "execution_count": 93,
     "metadata": {},
     "output_type": "execute_result"
    }
   ],
   "source": [
    "df['Month_SeasonalPurchase'].mode()"
   ]
  },
  {
   "cell_type": "code",
   "execution_count": 94,
   "id": "8aa97970",
   "metadata": {
    "execution": {
     "iopub.execute_input": "2023-03-28T20:30:56.487069Z",
     "iopub.status.busy": "2023-03-28T20:30:56.486343Z",
     "iopub.status.idle": "2023-03-28T20:30:56.492018Z",
     "shell.execute_reply": "2023-03-28T20:30:56.491127Z"
    },
    "papermill": {
     "duration": 0.044119,
     "end_time": "2023-03-28T20:30:56.494416",
     "exception": false,
     "start_time": "2023-03-28T20:30:56.450297",
     "status": "completed"
    },
    "tags": []
   },
   "outputs": [],
   "source": [
    "df['Month_SeasonalPurchase'].fillna('May', inplace=True)"
   ]
  },
  {
   "cell_type": "code",
   "execution_count": 95,
   "id": "232e7f07",
   "metadata": {
    "execution": {
     "iopub.execute_input": "2023-03-28T20:30:56.565090Z",
     "iopub.status.busy": "2023-03-28T20:30:56.564646Z",
     "iopub.status.idle": "2023-03-28T20:30:56.573999Z",
     "shell.execute_reply": "2023-03-28T20:30:56.573108Z"
    },
    "papermill": {
     "duration": 0.047835,
     "end_time": "2023-03-28T20:30:56.576521",
     "exception": false,
     "start_time": "2023-03-28T20:30:56.528686",
     "status": "completed"
    },
    "tags": []
   },
   "outputs": [
    {
     "data": {
      "text/plain": [
       "2.0    3454\n",
       "3.0    1400\n",
       "1.0    1361\n",
       "4.0     263\n",
       "8.0      39\n",
       "6.0      11\n",
       "5.0       6\n",
       "7.0       3\n",
       "Name: OS, dtype: int64"
      ]
     },
     "execution_count": 95,
     "metadata": {},
     "output_type": "execute_result"
    }
   ],
   "source": [
    "df['OS'].value_counts()"
   ]
  },
  {
   "cell_type": "code",
   "execution_count": 96,
   "id": "81bc7921",
   "metadata": {
    "execution": {
     "iopub.execute_input": "2023-03-28T20:30:56.651072Z",
     "iopub.status.busy": "2023-03-28T20:30:56.650618Z",
     "iopub.status.idle": "2023-03-28T20:30:56.657216Z",
     "shell.execute_reply": "2023-03-28T20:30:56.656078Z"
    },
    "papermill": {
     "duration": 0.046703,
     "end_time": "2023-03-28T20:30:56.659623",
     "exception": false,
     "start_time": "2023-03-28T20:30:56.612920",
     "status": "completed"
    },
    "tags": []
   },
   "outputs": [],
   "source": [
    "df['OS'].fillna(2.0, inplace=True)"
   ]
  },
  {
   "cell_type": "code",
   "execution_count": 97,
   "id": "2f2ea391",
   "metadata": {
    "execution": {
     "iopub.execute_input": "2023-03-28T20:30:56.731373Z",
     "iopub.status.busy": "2023-03-28T20:30:56.730990Z",
     "iopub.status.idle": "2023-03-28T20:30:56.740652Z",
     "shell.execute_reply": "2023-03-28T20:30:56.739517Z"
    },
    "papermill": {
     "duration": 0.047874,
     "end_time": "2023-03-28T20:30:56.742979",
     "exception": false,
     "start_time": "2023-03-28T20:30:56.695105",
     "status": "completed"
    },
    "tags": []
   },
   "outputs": [
    {
     "data": {
      "text/plain": [
       "2.0     4266\n",
       "1.0     1283\n",
       "4.0      376\n",
       "5.0      239\n",
       "10.0      88\n",
       "6.0       86\n",
       "8.0       75\n",
       "3.0       55\n",
       "7.0       30\n",
       "13.0      30\n",
       "11.0       6\n",
       "12.0       6\n",
       "9.0        1\n",
       "Name: SearchEngine, dtype: int64"
      ]
     },
     "execution_count": 97,
     "metadata": {},
     "output_type": "execute_result"
    }
   ],
   "source": [
    "df['SearchEngine'].value_counts()"
   ]
  },
  {
   "cell_type": "code",
   "execution_count": 98,
   "id": "e2e21287",
   "metadata": {
    "execution": {
     "iopub.execute_input": "2023-03-28T20:30:56.816786Z",
     "iopub.status.busy": "2023-03-28T20:30:56.816339Z",
     "iopub.status.idle": "2023-03-28T20:30:56.822196Z",
     "shell.execute_reply": "2023-03-28T20:30:56.820854Z"
    },
    "papermill": {
     "duration": 0.044894,
     "end_time": "2023-03-28T20:30:56.824545",
     "exception": false,
     "start_time": "2023-03-28T20:30:56.779651",
     "status": "completed"
    },
    "tags": []
   },
   "outputs": [],
   "source": [
    "df['SearchEngine'].fillna(2.0, inplace=True)"
   ]
  },
  {
   "cell_type": "code",
   "execution_count": 99,
   "id": "47f77a1c",
   "metadata": {
    "execution": {
     "iopub.execute_input": "2023-03-28T20:30:56.895383Z",
     "iopub.status.busy": "2023-03-28T20:30:56.895003Z",
     "iopub.status.idle": "2023-03-28T20:30:56.903661Z",
     "shell.execute_reply": "2023-03-28T20:30:56.902536Z"
    },
    "papermill": {
     "duration": 0.04736,
     "end_time": "2023-03-28T20:30:56.906057",
     "exception": false,
     "start_time": "2023-03-28T20:30:56.858697",
     "status": "completed"
    },
    "tags": []
   },
   "outputs": [
    {
     "data": {
      "text/plain": [
       "1.0    2495\n",
       "3.0    1295\n",
       "4.0     648\n",
       "2.0     580\n",
       "6.0     444\n",
       "7.0     398\n",
       "9.0     270\n",
       "8.0     248\n",
       "5.0     174\n",
       "Name: Zone, dtype: int64"
      ]
     },
     "execution_count": 99,
     "metadata": {},
     "output_type": "execute_result"
    }
   ],
   "source": [
    "df['Zone'].value_counts()"
   ]
  },
  {
   "cell_type": "code",
   "execution_count": 100,
   "id": "25f0fd6b",
   "metadata": {
    "execution": {
     "iopub.execute_input": "2023-03-28T20:30:56.978908Z",
     "iopub.status.busy": "2023-03-28T20:30:56.978216Z",
     "iopub.status.idle": "2023-03-28T20:30:56.983910Z",
     "shell.execute_reply": "2023-03-28T20:30:56.982982Z"
    },
    "papermill": {
     "duration": 0.045311,
     "end_time": "2023-03-28T20:30:56.986401",
     "exception": false,
     "start_time": "2023-03-28T20:30:56.941090",
     "status": "completed"
    },
    "tags": []
   },
   "outputs": [],
   "source": [
    "df['Zone'].fillna(1.0, inplace=True)"
   ]
  },
  {
   "cell_type": "code",
   "execution_count": 101,
   "id": "32d9cbd8",
   "metadata": {
    "execution": {
     "iopub.execute_input": "2023-03-28T20:30:57.057388Z",
     "iopub.status.busy": "2023-03-28T20:30:57.056743Z",
     "iopub.status.idle": "2023-03-28T20:30:57.066252Z",
     "shell.execute_reply": "2023-03-28T20:30:57.065187Z"
    },
    "papermill": {
     "duration": 0.047861,
     "end_time": "2023-03-28T20:30:57.068694",
     "exception": false,
     "start_time": "2023-03-28T20:30:57.020833",
     "status": "completed"
    },
    "tags": []
   },
   "outputs": [
    {
     "data": {
      "text/plain": [
       "2.0     2032\n",
       "1.0     1349\n",
       "3.0     1111\n",
       "4.0      537\n",
       "13.0     388\n",
       "6.0      250\n",
       "10.0     216\n",
       "8.0      176\n",
       "5.0      146\n",
       "11.0     141\n",
       "20.0     106\n",
       "15.0      20\n",
       "7.0       20\n",
       "9.0       15\n",
       "19.0      12\n",
       "14.0       7\n",
       "18.0       5\n",
       "Name: Type of Traffic, dtype: int64"
      ]
     },
     "execution_count": 101,
     "metadata": {},
     "output_type": "execute_result"
    }
   ],
   "source": [
    "df['Type of Traffic'].value_counts()"
   ]
  },
  {
   "cell_type": "code",
   "execution_count": 102,
   "id": "5a945ddf",
   "metadata": {
    "execution": {
     "iopub.execute_input": "2023-03-28T20:30:57.141981Z",
     "iopub.status.busy": "2023-03-28T20:30:57.141498Z",
     "iopub.status.idle": "2023-03-28T20:30:57.147513Z",
     "shell.execute_reply": "2023-03-28T20:30:57.146324Z"
    },
    "papermill": {
     "duration": 0.045547,
     "end_time": "2023-03-28T20:30:57.150026",
     "exception": false,
     "start_time": "2023-03-28T20:30:57.104479",
     "status": "completed"
    },
    "tags": []
   },
   "outputs": [],
   "source": [
    "df['Type of Traffic'].fillna(2.0, inplace=True)"
   ]
  },
  {
   "cell_type": "code",
   "execution_count": 103,
   "id": "97b089ae",
   "metadata": {
    "execution": {
     "iopub.execute_input": "2023-03-28T20:30:57.222348Z",
     "iopub.status.busy": "2023-03-28T20:30:57.221897Z",
     "iopub.status.idle": "2023-03-28T20:30:57.231093Z",
     "shell.execute_reply": "2023-03-28T20:30:57.229953Z"
    },
    "papermill": {
     "duration": 0.04834,
     "end_time": "2023-03-28T20:30:57.233420",
     "exception": false,
     "start_time": "2023-03-28T20:30:57.185080",
     "status": "completed"
    },
    "tags": []
   },
   "outputs": [
    {
     "data": {
      "text/plain": [
       "Returning_Visitor    5585\n",
       "New_Visitor           891\n",
       "Other                  35\n",
       "Name: CustomerType, dtype: int64"
      ]
     },
     "execution_count": 103,
     "metadata": {},
     "output_type": "execute_result"
    }
   ],
   "source": [
    "df['CustomerType'].value_counts()"
   ]
  },
  {
   "cell_type": "code",
   "execution_count": 104,
   "id": "d0862057",
   "metadata": {
    "execution": {
     "iopub.execute_input": "2023-03-28T20:30:57.308055Z",
     "iopub.status.busy": "2023-03-28T20:30:57.307667Z",
     "iopub.status.idle": "2023-03-28T20:30:57.314069Z",
     "shell.execute_reply": "2023-03-28T20:30:57.312901Z"
    },
    "papermill": {
     "duration": 0.048043,
     "end_time": "2023-03-28T20:30:57.316349",
     "exception": false,
     "start_time": "2023-03-28T20:30:57.268306",
     "status": "completed"
    },
    "tags": []
   },
   "outputs": [],
   "source": [
    "df['CustomerType'].fillna('Returning_Visitor', inplace=True)"
   ]
  },
  {
   "cell_type": "code",
   "execution_count": 105,
   "id": "c66e99b9",
   "metadata": {
    "execution": {
     "iopub.execute_input": "2023-03-28T20:30:57.389338Z",
     "iopub.status.busy": "2023-03-28T20:30:57.388157Z",
     "iopub.status.idle": "2023-03-28T20:30:57.397421Z",
     "shell.execute_reply": "2023-03-28T20:30:57.396506Z"
    },
    "papermill": {
     "duration": 0.048542,
     "end_time": "2023-03-28T20:30:57.399654",
     "exception": false,
     "start_time": "2023-03-28T20:30:57.351112",
     "status": "completed"
    },
    "tags": []
   },
   "outputs": [
    {
     "data": {
      "text/plain": [
       "Not Specified    2242\n",
       "Male             2167\n",
       "Female           2126\n",
       "Name: Gender, dtype: int64"
      ]
     },
     "execution_count": 105,
     "metadata": {},
     "output_type": "execute_result"
    }
   ],
   "source": [
    "df['Gender'].value_counts()"
   ]
  },
  {
   "cell_type": "code",
   "execution_count": 106,
   "id": "7e936869",
   "metadata": {
    "execution": {
     "iopub.execute_input": "2023-03-28T20:30:57.472398Z",
     "iopub.status.busy": "2023-03-28T20:30:57.471372Z",
     "iopub.status.idle": "2023-03-28T20:30:57.478979Z",
     "shell.execute_reply": "2023-03-28T20:30:57.477813Z"
    },
    "papermill": {
     "duration": 0.047197,
     "end_time": "2023-03-28T20:30:57.481876",
     "exception": false,
     "start_time": "2023-03-28T20:30:57.434679",
     "status": "completed"
    },
    "tags": []
   },
   "outputs": [],
   "source": [
    "df['Gender'].fillna('Not Specified', inplace=True)"
   ]
  },
  {
   "cell_type": "code",
   "execution_count": 107,
   "id": "6871fa3b",
   "metadata": {
    "execution": {
     "iopub.execute_input": "2023-03-28T20:30:57.553381Z",
     "iopub.status.busy": "2023-03-28T20:30:57.553002Z",
     "iopub.status.idle": "2023-03-28T20:30:57.561744Z",
     "shell.execute_reply": "2023-03-28T20:30:57.560873Z"
    },
    "papermill": {
     "duration": 0.047093,
     "end_time": "2023-03-28T20:30:57.563796",
     "exception": false,
     "start_time": "2023-03-28T20:30:57.516703",
     "status": "completed"
    },
    "tags": []
   },
   "outputs": [
    {
     "data": {
      "text/plain": [
       "Required    2201\n",
       "ALL         2199\n",
       "Deny        2137\n",
       "Name: Cookies Setting, dtype: int64"
      ]
     },
     "execution_count": 107,
     "metadata": {},
     "output_type": "execute_result"
    }
   ],
   "source": [
    "df['Cookies Setting'].value_counts()"
   ]
  },
  {
   "cell_type": "code",
   "execution_count": 108,
   "id": "8c6063a8",
   "metadata": {
    "execution": {
     "iopub.execute_input": "2023-03-28T20:30:57.638339Z",
     "iopub.status.busy": "2023-03-28T20:30:57.637059Z",
     "iopub.status.idle": "2023-03-28T20:30:57.644120Z",
     "shell.execute_reply": "2023-03-28T20:30:57.642962Z"
    },
    "papermill": {
     "duration": 0.046641,
     "end_time": "2023-03-28T20:30:57.646649",
     "exception": false,
     "start_time": "2023-03-28T20:30:57.600008",
     "status": "completed"
    },
    "tags": []
   },
   "outputs": [],
   "source": [
    "df['Cookies Setting'].fillna('Deny', inplace=True)"
   ]
  },
  {
   "cell_type": "code",
   "execution_count": 109,
   "id": "1debc928",
   "metadata": {
    "execution": {
     "iopub.execute_input": "2023-03-28T20:30:57.719791Z",
     "iopub.status.busy": "2023-03-28T20:30:57.719390Z",
     "iopub.status.idle": "2023-03-28T20:30:57.729158Z",
     "shell.execute_reply": "2023-03-28T20:30:57.728042Z"
    },
    "papermill": {
     "duration": 0.049553,
     "end_time": "2023-03-28T20:30:57.731533",
     "exception": false,
     "start_time": "2023-03-28T20:30:57.681980",
     "status": "completed"
    },
    "tags": []
   },
   "outputs": [
    {
     "data": {
      "text/plain": [
       "Others           1646\n",
       "Graduate         1636\n",
       "Not Specified    1632\n",
       "Diploma          1616\n",
       "Name: Education, dtype: int64"
      ]
     },
     "execution_count": 109,
     "metadata": {},
     "output_type": "execute_result"
    }
   ],
   "source": [
    "df['Education'].value_counts()"
   ]
  },
  {
   "cell_type": "code",
   "execution_count": 110,
   "id": "d8b0342e",
   "metadata": {
    "execution": {
     "iopub.execute_input": "2023-03-28T20:30:57.805401Z",
     "iopub.status.busy": "2023-03-28T20:30:57.805000Z",
     "iopub.status.idle": "2023-03-28T20:30:57.811371Z",
     "shell.execute_reply": "2023-03-28T20:30:57.810080Z"
    },
    "papermill": {
     "duration": 0.046315,
     "end_time": "2023-03-28T20:30:57.813540",
     "exception": false,
     "start_time": "2023-03-28T20:30:57.767225",
     "status": "completed"
    },
    "tags": []
   },
   "outputs": [],
   "source": [
    "df['Education'].fillna('Others', inplace=True)"
   ]
  },
  {
   "cell_type": "code",
   "execution_count": 111,
   "id": "9ae1d479",
   "metadata": {
    "execution": {
     "iopub.execute_input": "2023-03-28T20:30:57.885160Z",
     "iopub.status.busy": "2023-03-28T20:30:57.884766Z",
     "iopub.status.idle": "2023-03-28T20:30:57.893622Z",
     "shell.execute_reply": "2023-03-28T20:30:57.892369Z"
    },
    "papermill": {
     "duration": 0.047782,
     "end_time": "2023-03-28T20:30:57.896429",
     "exception": false,
     "start_time": "2023-03-28T20:30:57.848647",
     "status": "completed"
    },
    "tags": []
   },
   "outputs": [
    {
     "data": {
      "text/plain": [
       "Other      2220\n",
       "Single     2170\n",
       "Married    2162\n",
       "Name: Marital Status, dtype: int64"
      ]
     },
     "execution_count": 111,
     "metadata": {},
     "output_type": "execute_result"
    }
   ],
   "source": [
    "df['Marital Status'].value_counts()"
   ]
  },
  {
   "cell_type": "code",
   "execution_count": 112,
   "id": "f00d8448",
   "metadata": {
    "execution": {
     "iopub.execute_input": "2023-03-28T20:30:57.970632Z",
     "iopub.status.busy": "2023-03-28T20:30:57.970216Z",
     "iopub.status.idle": "2023-03-28T20:30:57.977177Z",
     "shell.execute_reply": "2023-03-28T20:30:57.976128Z"
    },
    "papermill": {
     "duration": 0.046403,
     "end_time": "2023-03-28T20:30:57.979650",
     "exception": false,
     "start_time": "2023-03-28T20:30:57.933247",
     "status": "completed"
    },
    "tags": []
   },
   "outputs": [],
   "source": [
    "df['Marital Status'].fillna('Other', inplace=True)"
   ]
  },
  {
   "cell_type": "code",
   "execution_count": 113,
   "id": "8a846261",
   "metadata": {
    "execution": {
     "iopub.execute_input": "2023-03-28T20:30:58.053761Z",
     "iopub.status.busy": "2023-03-28T20:30:58.052564Z",
     "iopub.status.idle": "2023-03-28T20:30:58.060784Z",
     "shell.execute_reply": "2023-03-28T20:30:58.059816Z"
    },
    "papermill": {
     "duration": 0.04694,
     "end_time": "2023-03-28T20:30:58.062844",
     "exception": false,
     "start_time": "2023-03-28T20:30:58.015904",
     "status": "completed"
    },
    "tags": []
   },
   "outputs": [
    {
     "data": {
      "text/plain": [
       "0.0    5050\n",
       "1.0    1491\n",
       "Name: WeekendPurchase, dtype: int64"
      ]
     },
     "execution_count": 113,
     "metadata": {},
     "output_type": "execute_result"
    }
   ],
   "source": [
    "df['WeekendPurchase'].value_counts()"
   ]
  },
  {
   "cell_type": "code",
   "execution_count": 114,
   "id": "91fcc892",
   "metadata": {
    "execution": {
     "iopub.execute_input": "2023-03-28T20:30:58.136076Z",
     "iopub.status.busy": "2023-03-28T20:30:58.135266Z",
     "iopub.status.idle": "2023-03-28T20:30:58.140216Z",
     "shell.execute_reply": "2023-03-28T20:30:58.139429Z"
    },
    "papermill": {
     "duration": 0.044054,
     "end_time": "2023-03-28T20:30:58.142521",
     "exception": false,
     "start_time": "2023-03-28T20:30:58.098467",
     "status": "completed"
    },
    "tags": []
   },
   "outputs": [],
   "source": [
    "df['WeekendPurchase'].fillna(0.0, inplace=True)"
   ]
  },
  {
   "cell_type": "code",
   "execution_count": 115,
   "id": "9a210849",
   "metadata": {
    "execution": {
     "iopub.execute_input": "2023-03-28T20:30:58.215945Z",
     "iopub.status.busy": "2023-03-28T20:30:58.215189Z",
     "iopub.status.idle": "2023-03-28T20:30:58.256131Z",
     "shell.execute_reply": "2023-03-28T20:30:58.255216Z"
    },
    "papermill": {
     "duration": 0.080188,
     "end_time": "2023-03-28T20:30:58.258275",
     "exception": false,
     "start_time": "2023-03-28T20:30:58.178087",
     "status": "completed"
    },
    "tags": []
   },
   "outputs": [
    {
     "data": {
      "text/html": [
       "<div>\n",
       "<style scoped>\n",
       "    .dataframe tbody tr th:only-of-type {\n",
       "        vertical-align: middle;\n",
       "    }\n",
       "\n",
       "    .dataframe tbody tr th {\n",
       "        vertical-align: top;\n",
       "    }\n",
       "\n",
       "    .dataframe thead th {\n",
       "        text-align: right;\n",
       "    }\n",
       "</style>\n",
       "<table border=\"1\" class=\"dataframe\">\n",
       "  <thead>\n",
       "    <tr style=\"text-align: right;\">\n",
       "      <th></th>\n",
       "      <th>HomePage</th>\n",
       "      <th>HomePage_Duration</th>\n",
       "      <th>LandingPage</th>\n",
       "      <th>LandingPage_Duration</th>\n",
       "      <th>ProductDescriptionPage</th>\n",
       "      <th>ProductDescriptionPage_Duration</th>\n",
       "      <th>GoogleMetric:Bounce Rates</th>\n",
       "      <th>GoogleMetric:Exit Rates</th>\n",
       "      <th>GoogleMetric:Page Values</th>\n",
       "      <th>SeasonalPurchase</th>\n",
       "      <th>...</th>\n",
       "      <th>OS</th>\n",
       "      <th>SearchEngine</th>\n",
       "      <th>Zone</th>\n",
       "      <th>Type of Traffic</th>\n",
       "      <th>CustomerType</th>\n",
       "      <th>Gender</th>\n",
       "      <th>Cookies Setting</th>\n",
       "      <th>Education</th>\n",
       "      <th>Marital Status</th>\n",
       "      <th>WeekendPurchase</th>\n",
       "    </tr>\n",
       "  </thead>\n",
       "  <tbody>\n",
       "    <tr>\n",
       "      <th>0</th>\n",
       "      <td>0.0</td>\n",
       "      <td>0.000000</td>\n",
       "      <td>0.0</td>\n",
       "      <td>0.0</td>\n",
       "      <td>1.0</td>\n",
       "      <td>0.000000</td>\n",
       "      <td>0.200000</td>\n",
       "      <td>0.200000</td>\n",
       "      <td>0.0</td>\n",
       "      <td>0.0</td>\n",
       "      <td>...</td>\n",
       "      <td>1.0</td>\n",
       "      <td>1.0</td>\n",
       "      <td>1.0</td>\n",
       "      <td>1.0</td>\n",
       "      <td>Returning_Visitor</td>\n",
       "      <td>Not Specified</td>\n",
       "      <td>Deny</td>\n",
       "      <td>Not Specified</td>\n",
       "      <td>Single</td>\n",
       "      <td>0.0</td>\n",
       "    </tr>\n",
       "    <tr>\n",
       "      <th>1</th>\n",
       "      <td>0.0</td>\n",
       "      <td>0.000000</td>\n",
       "      <td>0.0</td>\n",
       "      <td>0.0</td>\n",
       "      <td>2.0</td>\n",
       "      <td>64.000000</td>\n",
       "      <td>0.000000</td>\n",
       "      <td>0.100000</td>\n",
       "      <td>0.0</td>\n",
       "      <td>0.0</td>\n",
       "      <td>...</td>\n",
       "      <td>2.0</td>\n",
       "      <td>2.0</td>\n",
       "      <td>1.0</td>\n",
       "      <td>2.0</td>\n",
       "      <td>Returning_Visitor</td>\n",
       "      <td>Not Specified</td>\n",
       "      <td>ALL</td>\n",
       "      <td>Graduate</td>\n",
       "      <td>Married</td>\n",
       "      <td>0.0</td>\n",
       "    </tr>\n",
       "    <tr>\n",
       "      <th>2</th>\n",
       "      <td>0.0</td>\n",
       "      <td>0.000000</td>\n",
       "      <td>0.0</td>\n",
       "      <td>0.0</td>\n",
       "      <td>19.0</td>\n",
       "      <td>154.216667</td>\n",
       "      <td>0.015789</td>\n",
       "      <td>0.024561</td>\n",
       "      <td>0.0</td>\n",
       "      <td>0.0</td>\n",
       "      <td>...</td>\n",
       "      <td>2.0</td>\n",
       "      <td>2.0</td>\n",
       "      <td>1.0</td>\n",
       "      <td>3.0</td>\n",
       "      <td>Returning_Visitor</td>\n",
       "      <td>Female</td>\n",
       "      <td>Required</td>\n",
       "      <td>Diploma</td>\n",
       "      <td>Other</td>\n",
       "      <td>0.0</td>\n",
       "    </tr>\n",
       "    <tr>\n",
       "      <th>3</th>\n",
       "      <td>0.0</td>\n",
       "      <td>0.000000</td>\n",
       "      <td>0.0</td>\n",
       "      <td>0.0</td>\n",
       "      <td>2.0</td>\n",
       "      <td>37.000000</td>\n",
       "      <td>0.000000</td>\n",
       "      <td>0.100000</td>\n",
       "      <td>0.0</td>\n",
       "      <td>0.8</td>\n",
       "      <td>...</td>\n",
       "      <td>2.0</td>\n",
       "      <td>2.0</td>\n",
       "      <td>2.0</td>\n",
       "      <td>3.0</td>\n",
       "      <td>Returning_Visitor</td>\n",
       "      <td>Not Specified</td>\n",
       "      <td>Required</td>\n",
       "      <td>Graduate</td>\n",
       "      <td>Other</td>\n",
       "      <td>0.0</td>\n",
       "    </tr>\n",
       "    <tr>\n",
       "      <th>4</th>\n",
       "      <td>0.0</td>\n",
       "      <td>0.000000</td>\n",
       "      <td>0.0</td>\n",
       "      <td>0.0</td>\n",
       "      <td>16.0</td>\n",
       "      <td>407.750000</td>\n",
       "      <td>0.018750</td>\n",
       "      <td>0.025833</td>\n",
       "      <td>0.0</td>\n",
       "      <td>0.4</td>\n",
       "      <td>...</td>\n",
       "      <td>1.0</td>\n",
       "      <td>1.0</td>\n",
       "      <td>4.0</td>\n",
       "      <td>3.0</td>\n",
       "      <td>Returning_Visitor</td>\n",
       "      <td>Female</td>\n",
       "      <td>Deny</td>\n",
       "      <td>Others</td>\n",
       "      <td>Other</td>\n",
       "      <td>0.0</td>\n",
       "    </tr>\n",
       "    <tr>\n",
       "      <th>...</th>\n",
       "      <td>...</td>\n",
       "      <td>...</td>\n",
       "      <td>...</td>\n",
       "      <td>...</td>\n",
       "      <td>...</td>\n",
       "      <td>...</td>\n",
       "      <td>...</td>\n",
       "      <td>...</td>\n",
       "      <td>...</td>\n",
       "      <td>...</td>\n",
       "      <td>...</td>\n",
       "      <td>...</td>\n",
       "      <td>...</td>\n",
       "      <td>...</td>\n",
       "      <td>...</td>\n",
       "      <td>...</td>\n",
       "      <td>...</td>\n",
       "      <td>...</td>\n",
       "      <td>...</td>\n",
       "      <td>...</td>\n",
       "      <td>...</td>\n",
       "    </tr>\n",
       "    <tr>\n",
       "      <th>6594</th>\n",
       "      <td>0.0</td>\n",
       "      <td>0.000000</td>\n",
       "      <td>0.0</td>\n",
       "      <td>0.0</td>\n",
       "      <td>7.0</td>\n",
       "      <td>208.000000</td>\n",
       "      <td>0.000000</td>\n",
       "      <td>0.028571</td>\n",
       "      <td>0.0</td>\n",
       "      <td>0.0</td>\n",
       "      <td>...</td>\n",
       "      <td>4.0</td>\n",
       "      <td>1.0</td>\n",
       "      <td>1.0</td>\n",
       "      <td>5.0</td>\n",
       "      <td>Returning_Visitor</td>\n",
       "      <td>Not Specified</td>\n",
       "      <td>Required</td>\n",
       "      <td>Graduate</td>\n",
       "      <td>Other</td>\n",
       "      <td>1.0</td>\n",
       "    </tr>\n",
       "    <tr>\n",
       "      <th>6595</th>\n",
       "      <td>0.0</td>\n",
       "      <td>0.000000</td>\n",
       "      <td>3.0</td>\n",
       "      <td>44.0</td>\n",
       "      <td>179.0</td>\n",
       "      <td>1738.472529</td>\n",
       "      <td>0.000027</td>\n",
       "      <td>0.025998</td>\n",
       "      <td>0.0</td>\n",
       "      <td>0.0</td>\n",
       "      <td>...</td>\n",
       "      <td>2.0</td>\n",
       "      <td>4.0</td>\n",
       "      <td>9.0</td>\n",
       "      <td>11.0</td>\n",
       "      <td>Returning_Visitor</td>\n",
       "      <td>Male</td>\n",
       "      <td>Required</td>\n",
       "      <td>Not Specified</td>\n",
       "      <td>Other</td>\n",
       "      <td>0.0</td>\n",
       "    </tr>\n",
       "    <tr>\n",
       "      <th>6596</th>\n",
       "      <td>5.0</td>\n",
       "      <td>99.166667</td>\n",
       "      <td>1.0</td>\n",
       "      <td>27.0</td>\n",
       "      <td>33.0</td>\n",
       "      <td>0.000000</td>\n",
       "      <td>0.002778</td>\n",
       "      <td>0.009127</td>\n",
       "      <td>0.0</td>\n",
       "      <td>0.6</td>\n",
       "      <td>...</td>\n",
       "      <td>8.0</td>\n",
       "      <td>5.0</td>\n",
       "      <td>1.0</td>\n",
       "      <td>2.0</td>\n",
       "      <td>Returning_Visitor</td>\n",
       "      <td>Female</td>\n",
       "      <td>Required</td>\n",
       "      <td>Graduate</td>\n",
       "      <td>Married</td>\n",
       "      <td>0.0</td>\n",
       "    </tr>\n",
       "    <tr>\n",
       "      <th>6597</th>\n",
       "      <td>0.0</td>\n",
       "      <td>0.000000</td>\n",
       "      <td>0.0</td>\n",
       "      <td>0.0</td>\n",
       "      <td>3.0</td>\n",
       "      <td>9.000000</td>\n",
       "      <td>0.066667</td>\n",
       "      <td>0.133333</td>\n",
       "      <td>0.0</td>\n",
       "      <td>0.0</td>\n",
       "      <td>...</td>\n",
       "      <td>2.0</td>\n",
       "      <td>2.0</td>\n",
       "      <td>2.0</td>\n",
       "      <td>3.0</td>\n",
       "      <td>Returning_Visitor</td>\n",
       "      <td>Not Specified</td>\n",
       "      <td>Deny</td>\n",
       "      <td>Diploma</td>\n",
       "      <td>Other</td>\n",
       "      <td>1.0</td>\n",
       "    </tr>\n",
       "    <tr>\n",
       "      <th>6598</th>\n",
       "      <td>0.0</td>\n",
       "      <td>0.000000</td>\n",
       "      <td>0.0</td>\n",
       "      <td>0.0</td>\n",
       "      <td>6.0</td>\n",
       "      <td>313.000000</td>\n",
       "      <td>0.000000</td>\n",
       "      <td>0.050000</td>\n",
       "      <td>0.0</td>\n",
       "      <td>0.0</td>\n",
       "      <td>...</td>\n",
       "      <td>2.0</td>\n",
       "      <td>4.0</td>\n",
       "      <td>3.0</td>\n",
       "      <td>1.0</td>\n",
       "      <td>Returning_Visitor</td>\n",
       "      <td>Male</td>\n",
       "      <td>Required</td>\n",
       "      <td>Diploma</td>\n",
       "      <td>Single</td>\n",
       "      <td>0.0</td>\n",
       "    </tr>\n",
       "  </tbody>\n",
       "</table>\n",
       "<p>6599 rows × 21 columns</p>\n",
       "</div>"
      ],
      "text/plain": [
       "      HomePage  HomePage_Duration  LandingPage  LandingPage_Duration  \\\n",
       "0          0.0           0.000000          0.0                   0.0   \n",
       "1          0.0           0.000000          0.0                   0.0   \n",
       "2          0.0           0.000000          0.0                   0.0   \n",
       "3          0.0           0.000000          0.0                   0.0   \n",
       "4          0.0           0.000000          0.0                   0.0   \n",
       "...        ...                ...          ...                   ...   \n",
       "6594       0.0           0.000000          0.0                   0.0   \n",
       "6595       0.0           0.000000          3.0                  44.0   \n",
       "6596       5.0          99.166667          1.0                  27.0   \n",
       "6597       0.0           0.000000          0.0                   0.0   \n",
       "6598       0.0           0.000000          0.0                   0.0   \n",
       "\n",
       "      ProductDescriptionPage  ProductDescriptionPage_Duration  \\\n",
       "0                        1.0                         0.000000   \n",
       "1                        2.0                        64.000000   \n",
       "2                       19.0                       154.216667   \n",
       "3                        2.0                        37.000000   \n",
       "4                       16.0                       407.750000   \n",
       "...                      ...                              ...   \n",
       "6594                     7.0                       208.000000   \n",
       "6595                   179.0                      1738.472529   \n",
       "6596                    33.0                         0.000000   \n",
       "6597                     3.0                         9.000000   \n",
       "6598                     6.0                       313.000000   \n",
       "\n",
       "      GoogleMetric:Bounce Rates  GoogleMetric:Exit Rates  \\\n",
       "0                      0.200000                 0.200000   \n",
       "1                      0.000000                 0.100000   \n",
       "2                      0.015789                 0.024561   \n",
       "3                      0.000000                 0.100000   \n",
       "4                      0.018750                 0.025833   \n",
       "...                         ...                      ...   \n",
       "6594                   0.000000                 0.028571   \n",
       "6595                   0.000027                 0.025998   \n",
       "6596                   0.002778                 0.009127   \n",
       "6597                   0.066667                 0.133333   \n",
       "6598                   0.000000                 0.050000   \n",
       "\n",
       "      GoogleMetric:Page Values  SeasonalPurchase  ...   OS  SearchEngine  \\\n",
       "0                          0.0               0.0  ...  1.0           1.0   \n",
       "1                          0.0               0.0  ...  2.0           2.0   \n",
       "2                          0.0               0.0  ...  2.0           2.0   \n",
       "3                          0.0               0.8  ...  2.0           2.0   \n",
       "4                          0.0               0.4  ...  1.0           1.0   \n",
       "...                        ...               ...  ...  ...           ...   \n",
       "6594                       0.0               0.0  ...  4.0           1.0   \n",
       "6595                       0.0               0.0  ...  2.0           4.0   \n",
       "6596                       0.0               0.6  ...  8.0           5.0   \n",
       "6597                       0.0               0.0  ...  2.0           2.0   \n",
       "6598                       0.0               0.0  ...  2.0           4.0   \n",
       "\n",
       "      Zone  Type of Traffic       CustomerType         Gender Cookies Setting  \\\n",
       "0      1.0              1.0  Returning_Visitor  Not Specified            Deny   \n",
       "1      1.0              2.0  Returning_Visitor  Not Specified             ALL   \n",
       "2      1.0              3.0  Returning_Visitor         Female        Required   \n",
       "3      2.0              3.0  Returning_Visitor  Not Specified        Required   \n",
       "4      4.0              3.0  Returning_Visitor         Female            Deny   \n",
       "...    ...              ...                ...            ...             ...   \n",
       "6594   1.0              5.0  Returning_Visitor  Not Specified        Required   \n",
       "6595   9.0             11.0  Returning_Visitor           Male        Required   \n",
       "6596   1.0              2.0  Returning_Visitor         Female        Required   \n",
       "6597   2.0              3.0  Returning_Visitor  Not Specified            Deny   \n",
       "6598   3.0              1.0  Returning_Visitor           Male        Required   \n",
       "\n",
       "          Education Marital Status WeekendPurchase  \n",
       "0     Not Specified         Single             0.0  \n",
       "1          Graduate        Married             0.0  \n",
       "2           Diploma          Other             0.0  \n",
       "3          Graduate          Other             0.0  \n",
       "4            Others          Other             0.0  \n",
       "...             ...            ...             ...  \n",
       "6594       Graduate          Other             1.0  \n",
       "6595  Not Specified          Other             0.0  \n",
       "6596       Graduate        Married             0.0  \n",
       "6597        Diploma          Other             1.0  \n",
       "6598        Diploma         Single             0.0  \n",
       "\n",
       "[6599 rows x 21 columns]"
      ]
     },
     "execution_count": 115,
     "metadata": {},
     "output_type": "execute_result"
    }
   ],
   "source": [
    "df"
   ]
  },
  {
   "cell_type": "code",
   "execution_count": 116,
   "id": "c01c30c3",
   "metadata": {
    "execution": {
     "iopub.execute_input": "2023-03-28T20:30:58.332932Z",
     "iopub.status.busy": "2023-03-28T20:30:58.331830Z",
     "iopub.status.idle": "2023-03-28T20:30:58.341561Z",
     "shell.execute_reply": "2023-03-28T20:30:58.340161Z"
    },
    "papermill": {
     "duration": 0.049845,
     "end_time": "2023-03-28T20:30:58.344380",
     "exception": false,
     "start_time": "2023-03-28T20:30:58.294535",
     "status": "completed"
    },
    "tags": []
   },
   "outputs": [],
   "source": [
    "enc=OrdinalEncoder()\n",
    "df[[\"Month_SeasonalPurchase\"]]=enc.fit_transform(df[[\"Month_SeasonalPurchase\"]])\n",
    "#enc.transform(df[\"Month_SeasonalPurchase\"])"
   ]
  },
  {
   "cell_type": "code",
   "execution_count": 117,
   "id": "03e5023a",
   "metadata": {
    "execution": {
     "iopub.execute_input": "2023-03-28T20:30:58.418806Z",
     "iopub.status.busy": "2023-03-28T20:30:58.418326Z",
     "iopub.status.idle": "2023-03-28T20:30:58.429917Z",
     "shell.execute_reply": "2023-03-28T20:30:58.428652Z"
    },
    "papermill": {
     "duration": 0.051984,
     "end_time": "2023-03-28T20:30:58.432885",
     "exception": false,
     "start_time": "2023-03-28T20:30:58.380901",
     "status": "completed"
    },
    "tags": []
   },
   "outputs": [],
   "source": [
    "enc=OrdinalEncoder()\n",
    "df[[\"CustomerType\"]]=enc.fit_transform(df[[\"CustomerType\"]])\n",
    "#enc.transform(df[\"Month_SeasonalPurchase\"])"
   ]
  },
  {
   "cell_type": "code",
   "execution_count": 118,
   "id": "9bef5267",
   "metadata": {
    "execution": {
     "iopub.execute_input": "2023-03-28T20:30:58.510948Z",
     "iopub.status.busy": "2023-03-28T20:30:58.509675Z",
     "iopub.status.idle": "2023-03-28T20:30:58.521382Z",
     "shell.execute_reply": "2023-03-28T20:30:58.520177Z"
    },
    "papermill": {
     "duration": 0.054176,
     "end_time": "2023-03-28T20:30:58.524059",
     "exception": false,
     "start_time": "2023-03-28T20:30:58.469883",
     "status": "completed"
    },
    "tags": []
   },
   "outputs": [],
   "source": [
    "enc=OrdinalEncoder()\n",
    "df[[\"Gender\"]]=enc.fit_transform(df[[\"Gender\"]])\n",
    "#enc.transform(df[\"Month_SeasonalPurchase\"])"
   ]
  },
  {
   "cell_type": "code",
   "execution_count": 119,
   "id": "94817054",
   "metadata": {
    "execution": {
     "iopub.execute_input": "2023-03-28T20:30:58.599523Z",
     "iopub.status.busy": "2023-03-28T20:30:58.598710Z",
     "iopub.status.idle": "2023-03-28T20:30:58.609058Z",
     "shell.execute_reply": "2023-03-28T20:30:58.608028Z"
    },
    "papermill": {
     "duration": 0.05147,
     "end_time": "2023-03-28T20:30:58.611498",
     "exception": false,
     "start_time": "2023-03-28T20:30:58.560028",
     "status": "completed"
    },
    "tags": []
   },
   "outputs": [],
   "source": [
    "enc=OrdinalEncoder()\n",
    "df[[\"Cookies Setting\"]]=enc.fit_transform(df[[\"Cookies Setting\"]])"
   ]
  },
  {
   "cell_type": "code",
   "execution_count": 120,
   "id": "60fcc521",
   "metadata": {
    "execution": {
     "iopub.execute_input": "2023-03-28T20:30:58.686106Z",
     "iopub.status.busy": "2023-03-28T20:30:58.685374Z",
     "iopub.status.idle": "2023-03-28T20:30:58.695063Z",
     "shell.execute_reply": "2023-03-28T20:30:58.693960Z"
    },
    "papermill": {
     "duration": 0.049871,
     "end_time": "2023-03-28T20:30:58.697682",
     "exception": false,
     "start_time": "2023-03-28T20:30:58.647811",
     "status": "completed"
    },
    "tags": []
   },
   "outputs": [],
   "source": [
    "\n",
    "enc=OrdinalEncoder()\n",
    "df[[\"Education\"]]=enc.fit_transform(df[[\"Education\"]])\n"
   ]
  },
  {
   "cell_type": "code",
   "execution_count": 121,
   "id": "f67cd080",
   "metadata": {
    "execution": {
     "iopub.execute_input": "2023-03-28T20:30:58.772272Z",
     "iopub.status.busy": "2023-03-28T20:30:58.771819Z",
     "iopub.status.idle": "2023-03-28T20:30:58.783398Z",
     "shell.execute_reply": "2023-03-28T20:30:58.782056Z"
    },
    "papermill": {
     "duration": 0.052256,
     "end_time": "2023-03-28T20:30:58.786241",
     "exception": false,
     "start_time": "2023-03-28T20:30:58.733985",
     "status": "completed"
    },
    "tags": []
   },
   "outputs": [],
   "source": [
    "\n",
    "enc=OrdinalEncoder()\n",
    "df[[\"Marital Status\"]]=enc.fit_transform(df[[\"Marital Status\"]])"
   ]
  },
  {
   "cell_type": "code",
   "execution_count": 122,
   "id": "12d0624c",
   "metadata": {
    "execution": {
     "iopub.execute_input": "2023-03-28T20:30:58.860593Z",
     "iopub.status.busy": "2023-03-28T20:30:58.859898Z",
     "iopub.status.idle": "2023-03-28T20:30:58.901887Z",
     "shell.execute_reply": "2023-03-28T20:30:58.900656Z"
    },
    "papermill": {
     "duration": 0.082123,
     "end_time": "2023-03-28T20:30:58.904535",
     "exception": false,
     "start_time": "2023-03-28T20:30:58.822412",
     "status": "completed"
    },
    "tags": []
   },
   "outputs": [
    {
     "data": {
      "text/html": [
       "<div>\n",
       "<style scoped>\n",
       "    .dataframe tbody tr th:only-of-type {\n",
       "        vertical-align: middle;\n",
       "    }\n",
       "\n",
       "    .dataframe tbody tr th {\n",
       "        vertical-align: top;\n",
       "    }\n",
       "\n",
       "    .dataframe thead th {\n",
       "        text-align: right;\n",
       "    }\n",
       "</style>\n",
       "<table border=\"1\" class=\"dataframe\">\n",
       "  <thead>\n",
       "    <tr style=\"text-align: right;\">\n",
       "      <th></th>\n",
       "      <th>HomePage</th>\n",
       "      <th>HomePage_Duration</th>\n",
       "      <th>LandingPage</th>\n",
       "      <th>LandingPage_Duration</th>\n",
       "      <th>ProductDescriptionPage</th>\n",
       "      <th>ProductDescriptionPage_Duration</th>\n",
       "      <th>GoogleMetric:Bounce Rates</th>\n",
       "      <th>GoogleMetric:Exit Rates</th>\n",
       "      <th>GoogleMetric:Page Values</th>\n",
       "      <th>SeasonalPurchase</th>\n",
       "      <th>...</th>\n",
       "      <th>OS</th>\n",
       "      <th>SearchEngine</th>\n",
       "      <th>Zone</th>\n",
       "      <th>Type of Traffic</th>\n",
       "      <th>CustomerType</th>\n",
       "      <th>Gender</th>\n",
       "      <th>Cookies Setting</th>\n",
       "      <th>Education</th>\n",
       "      <th>Marital Status</th>\n",
       "      <th>WeekendPurchase</th>\n",
       "    </tr>\n",
       "  </thead>\n",
       "  <tbody>\n",
       "    <tr>\n",
       "      <th>0</th>\n",
       "      <td>0.0</td>\n",
       "      <td>0.000000</td>\n",
       "      <td>0.0</td>\n",
       "      <td>0.0</td>\n",
       "      <td>1.0</td>\n",
       "      <td>0.000000</td>\n",
       "      <td>0.200000</td>\n",
       "      <td>0.200000</td>\n",
       "      <td>0.0</td>\n",
       "      <td>0.0</td>\n",
       "      <td>...</td>\n",
       "      <td>1.0</td>\n",
       "      <td>1.0</td>\n",
       "      <td>1.0</td>\n",
       "      <td>1.0</td>\n",
       "      <td>2.0</td>\n",
       "      <td>2.0</td>\n",
       "      <td>1.0</td>\n",
       "      <td>2.0</td>\n",
       "      <td>2.0</td>\n",
       "      <td>0.0</td>\n",
       "    </tr>\n",
       "    <tr>\n",
       "      <th>1</th>\n",
       "      <td>0.0</td>\n",
       "      <td>0.000000</td>\n",
       "      <td>0.0</td>\n",
       "      <td>0.0</td>\n",
       "      <td>2.0</td>\n",
       "      <td>64.000000</td>\n",
       "      <td>0.000000</td>\n",
       "      <td>0.100000</td>\n",
       "      <td>0.0</td>\n",
       "      <td>0.0</td>\n",
       "      <td>...</td>\n",
       "      <td>2.0</td>\n",
       "      <td>2.0</td>\n",
       "      <td>1.0</td>\n",
       "      <td>2.0</td>\n",
       "      <td>2.0</td>\n",
       "      <td>2.0</td>\n",
       "      <td>0.0</td>\n",
       "      <td>1.0</td>\n",
       "      <td>0.0</td>\n",
       "      <td>0.0</td>\n",
       "    </tr>\n",
       "    <tr>\n",
       "      <th>2</th>\n",
       "      <td>0.0</td>\n",
       "      <td>0.000000</td>\n",
       "      <td>0.0</td>\n",
       "      <td>0.0</td>\n",
       "      <td>19.0</td>\n",
       "      <td>154.216667</td>\n",
       "      <td>0.015789</td>\n",
       "      <td>0.024561</td>\n",
       "      <td>0.0</td>\n",
       "      <td>0.0</td>\n",
       "      <td>...</td>\n",
       "      <td>2.0</td>\n",
       "      <td>2.0</td>\n",
       "      <td>1.0</td>\n",
       "      <td>3.0</td>\n",
       "      <td>2.0</td>\n",
       "      <td>0.0</td>\n",
       "      <td>2.0</td>\n",
       "      <td>0.0</td>\n",
       "      <td>1.0</td>\n",
       "      <td>0.0</td>\n",
       "    </tr>\n",
       "    <tr>\n",
       "      <th>3</th>\n",
       "      <td>0.0</td>\n",
       "      <td>0.000000</td>\n",
       "      <td>0.0</td>\n",
       "      <td>0.0</td>\n",
       "      <td>2.0</td>\n",
       "      <td>37.000000</td>\n",
       "      <td>0.000000</td>\n",
       "      <td>0.100000</td>\n",
       "      <td>0.0</td>\n",
       "      <td>0.8</td>\n",
       "      <td>...</td>\n",
       "      <td>2.0</td>\n",
       "      <td>2.0</td>\n",
       "      <td>2.0</td>\n",
       "      <td>3.0</td>\n",
       "      <td>2.0</td>\n",
       "      <td>2.0</td>\n",
       "      <td>2.0</td>\n",
       "      <td>1.0</td>\n",
       "      <td>1.0</td>\n",
       "      <td>0.0</td>\n",
       "    </tr>\n",
       "    <tr>\n",
       "      <th>4</th>\n",
       "      <td>0.0</td>\n",
       "      <td>0.000000</td>\n",
       "      <td>0.0</td>\n",
       "      <td>0.0</td>\n",
       "      <td>16.0</td>\n",
       "      <td>407.750000</td>\n",
       "      <td>0.018750</td>\n",
       "      <td>0.025833</td>\n",
       "      <td>0.0</td>\n",
       "      <td>0.4</td>\n",
       "      <td>...</td>\n",
       "      <td>1.0</td>\n",
       "      <td>1.0</td>\n",
       "      <td>4.0</td>\n",
       "      <td>3.0</td>\n",
       "      <td>2.0</td>\n",
       "      <td>0.0</td>\n",
       "      <td>1.0</td>\n",
       "      <td>3.0</td>\n",
       "      <td>1.0</td>\n",
       "      <td>0.0</td>\n",
       "    </tr>\n",
       "    <tr>\n",
       "      <th>...</th>\n",
       "      <td>...</td>\n",
       "      <td>...</td>\n",
       "      <td>...</td>\n",
       "      <td>...</td>\n",
       "      <td>...</td>\n",
       "      <td>...</td>\n",
       "      <td>...</td>\n",
       "      <td>...</td>\n",
       "      <td>...</td>\n",
       "      <td>...</td>\n",
       "      <td>...</td>\n",
       "      <td>...</td>\n",
       "      <td>...</td>\n",
       "      <td>...</td>\n",
       "      <td>...</td>\n",
       "      <td>...</td>\n",
       "      <td>...</td>\n",
       "      <td>...</td>\n",
       "      <td>...</td>\n",
       "      <td>...</td>\n",
       "      <td>...</td>\n",
       "    </tr>\n",
       "    <tr>\n",
       "      <th>6594</th>\n",
       "      <td>0.0</td>\n",
       "      <td>0.000000</td>\n",
       "      <td>0.0</td>\n",
       "      <td>0.0</td>\n",
       "      <td>7.0</td>\n",
       "      <td>208.000000</td>\n",
       "      <td>0.000000</td>\n",
       "      <td>0.028571</td>\n",
       "      <td>0.0</td>\n",
       "      <td>0.0</td>\n",
       "      <td>...</td>\n",
       "      <td>4.0</td>\n",
       "      <td>1.0</td>\n",
       "      <td>1.0</td>\n",
       "      <td>5.0</td>\n",
       "      <td>2.0</td>\n",
       "      <td>2.0</td>\n",
       "      <td>2.0</td>\n",
       "      <td>1.0</td>\n",
       "      <td>1.0</td>\n",
       "      <td>1.0</td>\n",
       "    </tr>\n",
       "    <tr>\n",
       "      <th>6595</th>\n",
       "      <td>0.0</td>\n",
       "      <td>0.000000</td>\n",
       "      <td>3.0</td>\n",
       "      <td>44.0</td>\n",
       "      <td>179.0</td>\n",
       "      <td>1738.472529</td>\n",
       "      <td>0.000027</td>\n",
       "      <td>0.025998</td>\n",
       "      <td>0.0</td>\n",
       "      <td>0.0</td>\n",
       "      <td>...</td>\n",
       "      <td>2.0</td>\n",
       "      <td>4.0</td>\n",
       "      <td>9.0</td>\n",
       "      <td>11.0</td>\n",
       "      <td>2.0</td>\n",
       "      <td>1.0</td>\n",
       "      <td>2.0</td>\n",
       "      <td>2.0</td>\n",
       "      <td>1.0</td>\n",
       "      <td>0.0</td>\n",
       "    </tr>\n",
       "    <tr>\n",
       "      <th>6596</th>\n",
       "      <td>5.0</td>\n",
       "      <td>99.166667</td>\n",
       "      <td>1.0</td>\n",
       "      <td>27.0</td>\n",
       "      <td>33.0</td>\n",
       "      <td>0.000000</td>\n",
       "      <td>0.002778</td>\n",
       "      <td>0.009127</td>\n",
       "      <td>0.0</td>\n",
       "      <td>0.6</td>\n",
       "      <td>...</td>\n",
       "      <td>8.0</td>\n",
       "      <td>5.0</td>\n",
       "      <td>1.0</td>\n",
       "      <td>2.0</td>\n",
       "      <td>2.0</td>\n",
       "      <td>0.0</td>\n",
       "      <td>2.0</td>\n",
       "      <td>1.0</td>\n",
       "      <td>0.0</td>\n",
       "      <td>0.0</td>\n",
       "    </tr>\n",
       "    <tr>\n",
       "      <th>6597</th>\n",
       "      <td>0.0</td>\n",
       "      <td>0.000000</td>\n",
       "      <td>0.0</td>\n",
       "      <td>0.0</td>\n",
       "      <td>3.0</td>\n",
       "      <td>9.000000</td>\n",
       "      <td>0.066667</td>\n",
       "      <td>0.133333</td>\n",
       "      <td>0.0</td>\n",
       "      <td>0.0</td>\n",
       "      <td>...</td>\n",
       "      <td>2.0</td>\n",
       "      <td>2.0</td>\n",
       "      <td>2.0</td>\n",
       "      <td>3.0</td>\n",
       "      <td>2.0</td>\n",
       "      <td>2.0</td>\n",
       "      <td>1.0</td>\n",
       "      <td>0.0</td>\n",
       "      <td>1.0</td>\n",
       "      <td>1.0</td>\n",
       "    </tr>\n",
       "    <tr>\n",
       "      <th>6598</th>\n",
       "      <td>0.0</td>\n",
       "      <td>0.000000</td>\n",
       "      <td>0.0</td>\n",
       "      <td>0.0</td>\n",
       "      <td>6.0</td>\n",
       "      <td>313.000000</td>\n",
       "      <td>0.000000</td>\n",
       "      <td>0.050000</td>\n",
       "      <td>0.0</td>\n",
       "      <td>0.0</td>\n",
       "      <td>...</td>\n",
       "      <td>2.0</td>\n",
       "      <td>4.0</td>\n",
       "      <td>3.0</td>\n",
       "      <td>1.0</td>\n",
       "      <td>2.0</td>\n",
       "      <td>1.0</td>\n",
       "      <td>2.0</td>\n",
       "      <td>0.0</td>\n",
       "      <td>2.0</td>\n",
       "      <td>0.0</td>\n",
       "    </tr>\n",
       "  </tbody>\n",
       "</table>\n",
       "<p>6599 rows × 21 columns</p>\n",
       "</div>"
      ],
      "text/plain": [
       "      HomePage  HomePage_Duration  LandingPage  LandingPage_Duration  \\\n",
       "0          0.0           0.000000          0.0                   0.0   \n",
       "1          0.0           0.000000          0.0                   0.0   \n",
       "2          0.0           0.000000          0.0                   0.0   \n",
       "3          0.0           0.000000          0.0                   0.0   \n",
       "4          0.0           0.000000          0.0                   0.0   \n",
       "...        ...                ...          ...                   ...   \n",
       "6594       0.0           0.000000          0.0                   0.0   \n",
       "6595       0.0           0.000000          3.0                  44.0   \n",
       "6596       5.0          99.166667          1.0                  27.0   \n",
       "6597       0.0           0.000000          0.0                   0.0   \n",
       "6598       0.0           0.000000          0.0                   0.0   \n",
       "\n",
       "      ProductDescriptionPage  ProductDescriptionPage_Duration  \\\n",
       "0                        1.0                         0.000000   \n",
       "1                        2.0                        64.000000   \n",
       "2                       19.0                       154.216667   \n",
       "3                        2.0                        37.000000   \n",
       "4                       16.0                       407.750000   \n",
       "...                      ...                              ...   \n",
       "6594                     7.0                       208.000000   \n",
       "6595                   179.0                      1738.472529   \n",
       "6596                    33.0                         0.000000   \n",
       "6597                     3.0                         9.000000   \n",
       "6598                     6.0                       313.000000   \n",
       "\n",
       "      GoogleMetric:Bounce Rates  GoogleMetric:Exit Rates  \\\n",
       "0                      0.200000                 0.200000   \n",
       "1                      0.000000                 0.100000   \n",
       "2                      0.015789                 0.024561   \n",
       "3                      0.000000                 0.100000   \n",
       "4                      0.018750                 0.025833   \n",
       "...                         ...                      ...   \n",
       "6594                   0.000000                 0.028571   \n",
       "6595                   0.000027                 0.025998   \n",
       "6596                   0.002778                 0.009127   \n",
       "6597                   0.066667                 0.133333   \n",
       "6598                   0.000000                 0.050000   \n",
       "\n",
       "      GoogleMetric:Page Values  SeasonalPurchase  ...   OS  SearchEngine  \\\n",
       "0                          0.0               0.0  ...  1.0           1.0   \n",
       "1                          0.0               0.0  ...  2.0           2.0   \n",
       "2                          0.0               0.0  ...  2.0           2.0   \n",
       "3                          0.0               0.8  ...  2.0           2.0   \n",
       "4                          0.0               0.4  ...  1.0           1.0   \n",
       "...                        ...               ...  ...  ...           ...   \n",
       "6594                       0.0               0.0  ...  4.0           1.0   \n",
       "6595                       0.0               0.0  ...  2.0           4.0   \n",
       "6596                       0.0               0.6  ...  8.0           5.0   \n",
       "6597                       0.0               0.0  ...  2.0           2.0   \n",
       "6598                       0.0               0.0  ...  2.0           4.0   \n",
       "\n",
       "      Zone  Type of Traffic  CustomerType  Gender  Cookies Setting  Education  \\\n",
       "0      1.0              1.0           2.0     2.0              1.0        2.0   \n",
       "1      1.0              2.0           2.0     2.0              0.0        1.0   \n",
       "2      1.0              3.0           2.0     0.0              2.0        0.0   \n",
       "3      2.0              3.0           2.0     2.0              2.0        1.0   \n",
       "4      4.0              3.0           2.0     0.0              1.0        3.0   \n",
       "...    ...              ...           ...     ...              ...        ...   \n",
       "6594   1.0              5.0           2.0     2.0              2.0        1.0   \n",
       "6595   9.0             11.0           2.0     1.0              2.0        2.0   \n",
       "6596   1.0              2.0           2.0     0.0              2.0        1.0   \n",
       "6597   2.0              3.0           2.0     2.0              1.0        0.0   \n",
       "6598   3.0              1.0           2.0     1.0              2.0        0.0   \n",
       "\n",
       "      Marital Status  WeekendPurchase  \n",
       "0                2.0              0.0  \n",
       "1                0.0              0.0  \n",
       "2                1.0              0.0  \n",
       "3                1.0              0.0  \n",
       "4                1.0              0.0  \n",
       "...              ...              ...  \n",
       "6594             1.0              1.0  \n",
       "6595             1.0              0.0  \n",
       "6596             0.0              0.0  \n",
       "6597             1.0              1.0  \n",
       "6598             2.0              0.0  \n",
       "\n",
       "[6599 rows x 21 columns]"
      ]
     },
     "execution_count": 122,
     "metadata": {},
     "output_type": "execute_result"
    }
   ],
   "source": [
    "df"
   ]
  },
  {
   "cell_type": "code",
   "execution_count": 123,
   "id": "f2b565df",
   "metadata": {
    "execution": {
     "iopub.execute_input": "2023-03-28T20:30:58.981788Z",
     "iopub.status.busy": "2023-03-28T20:30:58.981346Z",
     "iopub.status.idle": "2023-03-28T20:30:58.986790Z",
     "shell.execute_reply": "2023-03-28T20:30:58.985177Z"
    },
    "papermill": {
     "duration": 0.04696,
     "end_time": "2023-03-28T20:30:58.989244",
     "exception": false,
     "start_time": "2023-03-28T20:30:58.942284",
     "status": "completed"
    },
    "tags": []
   },
   "outputs": [],
   "source": [
    "x=df"
   ]
  },
  {
   "cell_type": "code",
   "execution_count": 124,
   "id": "7cc8422f",
   "metadata": {
    "execution": {
     "iopub.execute_input": "2023-03-28T20:30:59.064515Z",
     "iopub.status.busy": "2023-03-28T20:30:59.064070Z",
     "iopub.status.idle": "2023-03-28T20:30:59.097488Z",
     "shell.execute_reply": "2023-03-28T20:30:59.095738Z"
    },
    "papermill": {
     "duration": 0.075203,
     "end_time": "2023-03-28T20:30:59.101313",
     "exception": false,
     "start_time": "2023-03-28T20:30:59.026110",
     "status": "completed"
    },
    "tags": []
   },
   "outputs": [],
   "source": [
    "sub = pd.DataFrame(model.predict(x), columns=['Made_Purchase'])\n",
    "sub.index.name = 'id'\n",
    "sub.to_csv(\"submission.csv\", encoding='utf-8')\n",
    "\n",
    "output = pd.read_csv(\"submission.csv\")"
   ]
  }
 ],
 "metadata": {
  "kernelspec": {
   "display_name": "Python 3",
   "language": "python",
   "name": "python3"
  },
  "language_info": {
   "codemirror_mode": {
    "name": "ipython",
    "version": 3
   },
   "file_extension": ".py",
   "mimetype": "text/x-python",
   "name": "python",
   "nbconvert_exporter": "python",
   "pygments_lexer": "ipython3",
   "version": "3.7.12"
  },
  "papermill": {
   "default_parameters": {},
   "duration": 23.653514,
   "end_time": "2023-03-28T20:30:59.887365",
   "environment_variables": {},
   "exception": null,
   "input_path": "__notebook__.ipynb",
   "output_path": "__notebook__.ipynb",
   "parameters": {},
   "start_time": "2023-03-28T20:30:36.233851",
   "version": "2.3.4"
  }
 },
 "nbformat": 4,
 "nbformat_minor": 5
}
